{
 "cells": [
  {
   "cell_type": "code",
   "execution_count": 1,
   "id": "e242c965-b021-4066-ba9f-e12807e9e48d",
   "metadata": {},
   "outputs": [],
   "source": [
    "%load_ext autoreload\n",
    "%autoreload 2"
   ]
  },
  {
   "cell_type": "code",
   "execution_count": 2,
   "id": "36727b2c-71c9-4036-9e3f-6e23e80415aa",
   "metadata": {},
   "outputs": [],
   "source": [
    "import sys\n",
    "sys.path.append(\"../../lib\")"
   ]
  },
  {
   "cell_type": "code",
   "execution_count": 3,
   "id": "e43d51ce-62e0-4df3-aa63-406fcb541606",
   "metadata": {},
   "outputs": [],
   "source": [
    "import matplotlib.pyplot as plt\n",
    "import numpy as np\n",
    "import temporal_encoder_common\n",
    "from temporal_encoder_common import Filters\n",
    "import nonneg_common\n",
    "import lif_utils\n",
    "import nengo\n",
    "import dlop_ldn_function_bases as bases"
   ]
  },
  {
   "cell_type": "code",
   "execution_count": 27,
   "id": "7ec3a3e8-12b1-4dcf-9bb0-6f059872d364",
   "metadata": {},
   "outputs": [],
   "source": [
    "def mk_decaying_oscillator(f, tau=100e-3, T=1.0, dt=1e-3):\n",
    "    ts = np.arange(0, T, dt)\n",
    "    if tau is None:\n",
    "        hs = np.ones_like(ts)\n",
    "    else:\n",
    "        hs = np.exp(-ts / tau)\n",
    "        hs /= np.sum(hs) * dt\n",
    "    return ts, np.array([\n",
    "        np.sin(2.0 * np.pi * f * ts) * hs,\n",
    "        np.cos(2.0 * np.pi * f * ts) * hs,\n",
    "    ]).T"
   ]
  },
  {
   "cell_type": "code",
   "execution_count": 82,
   "id": "72fbfe25-b9af-4803-a398-0aac48b9efc7",
   "metadata": {},
   "outputs": [],
   "source": [
    "def mk_decaying_oscillator2(f, tau=100e-3, T=1.0, dt=1e-3):\n",
    "    ts = np.arange(0, T, dt)\n",
    "    if tau is None:\n",
    "        hs = np.ones_like(ts)\n",
    "    else:\n",
    "        hs = np.exp(-ts / tau)\n",
    "        hs /= np.sum(hs) * dt\n",
    "    return ts, np.array([\n",
    "        np.sin(-2.0 * np.pi * f * np.exp(-ts)) * hs,\n",
    "        np.cos(2.0 * np.pi * f * np.exp(-ts)) * hs,\n",
    "    ]).T"
   ]
  },
  {
   "cell_type": "code",
   "execution_count": 83,
   "id": "8fa77c15-d983-4443-a40f-69e40718a2c7",
   "metadata": {},
   "outputs": [],
   "source": [
    "def mk_high_pass(f, tau, T=1.0, dt=1e-3):\n",
    "    ts = np.arange(0, T, dt)\n",
    "    hs0 = np.exp(-ts / tau)\n",
    "    hs0 /= np.sum(hs0) * dt\n",
    "    hs1 = np.exp(-ts / (2.0 * tau))\n",
    "    hs1 /= np.sum(hs1) * dt\n",
    "    return ts, np.array([\n",
    "        hs0 - 10 * (1.0 - hs0) * hs1\n",
    "    ]).T"
   ]
  },
  {
   "cell_type": "code",
   "execution_count": 84,
   "id": "f30d2c8b-f4de-4f65-9f98-5a0ac1b088e1",
   "metadata": {},
   "outputs": [],
   "source": [
    "T, dt = 10.0, 1e-3"
   ]
  },
  {
   "cell_type": "code",
   "execution_count": 100,
   "id": "7042fe89-e9c4-475c-80cd-8464016542c2",
   "metadata": {},
   "outputs": [
    {
     "data": {
      "text/plain": [
       "[<matplotlib.lines.Line2D at 0x7f51c2d71ee0>,\n",
       " <matplotlib.lines.Line2D at 0x7f51c2d71f40>]"
      ]
     },
     "execution_count": 100,
     "metadata": {},
     "output_type": "execute_result"
    },
    {
     "data": {
      "image/png": "[encoded data removed]",
      "text/plain": [
       "<Figure size 432x288 with 1 Axes>"
      ]
     },
     "metadata": {
      "needs_background": "light"
     },
     "output_type": "display_data"
    }
   ],
   "source": [
    "fig, ax = plt.subplots()\n",
    "ax.plot(*mk_decaying_oscillator2(1.2, tau=1.0, T=T, dt=dt))"
   ]
  },
  {
   "cell_type": "code",
   "execution_count": 31,
   "id": "a47a0bf7-fc04-42dc-a478-1906794ad54a",
   "metadata": {},
   "outputs": [],
   "source": [
    "def mk_encs(n, d, rng=np.random):\n",
    "    encs = rng.normal(0, 1, (n, d))\n",
    "    encs /= np.linalg.norm(encs, axis=1)[:, None]\n",
    "    return encs"
   ]
  },
  {
   "cell_type": "code",
   "execution_count": 225,
   "id": "f713edd9-fe0b-418e-8464-ad73cfc8a29c",
   "metadata": {},
   "outputs": [],
   "source": [
    "n_neurons = 100\n",
    "n_temporal_dimensions = 2\n",
    "n_dimensions = 1\n",
    "\n",
    "#gains, biases, _ = nonneg_common.mk_ensemble(n_neurons, d=1)\n",
    "gains = np.ones(n_neurons) * 3\n",
    "biases = np.ones(n_neurons)\n",
    "G = lif_utils.lif_rate\n",
    "TEs = mk_encs(n_neurons, n_temporal_dimensions)\n",
    "idcs = np.argsort(np.arctan2(TEs[:, 1], TEs[:, 0]), axis=0)\n",
    "TEs = TEs[idcs]\n",
    "Es = np.ones((n_neurons, 1))\n",
    "#Es = mk_encs(n_neurons, n_dimensions)\n",
    "\n",
    "ts, Ms = mk_decaying_oscillator(3.5, tau=None, T=T, dt=dt)\n",
    "#ts, Ms = mk_decaying_oscillator(5.0, tau=100e-3, T=T, dt=dt)\n",
    "#ts, Ms = mk_high_pass(5.0, tau=0.5, T=T, dt=dt)\n",
    "\n",
    "flts_in = [(100e-3,),]\n",
    "flts_rec = [(100e-3,),]"
   ]
  },
  {
   "cell_type": "code",
   "execution_count": 226,
   "id": "b7ad8153-8c4e-4960-8d99-5b93b16db8f1",
   "metadata": {},
   "outputs": [
    {
     "name": "stderr",
     "output_type": "stream",
     "text": [
      "100%|██████████| 1000/1000 [00:43<00:00, 22.77it/s]\n",
      "100%|██████████| 100/100 [00:01<00:00, 98.59it/s]\n"
     ]
    }
   ],
   "source": [
    "np.random.seed(58381)\n",
    "W_in, W_rec, errs = temporal_encoder_common.solve_for_recurrent_population_weights_with_spatial_encoder(\n",
    "    G, gains, biases, None, None, TEs, Es,\n",
    "    [Filters.lowpass(*flt_in) for flt_in in flts_in],\n",
    "    [Filters.lowpass(*flt_rec) for flt_rec in flts_rec],\n",
    "    Ms=Ms,\n",
    "    N_smpls=1000,\n",
    "    xs_sigma=3.0,\n",
    "    biased=False,\n",
    "    dt=dt)"
   ]
  },
  {
   "cell_type": "code",
   "execution_count": 227,
   "id": "c107ae73-8737-4bed-93b5-f7aeaba95013",
   "metadata": {},
   "outputs": [
    {
     "data": {
      "text/plain": [
       "array([0.02702981, 0.02700066, 0.02697592, 0.0265203 , 0.02650197,\n",
       "       0.02630237, 0.02618127, 0.02615718, 0.02616611, 0.02623826,\n",
       "       0.02626349, 0.02629218, 0.02635976, 0.02637451, 0.02702859,\n",
       "       0.02706828, 0.02732315, 0.02745027, 0.02755889, 0.02764987,\n",
       "       0.02809651, 0.02821739, 0.02839203, 0.02872884, 0.02876021,\n",
       "       0.02878767, 0.02886018, 0.02887524, 0.02894223, 0.02910185,\n",
       "       0.0291135 , 0.02911385, 0.02907214, 0.02898812, 0.02894794,\n",
       "       0.02848523, 0.02845159, 0.02828853, 0.02816498, 0.02757072,\n",
       "       0.02732997, 0.02716932, 0.02708799, 0.02693663, 0.0268936 ,\n",
       "       0.02653604, 0.02648517, 0.02626353, 0.02623726, 0.02619895,\n",
       "       0.02616785, 0.02616397, 0.02616238, 0.02614816, 0.02614934,\n",
       "       0.02614981, 0.0261698 , 0.02619622, 0.02621106, 0.02643274,\n",
       "       0.02674904, 0.02706239, 0.02706867, 0.02717294, 0.02728331,\n",
       "       0.02738756, 0.02740236, 0.02749776, 0.0281074 , 0.02818904,\n",
       "       0.02846258, 0.02870904, 0.02872147, 0.02899521, 0.02907991,\n",
       "       0.02908405, 0.02909031, 0.02909999, 0.02910261, 0.02910572,\n",
       "       0.02911011, 0.0291131 , 0.02904419, 0.0290396 , 0.02899025,\n",
       "       0.02893795, 0.02893363, 0.02892368, 0.02866549, 0.02861793,\n",
       "       0.02858338, 0.02856723, 0.02855544, 0.02852117, 0.02832235,\n",
       "       0.02806424, 0.02804269, 0.02803712, 0.02780347, 0.02746508])"
      ]
     },
     "execution_count": 227,
     "metadata": {},
     "output_type": "execute_result"
    }
   ],
   "source": [
    "errs"
   ]
  },
  {
   "cell_type": "code",
   "execution_count": 228,
   "id": "ee45ce3f-93b8-41f9-91f0-11bba8d3679c",
   "metadata": {},
   "outputs": [
    {
     "data": {
      "application/vdom.v1+json": {
       "attributes": {},
       "tagName": "div"
      },
      "text/html": [
       "\n",
       "                <script>\n",
       "                    if (Jupyter.version.split(\".\")[0] < 5) {\n",
       "                        var pb = document.getElementById(\"e1e99996-73bb-48c0-85ca-90f3dd928226\");\n",
       "                        var text = document.createTextNode(\n",
       "                            \"HMTL progress bar requires Jupyter Notebook >= \" +\n",
       "                            \"5.0 or Jupyter Lab. Alternatively, you can use \" +\n",
       "                            \"TerminalProgressBar().\");\n",
       "                        pb.parentNode.insertBefore(text, pb);\n",
       "                    }\n",
       "                </script>\n",
       "                <div id=\"e1e99996-73bb-48c0-85ca-90f3dd928226\" style=\"\n",
       "                    width: 100%;\n",
       "                    border: 1px solid #cfcfcf;\n",
       "                    border-radius: 4px;\n",
       "                    text-align: center;\n",
       "                    position: relative;\">\n",
       "                  <div class=\"pb-text\" style=\"\n",
       "                      position: absolute;\n",
       "                      width: 100%;\">\n",
       "                    0%\n",
       "                  </div>\n",
       "                  <div class=\"pb-fill\" style=\"\n",
       "                      background-color: #bdd2e6;\n",
       "                      width: 0%;\">\n",
       "                    <style type=\"text/css\" scoped=\"scoped\">\n",
       "                        @keyframes pb-fill-anim {\n",
       "                            0% { background-position: 0 0; }\n",
       "                            100% { background-position: 100px 0; }\n",
       "                        }\n",
       "                    </style>\n",
       "                    &nbsp;\n",
       "                  </div>\n",
       "                </div>"
      ],
      "text/plain": [
       "HtmlProgressBar cannot be displayed. Please use the TerminalProgressBar. It can be enabled with `nengo.rc['progress']['progress_bar'] = 'nengo.utils.progress.TerminalProgressBar'`."
      ]
     },
     "metadata": {},
     "output_type": "display_data"
    },
    {
     "data": {
      "application/vdom.v1+json": {
       "attributes": {
        "id": "d9ef214c-61aa-4d59-8273-0f506618de5d",
        "style": {
         "border": "1px solid #cfcfcf",
         "borderRadius": "4px",
         "boxSizing": "border-box",
         "position": "relative",
         "textAlign": "center",
         "width": "100%"
        }
       },
       "children": [
        {
         "attributes": {
          "class": "pb-text",
          "style": {
           "position": "absolute",
           "width": "100%"
          }
         },
         "children": [
          "Build finished in 0:00:01."
         ],
         "tagName": "div"
        },
        {
         "attributes": {
          "class": "pb-fill",
          "style": {
           "animation": "none",
           "backgroundColor": "#bdd2e6",
           "backgroundImage": "none",
           "backgroundSize": "100px 100%",
           "width": "100%"
          }
         },
         "children": [
          {
           "attributes": {
            "scoped": "scoped",
            "type": "text/css"
           },
           "children": [
            "\n                        @keyframes pb-fill-anim {\n                            0% { background-position: 0 0; }\n                            100% { background-position: 100px 0; }\n                        }}"
           ],
           "tagName": "style"
          },
          " "
         ],
         "tagName": "div"
        }
       ],
       "tagName": "div"
      },
      "text/html": [
       "<script>\n",
       "              (function () {\n",
       "                  var root = document.getElementById('e1e99996-73bb-48c0-85ca-90f3dd928226');\n",
       "                  var text = root.getElementsByClassName('pb-text')[0];\n",
       "                  var fill = root.getElementsByClassName('pb-fill')[0];\n",
       "\n",
       "                  text.innerHTML = 'Build finished in 0:00:01.';\n",
       "                  \n",
       "            fill.style.width = '100%';\n",
       "            fill.style.animation = 'pb-fill-anim 2s linear infinite';\n",
       "            fill.style.backgroundSize = '100px 100%';\n",
       "            fill.style.backgroundImage = 'repeating-linear-gradient(' +\n",
       "                '90deg, #bdd2e6, #edf2f8 40%, #bdd2e6 80%, #bdd2e6)';\n",
       "        \n",
       "                  \n",
       "                fill.style.animation = 'none';\n",
       "                fill.style.backgroundImage = 'none';\n",
       "            \n",
       "              })();\n",
       "        </script>"
      ]
     },
     "metadata": {},
     "output_type": "display_data"
    },
    {
     "data": {
      "application/vdom.v1+json": {
       "attributes": {},
       "tagName": "div"
      },
      "text/html": [
       "\n",
       "                <script>\n",
       "                    if (Jupyter.version.split(\".\")[0] < 5) {\n",
       "                        var pb = document.getElementById(\"9b6133eb-82c9-4b25-8b6e-d6e0b81b4b5a\");\n",
       "                        var text = document.createTextNode(\n",
       "                            \"HMTL progress bar requires Jupyter Notebook >= \" +\n",
       "                            \"5.0 or Jupyter Lab. Alternatively, you can use \" +\n",
       "                            \"TerminalProgressBar().\");\n",
       "                        pb.parentNode.insertBefore(text, pb);\n",
       "                    }\n",
       "                </script>\n",
       "                <div id=\"9b6133eb-82c9-4b25-8b6e-d6e0b81b4b5a\" style=\"\n",
       "                    width: 100%;\n",
       "                    border: 1px solid #cfcfcf;\n",
       "                    border-radius: 4px;\n",
       "                    text-align: center;\n",
       "                    position: relative;\">\n",
       "                  <div class=\"pb-text\" style=\"\n",
       "                      position: absolute;\n",
       "                      width: 100%;\">\n",
       "                    0%\n",
       "                  </div>\n",
       "                  <div class=\"pb-fill\" style=\"\n",
       "                      background-color: #bdd2e6;\n",
       "                      width: 0%;\">\n",
       "                    <style type=\"text/css\" scoped=\"scoped\">\n",
       "                        @keyframes pb-fill-anim {\n",
       "                            0% { background-position: 0 0; }\n",
       "                            100% { background-position: 100px 0; }\n",
       "                        }\n",
       "                    </style>\n",
       "                    &nbsp;\n",
       "                  </div>\n",
       "                </div>"
      ],
      "text/plain": [
       "HtmlProgressBar cannot be displayed. Please use the TerminalProgressBar. It can be enabled with `nengo.rc['progress']['progress_bar'] = 'nengo.utils.progress.TerminalProgressBar'`."
      ]
     },
     "metadata": {},
     "output_type": "display_data"
    },
    {
     "data": {
      "application/vdom.v1+json": {
       "attributes": {
        "id": "129cb165-84dd-412a-88fa-9bf6261f18da",
        "style": {
         "border": "1px solid #cfcfcf",
         "borderRadius": "4px",
         "boxSizing": "border-box",
         "position": "relative",
         "textAlign": "center",
         "width": "100%"
        }
       },
       "children": [
        {
         "attributes": {
          "class": "pb-text",
          "style": {
           "position": "absolute",
           "width": "100%"
          }
         },
         "children": [
          "Simulation finished in 0:00:14."
         ],
         "tagName": "div"
        },
        {
         "attributes": {
          "class": "pb-fill",
          "style": {
           "animation": "none",
           "backgroundColor": "#bdd2e6",
           "backgroundImage": "none",
           "transition": "width 0.1s linear",
           "width": "100%"
          }
         },
         "children": [
          {
           "attributes": {
            "scoped": "scoped",
            "type": "text/css"
           },
           "children": [
            "\n                        @keyframes pb-fill-anim {\n                            0% { background-position: 0 0; }\n                            100% { background-position: 100px 0; }\n                        }}"
           ],
           "tagName": "style"
          },
          " "
         ],
         "tagName": "div"
        }
       ],
       "tagName": "div"
      },
      "text/html": [
       "<script>\n",
       "              (function () {\n",
       "                  var root = document.getElementById('9b6133eb-82c9-4b25-8b6e-d6e0b81b4b5a');\n",
       "                  var text = root.getElementsByClassName('pb-text')[0];\n",
       "                  var fill = root.getElementsByClassName('pb-fill')[0];\n",
       "\n",
       "                  text.innerHTML = 'Simulation finished in 0:00:14.';\n",
       "                  \n",
       "            if (100.0 > 0.) {\n",
       "                fill.style.transition = 'width 0.1s linear';\n",
       "            } else {\n",
       "                fill.style.transition = 'none';\n",
       "            }\n",
       "\n",
       "            fill.style.width = '100.0%';\n",
       "            fill.style.animation = 'none';\n",
       "            fill.style.backgroundImage = 'none'\n",
       "        \n",
       "                  \n",
       "                fill.style.animation = 'none';\n",
       "                fill.style.backgroundImage = 'none';\n",
       "            \n",
       "              })();\n",
       "        </script>"
      ]
     },
     "metadata": {},
     "output_type": "display_data"
    }
   ],
   "source": [
    "np.random.seed(498184)\n",
    "\n",
    "def execute_network(xs,\n",
    "                    W_in,\n",
    "                    W_rec,\n",
    "                    gains,\n",
    "                    biases,\n",
    "                    T=10.0,\n",
    "                    dt=1e-4,\n",
    "                    tau=100e-3):\n",
    "    N = int(T / dt + 1e-9)\n",
    "    n_dims = n_dimensions\n",
    "    n_neurons = len(gains)\n",
    "\n",
    "    with nengo.Network() as model:\n",
    "        nd_in = nengo.Node(size_in=n_dims)\n",
    "        for i in range(n_dims):\n",
    "            #nd_noise = nengo.Node(nengo.processes.WhiteSignal(period=10.0, high=10.0, y0=0.0, rms=10.0))\n",
    "            nd_noise = nengo.Node(lambda t: 20.0 * np.logical_and(t >= 0.1, t <= 0.2))\n",
    "            nengo.Connection(nd_noise, nd_in[i], synapse=None)\n",
    "\n",
    "        ens_x = nengo.Ensemble(n_neurons=n_neurons,\n",
    "                               dimensions=n_temporal_dimensions,\n",
    "                               bias=biases,\n",
    "                               gain=gains,\n",
    "                               encoders=TEs)\n",
    "\n",
    "        nengo.Connection(nd_in,\n",
    "                         ens_x.neurons,\n",
    "                         transform=W_in[:, :, 0],\n",
    "                         synapse=tau)\n",
    "\n",
    "        nengo.Connection(ens_x.neurons,\n",
    "                         ens_x.neurons,\n",
    "                         transform=W_rec[:, :, 0],\n",
    "                         synapse=tau)\n",
    "\n",
    "        p_in = nengo.Probe(nd_in, synapse=None)\n",
    "        p_out = nengo.Probe(ens_x.neurons, synapse=None)\n",
    "        p_out_v = nengo.Probe(ens_x.neurons, 'voltage', synapse=None)\n",
    "\n",
    "    with nengo.Simulator(model, dt=dt) as sim:\n",
    "        sim.run(T)\n",
    "\n",
    "    return sim.trange(), sim.data[p_in], sim.data[p_out], sim.data[p_out_v]\n",
    "\n",
    "ts, xs, As, As_v = execute_network(None, W_in, W_rec, gains, biases)"
   ]
  },
  {
   "cell_type": "code",
   "execution_count": 229,
   "id": "bbd49f83-14c5-46a5-92f1-fe70333c729d",
   "metadata": {},
   "outputs": [
    {
     "data": {
      "text/plain": [
       "(0.0, 10.0)"
      ]
     },
     "execution_count": 229,
     "metadata": {},
     "output_type": "execute_result"
    },
    {
     "data": {
      "image/png": "[encoded data removed]",
      "text/plain": [
       "<Figure size 432x288 with 1 Axes>"
      ]
     },
     "metadata": {
      "needs_background": "light"
     },
     "output_type": "display_data"
    }
   ],
   "source": [
    "fig, ax = plt.subplots()\n",
    "ax.plot(ts, xs)\n",
    "ax.set_xlim(0, 10)"
   ]
  },
  {
   "cell_type": "code",
   "execution_count": 230,
   "id": "deac94dc-e244-406a-8525-63f293453a81",
   "metadata": {},
   "outputs": [
    {
     "data": {
      "text/plain": [
       "(0.0, 5.0)"
      ]
     },
     "execution_count": 230,
     "metadata": {},
     "output_type": "execute_result"
    },
    {
     "data": {
      "image/png": "[encoded data removed]",
      "text/plain": [
       "<Figure size 432x288 with 1 Axes>"
      ]
     },
     "metadata": {
      "needs_background": "light"
     },
     "output_type": "display_data"
    }
   ],
   "source": [
    "fig, ax = plt.subplots()\n",
    "ax.eventplot([np.where(As[:, i])[0] * 1e-4 for i in range(n_neurons)]);\n",
    "ax.set_xlim(0, 5)"
   ]
  },
  {
   "cell_type": "code",
   "execution_count": 231,
   "id": "449f9248-ca82-46f0-a64d-89e4f0a073c1",
   "metadata": {},
   "outputs": [
    {
     "data": {
      "text/plain": [
       "(2.0, 5.0)"
      ]
     },
     "execution_count": 231,
     "metadata": {},
     "output_type": "execute_result"
    },
    {
     "data": {
      "image/png": "[encoded data removed]",
      "text/plain": [
       "<Figure size 432x288 with 1 Axes>"
      ]
     },
     "metadata": {
      "needs_background": "light"
     },
     "output_type": "display_data"
    }
   ],
   "source": [
    "fig, ax = plt.subplots()\n",
    "ax.plot(ts, np.clip(As_v + As, None, 5)[:, 10])\n",
    "ax.set_xlim(2, 5)"
   ]
  },
  {
   "cell_type": "code",
   "execution_count": null,
   "id": "59b9336c-1132-46f3-b78e-fefa92ad2a64",
   "metadata": {},
   "outputs": [],
   "source": []
  }
 ],
 "metadata": {
  "kernelspec": {
   "display_name": "Python 3",
   "language": "python",
   "name": "python3"
  },
  "language_info": {
   "codemirror_mode": {
    "name": "ipython",
    "version": 3
   },
   "file_extension": ".py",
   "mimetype": "text/x-python",
   "name": "python",
   "nbconvert_exporter": "python",
   "pygments_lexer": "ipython3",
   "version": "3.9.7"
  }
 },
 "nbformat": 4,
 "nbformat_minor": 5
}
