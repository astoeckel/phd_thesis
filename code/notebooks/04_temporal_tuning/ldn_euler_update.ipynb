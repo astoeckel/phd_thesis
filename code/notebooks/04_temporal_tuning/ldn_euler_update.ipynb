{
 "cells": [
  {
   "cell_type": "code",
   "execution_count": 17,
   "id": "e8948e64-78be-4a27-8d72-28aa4ce2b4e3",
   "metadata": {},
   "outputs": [],
   "source": [
    "import numpy as np\n",
    "import dlop_ldn_function_bases as bases"
   ]
  },
  {
   "cell_type": "code",
   "execution_count": 18,
   "id": "a6660220-25ca-4b9e-9b1d-cdc1a2266f84",
   "metadata": {},
   "outputs": [],
   "source": [
    "def euler_ldn_update(m, u, q, theta, dt):\n",
    "    m = np.concatenate(((0,), m))\n",
    "    μ, mp = np.zeros((2, q + 1))\n",
    "    μ[1] = np.sum(m)\n",
    "    mp[1] = m[1] - (dt / theta) * (μ[1] - u)\n",
    "    for i in range(2, q + 1):\n",
    "        k = i - 2 if i >= 3 else 1\n",
    "        μ[i] = μ[k] - 2.0 * m[i - 1]\n",
    "        mp[i] = m[i] - (2.0 * i - 1.0) * (dt / theta) * (μ[i] + ((-1)**i) * u)\n",
    "    return mp[1:]"
   ]
  },
  {
   "cell_type": "code",
   "execution_count": 19,
   "id": "290382d7-44a8-48bd-b162-764df0997a53",
   "metadata": {},
   "outputs": [
    {
     "name": "stdout",
     "output_type": "stream",
     "text": [
      "[ 0.46032319 -0.4072411  -0.05792628  3.17334342  1.11114138] [ 0.46032319 -0.4072411  -0.05792628  3.17334342  1.11114138] 6.938893903907228e-18\n"
     ]
    }
   ],
   "source": [
    "dt, theta = 1e-3, 0.5\n",
    "for q in [5]:\n",
    "    A, B = bases.mk_ldn_lti(q)\n",
    "    u = np.random.randn()\n",
    "    m = np.random.randn(q)\n",
    "    mp = m + (dt / theta) * (A @ m + B * u)\n",
    "    mpp = euler_ldn_update(m, u, q, theta, dt)\n",
    "    print(mp, mpp, np.max(np.abs(mp - mpp)))"
   ]
  },
  {
   "cell_type": "code",
   "execution_count": 22,
   "id": "5dd768c2-e508-4824-9f14-3c6637d53dba",
   "metadata": {},
   "outputs": [
    {
     "data": {
      "text/plain": [
       "array([[-1., -1., -1., -1., -1., -1.],\n",
       "       [ 1., -1., -1., -1., -1., -1.],\n",
       "       [-1.,  1., -1., -1., -1., -1.],\n",
       "       [ 1., -1.,  1., -1., -1., -1.],\n",
       "       [-1.,  1., -1.,  1., -1., -1.],\n",
       "       [ 1., -1.,  1., -1.,  1., -1.]])"
      ]
     },
     "execution_count": 22,
     "metadata": {},
     "output_type": "execute_result"
    }
   ],
   "source": [
    "q = 6\n",
    "A = np.zeros((q + 1, q + 1))\n",
    "for i in range(1, q + 1):\n",
    "    for j in range(1, q + 1):\n",
    "        A[i, j] = -1 if i <= j else (-1) ** (i - j + 1)\n",
    "A[1:, 1:]"
   ]
  }
 ],
 "metadata": {
  "kernelspec": {
   "display_name": "Python 3",
   "language": "python",
   "name": "python3"
  },
  "language_info": {
   "codemirror_mode": {
    "name": "ipython",
    "version": 3
   },
   "file_extension": ".py",
   "mimetype": "text/x-python",
   "name": "python",
   "nbconvert_exporter": "python",
   "pygments_lexer": "ipython3",
   "version": "3.9.7"
  }
 },
 "nbformat": 4,
 "nbformat_minor": 5
}
