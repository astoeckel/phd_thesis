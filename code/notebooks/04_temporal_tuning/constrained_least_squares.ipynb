{
 "cells": [
  {
   "cell_type": "code",
   "execution_count": 1,
   "id": "f2c91fcc-fef1-41ff-878d-5842328ae967",
   "metadata": {},
   "outputs": [],
   "source": [
    "import numpy as np"
   ]
  },
  {
   "cell_type": "code",
   "execution_count": 2,
   "id": "4666bf9a-5031-49d4-b68a-ca04f1d5806c",
   "metadata": {},
   "outputs": [],
   "source": [
    "N = 10\n",
    "A = np.random.randn(N, N)\n",
    "b = np.random.randn(N)\n",
    "C = np.random.randn(1, N)\n",
    "d = np.random.randn(1)"
   ]
  },
  {
   "cell_type": "code",
   "execution_count": 12,
   "id": "f85a27cb-b04d-45d3-a9df-cc2ab6e00f88",
   "metadata": {},
   "outputs": [],
   "source": [
    "def lstsq_cstr(A, b, C, d, reg=1e-3):\n",
    "    A, b, C, d = np.array(A), np.array(b), np.array(C), np.array(d)\n",
    "\n",
    "    assert A.ndim == 2\n",
    "    assert b.ndim == 1\n",
    "    assert C.ndim == 2\n",
    "    assert d.ndim == 1\n",
    "\n",
    "    assert A.shape[0] == b.shape[0]\n",
    "    assert A.shape[1] == C.shape[1]\n",
    "    assert C.shape[0] == d.shape[0]\n",
    "\n",
    "    N_smpls = A.shape[0]\n",
    "    N_vars = A.shape[1]\n",
    "    N_cstr = C.shape[0]\n",
    "\n",
    "    P = np.zeros((N_vars + N_cstr, N_vars + N_cstr))\n",
    "    P[:N_vars, :N_vars] = 2 * (A.T @ A + N_smpls * np.square(reg))\n",
    "    P[:N_vars, N_vars:] = -C.T\n",
    "    P[N_vars:, :N_vars] = C\n",
    "\n",
    "    q = np.zeros((N_vars + N_cstr))\n",
    "    q[:N_vars] = 2 * A.T @ b\n",
    "    q[N_vars] = d\n",
    "\n",
    "    return np.linalg.solve(P, q)[:N_vars]"
   ]
  },
  {
   "cell_type": "code",
   "execution_count": 13,
   "id": "f50c31cf-531f-4ac8-a8e5-d8a1635c9155",
   "metadata": {},
   "outputs": [
    {
     "data": {
      "text/plain": [
       "(1.7794406490223373e-14, array([13.88351492]))"
      ]
     },
     "execution_count": 13,
     "metadata": {},
     "output_type": "execute_result"
    }
   ],
   "source": [
    "x = np.linalg.lstsq(A, b, rcond=None)[0]\n",
    "np.linalg.norm(A @ x - b), C @ x"
   ]
  },
  {
   "cell_type": "code",
   "execution_count": 14,
   "id": "c3863f26-cec4-443e-9eb1-62ea97d8a1a2",
   "metadata": {},
   "outputs": [
    {
     "data": {
      "text/plain": [
       "(0.0002658492797377697, array([13.88351492]))"
      ]
     },
     "execution_count": 14,
     "metadata": {},
     "output_type": "execute_result"
    }
   ],
   "source": [
    "x = lstsq_cstr(A, b, C, C @ x, reg=1e-3)\n",
    "np.linalg.norm(A @ x - b), C @ x"
   ]
  },
  {
   "cell_type": "code",
   "execution_count": null,
   "id": "715a14f7-0c62-4ec8-9f59-ff8c7a6cd16d",
   "metadata": {},
   "outputs": [],
   "source": []
  }
 ],
 "metadata": {
  "kernelspec": {
   "display_name": "Python 3",
   "language": "python",
   "name": "python3"
  },
  "language_info": {
   "codemirror_mode": {
    "name": "ipython",
    "version": 3
   },
   "file_extension": ".py",
   "mimetype": "text/x-python",
   "name": "python",
   "nbconvert_exporter": "python",
   "pygments_lexer": "ipython3",
   "version": "3.9.7"
  }
 },
 "nbformat": 4,
 "nbformat_minor": 5
}
