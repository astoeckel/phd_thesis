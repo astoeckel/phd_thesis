{
 "cells": [
  {
   "cell_type": "code",
   "execution_count": 3,
   "id": "9dcc03c9-beb5-4062-a6c1-4819715e63c2",
   "metadata": {},
   "outputs": [],
   "source": [
    "import dlop_ldn_function_bases as bases\n",
    "import matplotlib.pyplot as plt\n",
    "import numpy as np\n",
    "import scipy.linalg\n",
    "import tqdm"
   ]
  },
  {
   "cell_type": "code",
   "execution_count": 10,
   "id": "b60f10fa-9346-4f58-8693-2066dad8801a",
   "metadata": {},
   "outputs": [],
   "source": [
    "def mk_mod_fourier_lti(q, fac=0.9, Ninternal=1000):\n",
    "    def mk_fourier_oscillator(q, mul=1.0):\n",
    "        B = (np.arange(0, q) + 1) % 2\n",
    "        A = np.zeros((q, q))\n",
    "        for k in range(1, q):\n",
    "            ki = (k + 1) // 2\n",
    "            fk = 2.0 * np.pi * mul * ki\n",
    "            A[2 * ki - 1, 2 * ki - 1] = 0\n",
    "            A[2 * ki - 1, 2 * ki + 0] =  fk\n",
    "            A[2 * ki + 0, 2 * ki - 1] = -fk\n",
    "            A[2 * ki + 0, 2 * ki + 0] = 0\n",
    "        return A, B\n",
    "\n",
    "    assert q % 2 == 1\n",
    "\n",
    "    A, B = mk_fourier_oscillator(q, mul=0.9)\n",
    "    Ad, Bd = np.zeros((q, q)), np.zeros((q,))\n",
    "\n",
    "    Ad[1:, 1:], Bd[1:] = bases.discretize_lti(1.0 / Ninternal, A[1:, 1:], B[1:])\n",
    "    Bd[0] = 1e-3\n",
    "    Ad[0, 0] = 1.0\n",
    "\n",
    "    H = bases.mk_lti_basis(Ad, Bd, Ninternal, from_discrete_lti=True, normalize=False)\n",
    "    enc = H[:, 0]\n",
    "    dec = np.linalg.pinv(H, rcond=1e-2)[0]\n",
    "\n",
    "    Ad = Ad - np.outer(enc, dec) @ Ad\n",
    "    Bd = Bd - np.outer(enc, dec) @ Bd\n",
    "\n",
    "    A = np.real(scipy.linalg.logm(Ad)) * Ninternal\n",
    "    return A, B"
   ]
  },
  {
   "cell_type": "code",
   "execution_count": 11,
   "id": "9dbc2e40-5943-4a71-b923-009e6a2980a8",
   "metadata": {},
   "outputs": [],
   "source": [
    "def mk_mod_fourier_basis(q, N, Nmul=1, fac=0.9, Ninternal=1000):\n",
    "    A, B = mk_mod_fourier_lti(q, fac, Ninternal)\n",
    "    return bases.mk_lti_basis(A, B, N, N * Nmul)"
   ]
  },
  {
   "cell_type": "code",
   "execution_count": 16,
   "id": "0dbf7f26-6872-4d9c-89f5-f2db55658b48",
   "metadata": {},
   "outputs": [
    {
     "name": "stderr",
     "output_type": "stream",
     "text": [
      "50it [01:32,  1.86s/it]\n"
     ]
    }
   ],
   "source": [
    "def mexpfin(A, o):\n",
    "    if o == 0:\n",
    "        return np.eye(A.shape[0])\n",
    "    res = np.zeros_like(A)\n",
    "    f = 1.0\n",
    "    for i in range(1, o + 1):\n",
    "        res += np.linalg.matrix_power(A, i) * f\n",
    "        f /= (i + 1)\n",
    "    return res\n",
    "\n",
    "qs = np.arange(1, 100, 2, dtype=int)\n",
    "Ns = np.arange(1, 1000, 10, dtype=int)\n",
    "stbl = np.zeros((len(qs), len(Ns)))\n",
    "for i, q in tqdm.tqdm(enumerate(qs)):\n",
    "    Ap, _ = mk_mod_fourier_lti(q)\n",
    "    #Ap, _ = bases.mk_ldn_lti(q)\n",
    "    for j, N in enumerate(Ns):\n",
    "        # Euler\n",
    "        A = Ap / N\n",
    "\n",
    "        # Midpoint\n",
    "        A = mexpfin(A, 2)\n",
    "\n",
    "        # Runge-Kutta\n",
    "        #A = mexpfin(A, 4)\n",
    "\n",
    "        # ZOH\n",
    "        #A = scipy.linalg.expm(A) - np.eye(q)\n",
    "\n",
    "        for _ in range(10):\n",
    "            Λ = np.linalg.eigvals(A + 0.01 / N * np.random.randn(q, q))\n",
    "            #sel = np.real(Λ) < 0.0\n",
    "            #if len(sel) > 0:\n",
    "            stbl[i, j] += 0.1 * np.max(np.abs(1 + Λ))"
   ]
  },
  {
   "cell_type": "code",
   "execution_count": 36,
   "id": "e361ccc1-8bf4-40ed-acd1-977d9e2be9c8",
   "metadata": {},
   "outputs": [
    {
     "name": "stderr",
     "output_type": "stream",
     "text": [
      "13it [01:53,  8.71s/it]\n"
     ]
    }
   ],
   "source": [
    "def mexpfin(A, o):\n",
    "    if o == 0:\n",
    "        return np.eye(A.shape[0])\n",
    "    res = np.zeros_like(A)\n",
    "    f = 1.0\n",
    "    for i in range(1, o + 1):\n",
    "        res += np.linalg.matrix_power(A, i) * f\n",
    "        f /= (i + 1)\n",
    "    return res\n",
    "\n",
    "qs = np.arange(1, 50, 4, dtype=int)\n",
    "Ns = np.arange(5, 1000, 10, dtype=int)\n",
    "stbl = np.zeros((len(qs), len(Ns)))\n",
    "for i, q in tqdm.tqdm(enumerate(qs)):\n",
    "    Ap, Bp = mk_mod_fourier_lti(q)\n",
    "    #Ap, _ = bases.mk_ldn_lti(q)\n",
    "    for j, N in enumerate(Ns):\n",
    "        # Euler\n",
    "        A = Ap / N\n",
    "\n",
    "        # Midpoint\n",
    "        A = mexpfin(A, 2)\n",
    "\n",
    "        # Runge-Kutta\n",
    "        #A = mexpfin(A, 4)\n",
    "\n",
    "        # ZOH\n",
    "        #A = scipy.linalg.expm(A) - np.eye(q)\n",
    "\n",
    "        # Compute the basis transformation matrix\n",
    "        At, Bt = A + np.eye(q), Bp / N\n",
    "        H = np.zeros((q, N))\n",
    "        Aexp = np.eye(q)\n",
    "        for k in range(N):\n",
    "            H[:, N - k - 1] = Aexp @ Bt\n",
    "            Aexp = At @ Aexp\n",
    "        H = H / np.linalg.norm(H, axis=1)[:, None]\n",
    "        #print(H)\n",
    "        #fig, ax = plt.subplots()\n",
    "        #ax.plot(H.T)\n",
    "\n",
    "        # Compute the singular value sum\n",
    "        _, S, _ = np.linalg.svd(H)\n",
    "        sigma = np.sum(S / np.max(S))\n",
    "\n",
    "        H_ref = bases.mk_lti_basis(Ap, Bp, N)\n",
    "        _, S_ref, _ = np.linalg.svd(H_ref)\n",
    "        sigma_ref = np.sum(S_ref / np.max(S_ref))\n",
    "\n",
    "        stbl[i, j] = sigma / sigma_ref\n",
    "        \n",
    "        #for _ in range(10):\n",
    "        #    Λ = np.linalg.eigvals(A + 0.01 / N * np.random.randn(q, q))\n",
    "        #    #sel = np.real(Λ) < 0.0\n",
    "        #    #if len(sel) > 0:\n",
    "        #    stbl[i, j] += 0.1 * np.max(np.abs(1 + Λ))"
   ]
  },
  {
   "cell_type": "code",
   "execution_count": 37,
   "id": "b49603cd-983d-4b9d-b11c-1acf7a3cb39a",
   "metadata": {},
   "outputs": [
    {
     "data": {
      "text/plain": [
       "[<matplotlib.lines.Line2D at 0x7f9e984ad670>]"
      ]
     },
     "execution_count": 37,
     "metadata": {},
     "output_type": "execute_result"
    },
    {
     "data": {
      "image/png": "[encoded data removed]",
      "text/plain": [
       "<Figure size 432x288 with 1 Axes>"
      ]
     },
     "metadata": {
      "needs_background": "light"
     },
     "output_type": "display_data"
    }
   ],
   "source": [
    "fig, ax = plt.subplots()\n",
    "ax.contourf(Ns, qs, stbl)\n",
    "ax.contour(Ns, qs, stbl, levels=[1.0])\n",
    "ax.plot(Ns, 1.33 * np.power(Ns, 0.6))"
   ]
  },
  {
   "cell_type": "code",
   "execution_count": 38,
   "id": "684d1da9-188e-4f12-92d2-e0c051a9d715",
   "metadata": {},
   "outputs": [
    {
     "data": {
      "text/plain": [
       "array([[1.        , 1.        , 1.        , ..., 1.        , 1.        ,\n",
       "        1.        ],\n",
       "       [0.36603842, 1.0514438 , 1.04144451, ..., 1.00083859, 1.00083004,\n",
       "        1.00082165],\n",
       "       [0.2400045 , 0.25275237, 0.83998472, ..., 1.00069821, 1.00069102,\n",
       "        1.00068398],\n",
       "       ...,\n",
       "       [0.21802913, 0.08551628, 0.06332914, ..., 1.00083965, 1.00082892,\n",
       "        1.00081844],\n",
       "       [0.24864073, 0.07821852, 0.0577273 , ..., 1.00088217, 1.00087077,\n",
       "        1.00085963],\n",
       "       [0.21287181, 0.07524848, 0.05242807, ..., 1.0009344 , 1.00092237,\n",
       "        1.0009106 ]])"
      ]
     },
     "execution_count": 38,
     "metadata": {},
     "output_type": "execute_result"
    }
   ],
   "source": [
    "stbl"
   ]
  },
  {
   "cell_type": "code",
   "execution_count": 34,
   "id": "dcd812b3-6237-4c46-b0e4-cd6201368d91",
   "metadata": {},
   "outputs": [
    {
     "data": {
      "text/plain": [
       "array([[1., 1., 1., ..., 1., 1., 1.],\n",
       "       [1., 1., 1., ..., 1., 1., 1.],\n",
       "       [1., 1., 1., ..., 1., 1., 1.],\n",
       "       ...,\n",
       "       [1., 1., 1., ..., 1., 1., 1.],\n",
       "       [1., 1., 1., ..., 1., 1., 1.],\n",
       "       [1., 1., 1., ..., 1., 1., 1.]])"
      ]
     },
     "execution_count": 34,
     "metadata": {},
     "output_type": "execute_result"
    }
   ],
   "source": [
    "stbl"
   ]
  },
  {
   "cell_type": "code",
   "execution_count": 388,
   "id": "a5939bb7-a1d7-4e00-a4a6-72cf4bc78375",
   "metadata": {},
   "outputs": [
    {
     "data": {
      "text/plain": [
       "array([1.])"
      ]
     },
     "execution_count": 388,
     "metadata": {},
     "output_type": "execute_result"
    }
   ],
   "source": [
    "A = np.ones((1, 1))\n",
    "np.linalg.eigvals(A)"
   ]
  },
  {
   "cell_type": "code",
   "execution_count": 391,
   "id": "7326e485-d73d-4e0a-8710-4ab73d7620b7",
   "metadata": {},
   "outputs": [
    {
     "data": {
      "text/plain": [
       "array([-7.76053021e-04+1.23480840e-04j, -7.76053021e-04-1.23480840e-04j,\n",
       "        1.72792504e-06+3.83924388e-06j,  1.72792504e-06-3.83924388e-06j,\n",
       "        3.93961354e-08+9.46669008e-08j,  3.93961354e-08-9.46669008e-08j,\n",
       "       -4.97712397e-09+3.27594068e-09j, -4.97712397e-09-3.27594068e-09j,\n",
       "        1.07505074e-09+0.00000000e+00j, -9.38597557e-10+0.00000000e+00j,\n",
       "        5.09511830e-10+1.51086821e-11j,  5.09511830e-10-1.51086821e-11j,\n",
       "        3.28108835e-11+3.60681465e-10j,  3.28108835e-11-3.60681465e-10j,\n",
       "       -9.99304577e-11+0.00000000e+00j, -5.19626347e-11+0.00000000e+00j,\n",
       "        3.79006962e-11+0.00000000e+00j, -1.55567270e-11+0.00000000e+00j,\n",
       "        4.33014870e-12+5.25976434e-12j,  4.33014870e-12-5.25976434e-12j])"
      ]
     },
     "execution_count": 391,
     "metadata": {},
     "output_type": "execute_result"
    }
   ],
   "source": [
    "A = bases.mk_ldn_lti(20)[0]\n",
    "np.linalg.eigvals(scipy.linalg.expm(A))"
   ]
  },
  {
   "cell_type": "code",
   "execution_count": 128,
   "id": "d0ff8136-5afe-47e5-b132-c1e399c9e385",
   "metadata": {},
   "outputs": [
    {
     "data": {
      "text/plain": [
       "array([1.10561761, 1.10561761, 0.94577718, 0.94577718, 0.84787641,\n",
       "       0.84787641, 0.78049505, 0.78049505, 0.73188686, 0.73188686,\n",
       "       0.69626287, 0.69626287, 0.67037268, 0.67037268, 0.65226758,\n",
       "       0.65226758, 0.64076125, 0.64076125, 0.63516607, 0.63516607])"
      ]
     },
     "execution_count": 128,
     "metadata": {},
     "output_type": "execute_result"
    }
   ],
   "source": [
    "A = bases.mk_ldn_lti(20)[0] / 26\n",
    "np.abs(np.linalg.eigvals(scipy.linalg.expm(A) - np.eye(20)))"
   ]
  },
  {
   "cell_type": "code",
   "execution_count": 350,
   "id": "ae5b7918-413b-41ff-b36a-db272b8c26ff",
   "metadata": {},
   "outputs": [],
   "source": [
    "q, N, mode = 6, 20, \"zoh\""
   ]
  },
  {
   "cell_type": "code",
   "execution_count": 351,
   "id": "7787ecde-4c03-4eb6-8166-9eb6efdc1db8",
   "metadata": {},
   "outputs": [],
   "source": [
    "# (Approximately) determine asymptotic stability\n",
    "A, B = bases.mk_ldn_lti(q)\n",
    "A, B = A / N, B / N  # Apply the timestep\n",
    "if mode == \"zoh\":\n",
    "    Ad = scipy.linalg.expm(A)\n",
    "    Bd = np.linalg.solve(A, (Ad - np.eye(A.shape[0])) @ B)\n",
    "    A, B = Ad - np.eye(q), Bd\n",
    "elif mode == \"euler\":\n",
    "    pass\n",
    "elif mode == \"midpoint\":\n",
    "    A = mexpfin(A, 2)\n",
    "elif mode == \"runge_kutta\":\n",
    "    A = mexpfin(A, 4)"
   ]
  },
  {
   "cell_type": "code",
   "execution_count": 352,
   "id": "da4a74be-16b9-4142-b58f-199a78fec4b2",
   "metadata": {},
   "outputs": [],
   "source": [
    "At, Bt = A + np.eye(q), B\n",
    "H = np.zeros((q, N))\n",
    "Aexp = np.eye(q)\n",
    "for i in range(N):\n",
    "    H[:, N - i - 1] = Aexp @ Bt\n",
    "    Aexp = At @ Aexp\n",
    "H = H / np.linalg.norm(H, axis=1)[:, None]"
   ]
  },
  {
   "cell_type": "code",
   "execution_count": 353,
   "id": "e638e0a8-a31f-4596-bcd1-ea20df3232a5",
   "metadata": {},
   "outputs": [],
   "source": [
    "H_ref = bases.mk_ldn_basis(q, N, normalize=True)"
   ]
  },
  {
   "cell_type": "code",
   "execution_count": 354,
   "id": "e63e0415-94e9-48e9-9d21-55d70a6e9f09",
   "metadata": {},
   "outputs": [
    {
     "data": {
      "image/png": "[encoded data removed]",
      "text/plain": [
       "<Figure size 432x288 with 1 Axes>"
      ]
     },
     "metadata": {
      "needs_background": "light"
     },
     "output_type": "display_data"
    }
   ],
   "source": [
    "fig, ax = plt.subplots()\n",
    "ax.plot(H[:6].T);\n",
    "ax.plot(H_ref[:6].T, 'k--');"
   ]
  },
  {
   "cell_type": "code",
   "execution_count": null,
   "id": "0363aeff-1028-4f62-acbd-d51f255d1331",
   "metadata": {},
   "outputs": [],
   "source": []
  }
 ],
 "metadata": {
  "kernelspec": {
   "display_name": "Python 3",
   "language": "python",
   "name": "python3"
  },
  "language_info": {
   "codemirror_mode": {
    "name": "ipython",
    "version": 3
   },
   "file_extension": ".py",
   "mimetype": "text/x-python",
   "name": "python",
   "nbconvert_exporter": "python",
   "pygments_lexer": "ipython3",
   "version": "3.9.7"
  }
 },
 "nbformat": 4,
 "nbformat_minor": 5
}
