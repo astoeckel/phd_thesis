{
 "cells": [
  {
   "cell_type": "code",
   "execution_count": 2,
   "id": "8d26c0f9-a44b-496b-baa9-653f49d315e9",
   "metadata": {},
   "outputs": [],
   "source": [
    "%load_ext autoreload\n",
    "%autoreload 2"
   ]
  },
  {
   "cell_type": "code",
   "execution_count": 3,
   "id": "b903f57d-5321-4c4f-997d-c208516295c3",
   "metadata": {},
   "outputs": [],
   "source": [
    "import numpy as np\n",
    "import scipy.linalg\n",
    "import scipy.signal\n",
    "import nengo\n",
    "import matplotlib.pyplot as plt\n",
    "import tqdm\n",
    "\n",
    "import sys\n",
    "sys.path.append('../../lib')\n",
    "from temporal_encoder_common import *"
   ]
  },
  {
   "cell_type": "code",
   "execution_count": 4,
   "id": "7fe61ff0-25c4-4020-bc5d-521f6c60fea8",
   "metadata": {},
   "outputs": [],
   "source": [
    "tauIn = [0.01, 0.02, 0.03]\n",
    "tauRec = [0.1, 0.11, 0.12]"
   ]
  },
  {
   "cell_type": "code",
   "execution_count": 5,
   "id": "0aaff064-56ce-4942-8f52-9b801331f8f2",
   "metadata": {},
   "outputs": [
    {
     "name": "stderr",
     "output_type": "stream",
     "text": [
      "100%|██████████| 1000/1000 [00:11<00:00, 86.48it/s]\n"
     ]
    }
   ],
   "source": [
    "res = solve_for_linear_dynamics(\n",
    "    [Filters.lowpass_chained(t) for t in tauIn] +\n",
    "    [Filters.lowpass_chained(t1, t2) for t1 in tauRec for t2 in tauIn] +\n",
    "    [Filters.lowpass_chained(t1, t2) for t1 in tauRec for t2 in tauRec],\n",
    "    [Filters.dirac()] * 12 + [Filters.step()] * 9,\n",
    "    [Filters.step()],\n",
    "    T=10.0,\n",
    "    N_smpls=1000,\n",
    "    sigma=None,\n",
    ")"
   ]
  },
  {
   "cell_type": "code",
   "execution_count": 6,
   "id": "35a252d6-4dda-4a17-aab4-27f037bd5ea0",
   "metadata": {},
   "outputs": [
    {
     "data": {
      "text/plain": [
       "(array([[0.00399877],\n",
       "        [0.00719494],\n",
       "        [0.00819198]]),\n",
       " array([[-0.12310559, -0.13980689, -0.1612393 ],\n",
       "        [ 0.02693611,  0.02875555,  0.03107015],\n",
       "        [ 0.16269033,  0.17789805,  0.19652494]]),\n",
       " array([[7.44777660e-11, 1.88978731e-01, 1.66666657e-01],\n",
       "        [1.88978731e-01, 2.58628124e-10, 1.44354611e-01],\n",
       "        [1.66666657e-01, 1.44354611e-01, 5.84173296e-11]]))"
      ]
     },
     "execution_count": 6,
     "metadata": {},
     "output_type": "execute_result"
    }
   ],
   "source": [
    "M1 = res[0:3]\n",
    "M2 = res[3:12].reshape(3, 3)\n",
    "M3 = res[12:21].reshape(3, 3)\n",
    "M1, M2, M3"
   ]
  },
  {
   "cell_type": "code",
   "execution_count": 7,
   "id": "d9f99aef-2625-42aa-9287-3575b263f305",
   "metadata": {},
   "outputs": [
    {
     "data": {
      "application/vdom.v1+json": {
       "attributes": {},
       "tagName": "div"
      },
      "text/html": [
       "\n",
       "                <script>\n",
       "                    if (Jupyter.version.split(\".\")[0] < 5) {\n",
       "                        var pb = document.getElementById(\"7e8dac8f-b64f-4634-9f34-8da2e489a8f6\");\n",
       "                        var text = document.createTextNode(\n",
       "                            \"HMTL progress bar requires Jupyter Notebook >= \" +\n",
       "                            \"5.0 or Jupyter Lab. Alternatively, you can use \" +\n",
       "                            \"TerminalProgressBar().\");\n",
       "                        pb.parentNode.insertBefore(text, pb);\n",
       "                    }\n",
       "                </script>\n",
       "                <div id=\"7e8dac8f-b64f-4634-9f34-8da2e489a8f6\" style=\"\n",
       "                    width: 100%;\n",
       "                    border: 1px solid #cfcfcf;\n",
       "                    border-radius: 4px;\n",
       "                    text-align: center;\n",
       "                    position: relative;\">\n",
       "                  <div class=\"pb-text\" style=\"\n",
       "                      position: absolute;\n",
       "                      width: 100%;\">\n",
       "                    0%\n",
       "                  </div>\n",
       "                  <div class=\"pb-fill\" style=\"\n",
       "                      background-color: #bdd2e6;\n",
       "                      width: 0%;\">\n",
       "                    <style type=\"text/css\" scoped=\"scoped\">\n",
       "                        @keyframes pb-fill-anim {\n",
       "                            0% { background-position: 0 0; }\n",
       "                            100% { background-position: 100px 0; }\n",
       "                        }\n",
       "                    </style>\n",
       "                    &nbsp;\n",
       "                  </div>\n",
       "                </div>"
      ],
      "text/plain": [
       "HtmlProgressBar cannot be displayed. Please use the TerminalProgressBar. It can be enabled with `nengo.rc['progress']['progress_bar'] = 'nengo.utils.progress.TerminalProgressBar'`."
      ]
     },
     "metadata": {},
     "output_type": "display_data"
    },
    {
     "data": {
      "application/vdom.v1+json": {
       "attributes": {
        "id": "1d24e4fa-884f-4f33-9020-177f57bab763",
        "style": {
         "border": "1px solid #cfcfcf",
         "borderRadius": "4px",
         "boxSizing": "border-box",
         "position": "relative",
         "textAlign": "center",
         "width": "100%"
        }
       },
       "children": [
        {
         "attributes": {
          "class": "pb-text",
          "style": {
           "position": "absolute",
           "width": "100%"
          }
         },
         "children": [
          "Build finished in 0:00:01."
         ],
         "tagName": "div"
        },
        {
         "attributes": {
          "class": "pb-fill",
          "style": {
           "animation": "none",
           "backgroundColor": "#bdd2e6",
           "backgroundImage": "none",
           "backgroundSize": "100px 100%",
           "width": "100%"
          }
         },
         "children": [
          {
           "attributes": {
            "scoped": "scoped",
            "type": "text/css"
           },
           "children": [
            "\n                        @keyframes pb-fill-anim {\n                            0% { background-position: 0 0; }\n                            100% { background-position: 100px 0; }\n                        }}"
           ],
           "tagName": "style"
          },
          " "
         ],
         "tagName": "div"
        }
       ],
       "tagName": "div"
      },
      "text/html": [
       "<script>\n",
       "              (function () {\n",
       "                  var root = document.getElementById('7e8dac8f-b64f-4634-9f34-8da2e489a8f6');\n",
       "                  var text = root.getElementsByClassName('pb-text')[0];\n",
       "                  var fill = root.getElementsByClassName('pb-fill')[0];\n",
       "\n",
       "                  text.innerHTML = 'Build finished in 0:00:01.';\n",
       "                  \n",
       "            fill.style.width = '100%';\n",
       "            fill.style.animation = 'pb-fill-anim 2s linear infinite';\n",
       "            fill.style.backgroundSize = '100px 100%';\n",
       "            fill.style.backgroundImage = 'repeating-linear-gradient(' +\n",
       "                '90deg, #bdd2e6, #edf2f8 40%, #bdd2e6 80%, #bdd2e6)';\n",
       "        \n",
       "                  \n",
       "                fill.style.animation = 'none';\n",
       "                fill.style.backgroundImage = 'none';\n",
       "            \n",
       "              })();\n",
       "        </script>"
      ]
     },
     "metadata": {},
     "output_type": "display_data"
    },
    {
     "data": {
      "application/vdom.v1+json": {
       "attributes": {},
       "tagName": "div"
      },
      "text/html": [
       "\n",
       "                <script>\n",
       "                    if (Jupyter.version.split(\".\")[0] < 5) {\n",
       "                        var pb = document.getElementById(\"7e569f87-3311-454c-a732-eeb8896afbc6\");\n",
       "                        var text = document.createTextNode(\n",
       "                            \"HMTL progress bar requires Jupyter Notebook >= \" +\n",
       "                            \"5.0 or Jupyter Lab. Alternatively, you can use \" +\n",
       "                            \"TerminalProgressBar().\");\n",
       "                        pb.parentNode.insertBefore(text, pb);\n",
       "                    }\n",
       "                </script>\n",
       "                <div id=\"7e569f87-3311-454c-a732-eeb8896afbc6\" style=\"\n",
       "                    width: 100%;\n",
       "                    border: 1px solid #cfcfcf;\n",
       "                    border-radius: 4px;\n",
       "                    text-align: center;\n",
       "                    position: relative;\">\n",
       "                  <div class=\"pb-text\" style=\"\n",
       "                      position: absolute;\n",
       "                      width: 100%;\">\n",
       "                    0%\n",
       "                  </div>\n",
       "                  <div class=\"pb-fill\" style=\"\n",
       "                      background-color: #bdd2e6;\n",
       "                      width: 0%;\">\n",
       "                    <style type=\"text/css\" scoped=\"scoped\">\n",
       "                        @keyframes pb-fill-anim {\n",
       "                            0% { background-position: 0 0; }\n",
       "                            100% { background-position: 100px 0; }\n",
       "                        }\n",
       "                    </style>\n",
       "                    &nbsp;\n",
       "                  </div>\n",
       "                </div>"
      ],
      "text/plain": [
       "HtmlProgressBar cannot be displayed. Please use the TerminalProgressBar. It can be enabled with `nengo.rc['progress']['progress_bar'] = 'nengo.utils.progress.TerminalProgressBar'`."
      ]
     },
     "metadata": {},
     "output_type": "display_data"
    },
    {
     "data": {
      "application/vdom.v1+json": {
       "attributes": {
        "id": "31fe8557-38d8-4448-8787-e1065f52c87a",
        "style": {
         "border": "1px solid #cfcfcf",
         "borderRadius": "4px",
         "boxSizing": "border-box",
         "position": "relative",
         "textAlign": "center",
         "width": "100%"
        }
       },
       "children": [
        {
         "attributes": {
          "class": "pb-text",
          "style": {
           "position": "absolute",
           "width": "100%"
          }
         },
         "children": [
          "Simulation finished in 0:00:03."
         ],
         "tagName": "div"
        },
        {
         "attributes": {
          "class": "pb-fill",
          "style": {
           "animation": "none",
           "backgroundColor": "#bdd2e6",
           "backgroundImage": "none",
           "transition": "width 0.1s linear",
           "width": "100%"
          }
         },
         "children": [
          {
           "attributes": {
            "scoped": "scoped",
            "type": "text/css"
           },
           "children": [
            "\n                        @keyframes pb-fill-anim {\n                            0% { background-position: 0 0; }\n                            100% { background-position: 100px 0; }\n                        }}"
           ],
           "tagName": "style"
          },
          " "
         ],
         "tagName": "div"
        }
       ],
       "tagName": "div"
      },
      "text/html": [
       "<script>\n",
       "              (function () {\n",
       "                  var root = document.getElementById('7e569f87-3311-454c-a732-eeb8896afbc6');\n",
       "                  var text = root.getElementsByClassName('pb-text')[0];\n",
       "                  var fill = root.getElementsByClassName('pb-fill')[0];\n",
       "\n",
       "                  text.innerHTML = 'Simulation finished in 0:00:03.';\n",
       "                  \n",
       "            if (100.0 > 0.) {\n",
       "                fill.style.transition = 'width 0.1s linear';\n",
       "            } else {\n",
       "                fill.style.transition = 'none';\n",
       "            }\n",
       "\n",
       "            fill.style.width = '100.0%';\n",
       "            fill.style.animation = 'none';\n",
       "            fill.style.backgroundImage = 'none'\n",
       "        \n",
       "                  \n",
       "                fill.style.animation = 'none';\n",
       "                fill.style.backgroundImage = 'none';\n",
       "            \n",
       "              })();\n",
       "        </script>"
      ]
     },
     "metadata": {},
     "output_type": "display_data"
    }
   ],
   "source": [
    "def LP(*args):\n",
    "    return nengo.LinearFilter(*Filters.lowpass_laplace_chained(*args), analog=True)\n",
    "\n",
    "T = 10.0\n",
    "high = 5.0\n",
    "\n",
    "with nengo.Network() as model:\n",
    "    #u = nengo.Node(lambda t: 1.0 * (t >= 0.5) * (t < 1.5))\n",
    "    u = nengo.Node(nengo.processes.WhiteSignal(period=T, high=high))\n",
    "\n",
    "    y = nengo.Ensemble(n_neurons=1,\n",
    "                       dimensions=1,\n",
    "                       neuron_type=nengo.Direct())\n",
    "\n",
    "    for i, tau in enumerate(tauIn):\n",
    "        nengo.Connection(u, y, synapse=tau, transform=M1[i])\n",
    "    for i, tau1 in enumerate(tauRec):\n",
    "        for j, tau2 in enumerate(tauIn):\n",
    "            nengo.Connection(u, y, synapse=LP(tau1, tau2), transform=M2[i, j])\n",
    "    for i, tau1 in enumerate(tauRec):\n",
    "        for j, tau2 in enumerate(tauRec):\n",
    "            nengo.Connection(y, y, synapse=LP(tau1, tau2), transform=M3[i, j])\n",
    "\n",
    "    p_u = nengo.Probe(u, synapse=None)\n",
    "    p_y = nengo.Probe(y, synapse=None)\n",
    "\n",
    "with nengo.Simulator(model) as sim:\n",
    "    sim.run(T)\n"
   ]
  },
  {
   "cell_type": "code",
   "execution_count": 9,
   "id": "4f26c408-5001-4099-b84c-8c8b4552c83e",
   "metadata": {},
   "outputs": [
    {
     "data": {
      "text/plain": [
       "[<matplotlib.lines.Line2D at 0x7f503ac19910>]"
      ]
     },
     "execution_count": 9,
     "metadata": {},
     "output_type": "execute_result"
    },
    {
     "data": {
      "image/png": "[encoded data removed]",
      "text/plain": [
       "<Figure size 432x288 with 1 Axes>"
      ]
     },
     "metadata": {
      "needs_background": "light"
     },
     "output_type": "display_data"
    }
   ],
   "source": [
    "fig, ax = plt.subplots()\n",
    "ax.plot(sim.trange(), sim.data[p_u])\n",
    "ax.plot(sim.trange(), np.cumsum(sim.data[p_u]) * 1e-3)\n",
    "ax.plot(sim.trange(), sim.data[p_y])"
   ]
  },
  {
   "cell_type": "code",
   "execution_count": null,
   "id": "6b5f03b3-0a94-45c2-85e5-b59107e723a8",
   "metadata": {},
   "outputs": [],
   "source": []
  }
 ],
 "metadata": {
  "kernelspec": {
   "display_name": "Python 3",
   "language": "python",
   "name": "python3"
  },
  "language_info": {
   "codemirror_mode": {
    "name": "ipython",
    "version": 3
   },
   "file_extension": ".py",
   "mimetype": "text/x-python",
   "name": "python",
   "nbconvert_exporter": "python",
   "pygments_lexer": "ipython3",
   "version": "3.9.7"
  }
 },
 "nbformat": 4,
 "nbformat_minor": 5
}
