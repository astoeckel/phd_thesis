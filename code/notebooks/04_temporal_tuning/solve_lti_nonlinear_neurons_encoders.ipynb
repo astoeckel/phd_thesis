{
 "cells": [
  {
   "cell_type": "code",
   "execution_count": 1,
   "id": "6397c8b2-fe58-4425-8c4e-1568d9de51b2",
   "metadata": {},
   "outputs": [],
   "source": [
    "%load_ext autoreload\n",
    "%autoreload 2"
   ]
  },
  {
   "cell_type": "code",
   "execution_count": 2,
   "id": "81309c23-8746-40b7-ab64-2a3061e61c30",
   "metadata": {},
   "outputs": [],
   "source": [
    "import sys\n",
    "sys.path.append(\"../../lib\")"
   ]
  },
  {
   "cell_type": "code",
   "execution_count": 3,
   "id": "cecde1fc-6b05-41a3-a8c3-775fabd6dd5c",
   "metadata": {},
   "outputs": [],
   "source": [
    "import matplotlib.pyplot as plt\n",
    "import numpy as np\n",
    "import temporal_encoder_common\n",
    "from temporal_encoder_common import Filters\n",
    "import nonneg_common\n",
    "import lif_utils\n",
    "import nengo\n",
    "import dlop_ldn_function_bases as bases"
   ]
  },
  {
   "cell_type": "code",
   "execution_count": 28,
   "id": "755d0dbe-2b2b-4522-bc3f-d3e6d4681353",
   "metadata": {},
   "outputs": [],
   "source": [
    "n_neurons = 200\n",
    "n_temporal_dimensions = 3\n",
    "n_dimensions = 2\n",
    "\n",
    "def mk_encs(n, d, rng=np.random):\n",
    "    encs = rng.normal(0, 1, (n, d))\n",
    "    encs /= np.linalg.norm(encs, axis=1)[:, None]\n",
    "    return encs\n",
    "\n",
    "def mk_matrix_encoders(n, d, q, rng=np.random):\n",
    "    encs = mk_encs(n, d * q, rng)\n",
    "    return encs.reshape(n, d, q)\n",
    "\n",
    "gains, biases, _ = nonneg_common.mk_ensemble(n_neurons, d=1)\n",
    "G = lif_utils.lif_rate\n",
    "TEs = mk_encs(n_neurons, n_temporal_dimensions)\n",
    "Es = mk_encs(n_neurons, n_dimensions)\n",
    "#MEs = np.einsum('Nd,Nq->Ndq', Es, TEs)\n",
    "MEs = mk_matrix_encoders(n_neurons, n_dimensions, n_temporal_dimensions)\n",
    "\n",
    "A, B = bases.mk_ldn_lti(n_temporal_dimensions)\n",
    "\n",
    "T, dt = 10.0, 1e-3\n",
    "ts = np.arange(0, T, dt)\n",
    "Ms = temporal_encoder_common.cached_lti_impulse_response(A, B, ts)\n",
    "\n",
    "flts_in = [(100e-3,),]\n",
    "flts_rec = [(100e-3,),]"
   ]
  },
  {
   "cell_type": "code",
   "execution_count": 31,
   "id": "9909b20d-46b8-4c60-8e79-335bce06eca4",
   "metadata": {},
   "outputs": [
    {
     "name": "stderr",
     "output_type": "stream",
     "text": [
      "100%|██████████| 1000/1000 [04:23<00:00,  3.79it/s]\n",
      "100%|██████████| 200/200 [00:06<00:00, 30.99it/s]\n"
     ]
    }
   ],
   "source": [
    "np.random.seed(58381)\n",
    "W_in, W_rec, errs = temporal_encoder_common.solve_for_recurrent_population_weights_with_spatial_encoder(\n",
    "    G, gains, biases, None, None, TEs, Es,\n",
    "    [Filters.lowpass(*flt_in) for flt_in in flts_in],\n",
    "    [Filters.lowpass(*flt_rec) for flt_rec in flts_rec],\n",
    "    Ms=Ms,\n",
    "    N_smpls=1000,\n",
    "    xs_sigma=3.0,\n",
    "    biased=False,)"
   ]
  },
  {
   "cell_type": "code",
   "execution_count": 32,
   "id": "ada68b18-634c-4d42-9ffd-843b96823f90",
   "metadata": {},
   "outputs": [
    {
     "name": "stderr",
     "output_type": "stream",
     "text": [
      "100%|██████████| 1000/1000 [01:10<00:00, 14.19it/s]\n",
      "100%|██████████| 200/200 [00:06<00:00, 31.77it/s]\n"
     ]
    }
   ],
   "source": [
    "np.random.seed(58381)\n",
    "W_in_me, W_rec_me, errs_me = temporal_encoder_common.solve_for_recurrent_population_weights_with_spatiotemporal_matrices(\n",
    "    G, gains, biases, None, None, MEs,\n",
    "    [Filters.lowpass(*flt_in) for flt_in in flts_in],\n",
    "    [Filters.lowpass(*flt_rec) for flt_rec in flts_rec],\n",
    "    Ms=Ms,\n",
    "    N_smpls=1000,\n",
    "    xs_sigma=3.0,\n",
    "    biased=False,)"
   ]
  },
  {
   "cell_type": "code",
   "execution_count": 33,
   "id": "29f94525-a085-43d4-b46e-793bd14ab8e8",
   "metadata": {},
   "outputs": [
    {
     "data": {
      "text/plain": [
       "(0.005964924425194699, 0.0051225156787911424)"
      ]
     },
     "execution_count": 33,
     "metadata": {},
     "output_type": "execute_result"
    }
   ],
   "source": [
    "np.sqrt(np.mean(np.square(errs))), np.sqrt(np.mean(np.square(errs_me)))"
   ]
  },
  {
   "cell_type": "code",
   "execution_count": 18,
   "id": "490a9cd1-09ea-464c-ad12-d7274a30d088",
   "metadata": {},
   "outputs": [
    {
     "data": {
      "application/vdom.v1+json": {
       "attributes": {},
       "tagName": "div"
      },
      "text/html": [
       "\n",
       "                <script>\n",
       "                    if (Jupyter.version.split(\".\")[0] < 5) {\n",
       "                        var pb = document.getElementById(\"e4351a5a-f48f-4971-b09c-75285c9693c3\");\n",
       "                        var text = document.createTextNode(\n",
       "                            \"HMTL progress bar requires Jupyter Notebook >= \" +\n",
       "                            \"5.0 or Jupyter Lab. Alternatively, you can use \" +\n",
       "                            \"TerminalProgressBar().\");\n",
       "                        pb.parentNode.insertBefore(text, pb);\n",
       "                    }\n",
       "                </script>\n",
       "                <div id=\"e4351a5a-f48f-4971-b09c-75285c9693c3\" style=\"\n",
       "                    width: 100%;\n",
       "                    border: 1px solid #cfcfcf;\n",
       "                    border-radius: 4px;\n",
       "                    text-align: center;\n",
       "                    position: relative;\">\n",
       "                  <div class=\"pb-text\" style=\"\n",
       "                      position: absolute;\n",
       "                      width: 100%;\">\n",
       "                    0%\n",
       "                  </div>\n",
       "                  <div class=\"pb-fill\" style=\"\n",
       "                      background-color: #bdd2e6;\n",
       "                      width: 0%;\">\n",
       "                    <style type=\"text/css\" scoped=\"scoped\">\n",
       "                        @keyframes pb-fill-anim {\n",
       "                            0% { background-position: 0 0; }\n",
       "                            100% { background-position: 100px 0; }\n",
       "                        }\n",
       "                    </style>\n",
       "                    &nbsp;\n",
       "                  </div>\n",
       "                </div>"
      ],
      "text/plain": [
       "HtmlProgressBar cannot be displayed. Please use the TerminalProgressBar. It can be enabled with `nengo.rc['progress']['progress_bar'] = 'nengo.utils.progress.TerminalProgressBar'`."
      ]
     },
     "metadata": {},
     "output_type": "display_data"
    },
    {
     "data": {
      "application/vdom.v1+json": {
       "attributes": {
        "id": "8872fe42-960b-4a3a-8f0a-0608a736cf0d",
        "style": {
         "border": "1px solid #cfcfcf",
         "borderRadius": "4px",
         "boxSizing": "border-box",
         "position": "relative",
         "textAlign": "center",
         "width": "100%"
        }
       },
       "children": [
        {
         "attributes": {
          "class": "pb-text",
          "style": {
           "position": "absolute",
           "width": "100%"
          }
         },
         "children": [
          "Build finished in 0:00:01."
         ],
         "tagName": "div"
        },
        {
         "attributes": {
          "class": "pb-fill",
          "style": {
           "animation": "none",
           "backgroundColor": "#bdd2e6",
           "backgroundImage": "none",
           "backgroundSize": "100px 100%",
           "width": "100%"
          }
         },
         "children": [
          {
           "attributes": {
            "scoped": "scoped",
            "type": "text/css"
           },
           "children": [
            "\n                        @keyframes pb-fill-anim {\n                            0% { background-position: 0 0; }\n                            100% { background-position: 100px 0; }\n                        }}"
           ],
           "tagName": "style"
          },
          " "
         ],
         "tagName": "div"
        }
       ],
       "tagName": "div"
      },
      "text/html": [
       "<script>\n",
       "              (function () {\n",
       "                  var root = document.getElementById('e4351a5a-f48f-4971-b09c-75285c9693c3');\n",
       "                  var text = root.getElementsByClassName('pb-text')[0];\n",
       "                  var fill = root.getElementsByClassName('pb-fill')[0];\n",
       "\n",
       "                  text.innerHTML = 'Build finished in 0:00:01.';\n",
       "                  \n",
       "            fill.style.width = '100%';\n",
       "            fill.style.animation = 'pb-fill-anim 2s linear infinite';\n",
       "            fill.style.backgroundSize = '100px 100%';\n",
       "            fill.style.backgroundImage = 'repeating-linear-gradient(' +\n",
       "                '90deg, #bdd2e6, #edf2f8 40%, #bdd2e6 80%, #bdd2e6)';\n",
       "        \n",
       "                  \n",
       "                fill.style.animation = 'none';\n",
       "                fill.style.backgroundImage = 'none';\n",
       "            \n",
       "              })();\n",
       "        </script>"
      ]
     },
     "metadata": {},
     "output_type": "display_data"
    },
    {
     "data": {
      "application/vdom.v1+json": {
       "attributes": {},
       "tagName": "div"
      },
      "text/html": [
       "\n",
       "                <script>\n",
       "                    if (Jupyter.version.split(\".\")[0] < 5) {\n",
       "                        var pb = document.getElementById(\"e1966798-d858-4393-9d95-e80bd3b97346\");\n",
       "                        var text = document.createTextNode(\n",
       "                            \"HMTL progress bar requires Jupyter Notebook >= \" +\n",
       "                            \"5.0 or Jupyter Lab. Alternatively, you can use \" +\n",
       "                            \"TerminalProgressBar().\");\n",
       "                        pb.parentNode.insertBefore(text, pb);\n",
       "                    }\n",
       "                </script>\n",
       "                <div id=\"e1966798-d858-4393-9d95-e80bd3b97346\" style=\"\n",
       "                    width: 100%;\n",
       "                    border: 1px solid #cfcfcf;\n",
       "                    border-radius: 4px;\n",
       "                    text-align: center;\n",
       "                    position: relative;\">\n",
       "                  <div class=\"pb-text\" style=\"\n",
       "                      position: absolute;\n",
       "                      width: 100%;\">\n",
       "                    0%\n",
       "                  </div>\n",
       "                  <div class=\"pb-fill\" style=\"\n",
       "                      background-color: #bdd2e6;\n",
       "                      width: 0%;\">\n",
       "                    <style type=\"text/css\" scoped=\"scoped\">\n",
       "                        @keyframes pb-fill-anim {\n",
       "                            0% { background-position: 0 0; }\n",
       "                            100% { background-position: 100px 0; }\n",
       "                        }\n",
       "                    </style>\n",
       "                    &nbsp;\n",
       "                  </div>\n",
       "                </div>"
      ],
      "text/plain": [
       "HtmlProgressBar cannot be displayed. Please use the TerminalProgressBar. It can be enabled with `nengo.rc['progress']['progress_bar'] = 'nengo.utils.progress.TerminalProgressBar'`."
      ]
     },
     "metadata": {},
     "output_type": "display_data"
    },
    {
     "data": {
      "application/vdom.v1+json": {
       "attributes": {
        "id": "81b38b87-b684-4a26-9fd9-0d573fa3ade2",
        "style": {
         "border": "1px solid #cfcfcf",
         "borderRadius": "4px",
         "boxSizing": "border-box",
         "position": "relative",
         "textAlign": "center",
         "width": "100%"
        }
       },
       "children": [
        {
         "attributes": {
          "class": "pb-text",
          "style": {
           "position": "absolute",
           "width": "100%"
          }
         },
         "children": [
          "Simulation finished in 0:00:28."
         ],
         "tagName": "div"
        },
        {
         "attributes": {
          "class": "pb-fill",
          "style": {
           "animation": "none",
           "backgroundColor": "#bdd2e6",
           "backgroundImage": "none",
           "transition": "width 0.1s linear",
           "width": "100%"
          }
         },
         "children": [
          {
           "attributes": {
            "scoped": "scoped",
            "type": "text/css"
           },
           "children": [
            "\n                        @keyframes pb-fill-anim {\n                            0% { background-position: 0 0; }\n                            100% { background-position: 100px 0; }\n                        }}"
           ],
           "tagName": "style"
          },
          " "
         ],
         "tagName": "div"
        }
       ],
       "tagName": "div"
      },
      "text/html": [
       "<script>\n",
       "              (function () {\n",
       "                  var root = document.getElementById('e1966798-d858-4393-9d95-e80bd3b97346');\n",
       "                  var text = root.getElementsByClassName('pb-text')[0];\n",
       "                  var fill = root.getElementsByClassName('pb-fill')[0];\n",
       "\n",
       "                  text.innerHTML = 'Simulation finished in 0:00:28.';\n",
       "                  \n",
       "            if (100.0 > 0.) {\n",
       "                fill.style.transition = 'width 0.1s linear';\n",
       "            } else {\n",
       "                fill.style.transition = 'none';\n",
       "            }\n",
       "\n",
       "            fill.style.width = '100.0%';\n",
       "            fill.style.animation = 'none';\n",
       "            fill.style.backgroundImage = 'none'\n",
       "        \n",
       "                  \n",
       "                fill.style.animation = 'none';\n",
       "                fill.style.backgroundImage = 'none';\n",
       "            \n",
       "              })();\n",
       "        </script>"
      ]
     },
     "metadata": {},
     "output_type": "display_data"
    },
    {
     "data": {
      "application/vdom.v1+json": {
       "attributes": {},
       "tagName": "div"
      },
      "text/html": [
       "\n",
       "                <script>\n",
       "                    if (Jupyter.version.split(\".\")[0] < 5) {\n",
       "                        var pb = document.getElementById(\"dfe7a338-a2a5-4d16-b2a9-8a94a5f727b6\");\n",
       "                        var text = document.createTextNode(\n",
       "                            \"HMTL progress bar requires Jupyter Notebook >= \" +\n",
       "                            \"5.0 or Jupyter Lab. Alternatively, you can use \" +\n",
       "                            \"TerminalProgressBar().\");\n",
       "                        pb.parentNode.insertBefore(text, pb);\n",
       "                    }\n",
       "                </script>\n",
       "                <div id=\"dfe7a338-a2a5-4d16-b2a9-8a94a5f727b6\" style=\"\n",
       "                    width: 100%;\n",
       "                    border: 1px solid #cfcfcf;\n",
       "                    border-radius: 4px;\n",
       "                    text-align: center;\n",
       "                    position: relative;\">\n",
       "                  <div class=\"pb-text\" style=\"\n",
       "                      position: absolute;\n",
       "                      width: 100%;\">\n",
       "                    0%\n",
       "                  </div>\n",
       "                  <div class=\"pb-fill\" style=\"\n",
       "                      background-color: #bdd2e6;\n",
       "                      width: 0%;\">\n",
       "                    <style type=\"text/css\" scoped=\"scoped\">\n",
       "                        @keyframes pb-fill-anim {\n",
       "                            0% { background-position: 0 0; }\n",
       "                            100% { background-position: 100px 0; }\n",
       "                        }\n",
       "                    </style>\n",
       "                    &nbsp;\n",
       "                  </div>\n",
       "                </div>"
      ],
      "text/plain": [
       "HtmlProgressBar cannot be displayed. Please use the TerminalProgressBar. It can be enabled with `nengo.rc['progress']['progress_bar'] = 'nengo.utils.progress.TerminalProgressBar'`."
      ]
     },
     "metadata": {},
     "output_type": "display_data"
    },
    {
     "data": {
      "application/vdom.v1+json": {
       "attributes": {
        "id": "22890f19-310c-417f-86cb-51e8f4d1fa96",
        "style": {
         "border": "1px solid #cfcfcf",
         "borderRadius": "4px",
         "boxSizing": "border-box",
         "position": "relative",
         "textAlign": "center",
         "width": "100%"
        }
       },
       "children": [
        {
         "attributes": {
          "class": "pb-text",
          "style": {
           "position": "absolute",
           "width": "100%"
          }
         },
         "children": [
          "Build finished in 0:00:01."
         ],
         "tagName": "div"
        },
        {
         "attributes": {
          "class": "pb-fill",
          "style": {
           "animation": "none",
           "backgroundColor": "#bdd2e6",
           "backgroundImage": "none",
           "backgroundSize": "100px 100%",
           "width": "100%"
          }
         },
         "children": [
          {
           "attributes": {
            "scoped": "scoped",
            "type": "text/css"
           },
           "children": [
            "\n                        @keyframes pb-fill-anim {\n                            0% { background-position: 0 0; }\n                            100% { background-position: 100px 0; }\n                        }}"
           ],
           "tagName": "style"
          },
          " "
         ],
         "tagName": "div"
        }
       ],
       "tagName": "div"
      },
      "text/html": [
       "<script>\n",
       "              (function () {\n",
       "                  var root = document.getElementById('dfe7a338-a2a5-4d16-b2a9-8a94a5f727b6');\n",
       "                  var text = root.getElementsByClassName('pb-text')[0];\n",
       "                  var fill = root.getElementsByClassName('pb-fill')[0];\n",
       "\n",
       "                  text.innerHTML = 'Build finished in 0:00:01.';\n",
       "                  \n",
       "            fill.style.width = '100%';\n",
       "            fill.style.animation = 'pb-fill-anim 2s linear infinite';\n",
       "            fill.style.backgroundSize = '100px 100%';\n",
       "            fill.style.backgroundImage = 'repeating-linear-gradient(' +\n",
       "                '90deg, #bdd2e6, #edf2f8 40%, #bdd2e6 80%, #bdd2e6)';\n",
       "        \n",
       "                  \n",
       "                fill.style.animation = 'none';\n",
       "                fill.style.backgroundImage = 'none';\n",
       "            \n",
       "              })();\n",
       "        </script>"
      ]
     },
     "metadata": {},
     "output_type": "display_data"
    },
    {
     "data": {
      "application/vdom.v1+json": {
       "attributes": {},
       "tagName": "div"
      },
      "text/html": [
       "\n",
       "                <script>\n",
       "                    if (Jupyter.version.split(\".\")[0] < 5) {\n",
       "                        var pb = document.getElementById(\"d0b55fdd-a0a2-40a4-9f13-efa540de87da\");\n",
       "                        var text = document.createTextNode(\n",
       "                            \"HMTL progress bar requires Jupyter Notebook >= \" +\n",
       "                            \"5.0 or Jupyter Lab. Alternatively, you can use \" +\n",
       "                            \"TerminalProgressBar().\");\n",
       "                        pb.parentNode.insertBefore(text, pb);\n",
       "                    }\n",
       "                </script>\n",
       "                <div id=\"d0b55fdd-a0a2-40a4-9f13-efa540de87da\" style=\"\n",
       "                    width: 100%;\n",
       "                    border: 1px solid #cfcfcf;\n",
       "                    border-radius: 4px;\n",
       "                    text-align: center;\n",
       "                    position: relative;\">\n",
       "                  <div class=\"pb-text\" style=\"\n",
       "                      position: absolute;\n",
       "                      width: 100%;\">\n",
       "                    0%\n",
       "                  </div>\n",
       "                  <div class=\"pb-fill\" style=\"\n",
       "                      background-color: #bdd2e6;\n",
       "                      width: 0%;\">\n",
       "                    <style type=\"text/css\" scoped=\"scoped\">\n",
       "                        @keyframes pb-fill-anim {\n",
       "                            0% { background-position: 0 0; }\n",
       "                            100% { background-position: 100px 0; }\n",
       "                        }\n",
       "                    </style>\n",
       "                    &nbsp;\n",
       "                  </div>\n",
       "                </div>"
      ],
      "text/plain": [
       "HtmlProgressBar cannot be displayed. Please use the TerminalProgressBar. It can be enabled with `nengo.rc['progress']['progress_bar'] = 'nengo.utils.progress.TerminalProgressBar'`."
      ]
     },
     "metadata": {},
     "output_type": "display_data"
    },
    {
     "data": {
      "application/vdom.v1+json": {
       "attributes": {
        "id": "579eb1e3-006a-4286-9794-8ab91ed38925",
        "style": {
         "border": "1px solid #cfcfcf",
         "borderRadius": "4px",
         "boxSizing": "border-box",
         "position": "relative",
         "textAlign": "center",
         "width": "100%"
        }
       },
       "children": [
        {
         "attributes": {
          "class": "pb-text",
          "style": {
           "position": "absolute",
           "width": "100%"
          }
         },
         "children": [
          "Simulation finished in 0:00:27."
         ],
         "tagName": "div"
        },
        {
         "attributes": {
          "class": "pb-fill",
          "style": {
           "animation": "none",
           "backgroundColor": "#bdd2e6",
           "backgroundImage": "none",
           "transition": "width 0.1s linear",
           "width": "100%"
          }
         },
         "children": [
          {
           "attributes": {
            "scoped": "scoped",
            "type": "text/css"
           },
           "children": [
            "\n                        @keyframes pb-fill-anim {\n                            0% { background-position: 0 0; }\n                            100% { background-position: 100px 0; }\n                        }}"
           ],
           "tagName": "style"
          },
          " "
         ],
         "tagName": "div"
        }
       ],
       "tagName": "div"
      },
      "text/html": [
       "<script>\n",
       "              (function () {\n",
       "                  var root = document.getElementById('d0b55fdd-a0a2-40a4-9f13-efa540de87da');\n",
       "                  var text = root.getElementsByClassName('pb-text')[0];\n",
       "                  var fill = root.getElementsByClassName('pb-fill')[0];\n",
       "\n",
       "                  text.innerHTML = 'Simulation finished in 0:00:27.';\n",
       "                  \n",
       "            if (100.0 > 0.) {\n",
       "                fill.style.transition = 'width 0.1s linear';\n",
       "            } else {\n",
       "                fill.style.transition = 'none';\n",
       "            }\n",
       "\n",
       "            fill.style.width = '100.0%';\n",
       "            fill.style.animation = 'none';\n",
       "            fill.style.backgroundImage = 'none'\n",
       "        \n",
       "                  \n",
       "                fill.style.animation = 'none';\n",
       "                fill.style.backgroundImage = 'none';\n",
       "            \n",
       "              })();\n",
       "        </script>"
      ]
     },
     "metadata": {},
     "output_type": "display_data"
    }
   ],
   "source": [
    "np.random.seed(498184)\n",
    "\n",
    "def execute_network(xs,\n",
    "                    W_in,\n",
    "                    W_rec,\n",
    "                    gains,\n",
    "                    biases,\n",
    "                    T=100.0,\n",
    "                    dt=1e-3,\n",
    "                    tau=100e-3):\n",
    "    N = int(T / dt + 1e-9)\n",
    "    n_dims = n_dimensions\n",
    "    n_neurons = len(gains)\n",
    "\n",
    "    with nengo.Network() as model:\n",
    "        nd_in = nengo.Node(size_in=n_dims)\n",
    "        for i in range(n_dims):\n",
    "#            def mk_sig(i=i):\n",
    "#                return lambda t: xs[int(t / dt) % N, i]\n",
    "#            nd_noise = nengo.Node(mk_sig())\n",
    "            nd_noise = nengo.Node(nengo.processes.WhiteSignal(period=100.0, high=1.0, y0=0.0, rms=0.5))\n",
    "            nengo.Connection(nd_noise, nd_in[i], synapse=None)\n",
    "\n",
    "        ens_x = nengo.Ensemble(n_neurons=n_neurons,\n",
    "                               dimensions=1,\n",
    "                               bias=biases,\n",
    "                               gain=gains,\n",
    "                               encoders=np.ones((n_neurons, 1)))\n",
    "\n",
    "        nengo.Connection(nd_in,\n",
    "                         ens_x.neurons,\n",
    "                         transform=W_in[:, :, 0],\n",
    "                         synapse=tau)\n",
    "\n",
    "        nengo.Connection(ens_x.neurons,\n",
    "                         ens_x.neurons,\n",
    "                         transform=W_rec[:, :, 0],\n",
    "                         synapse=tau)\n",
    "\n",
    "        p_in = nengo.Probe(nd_in, synapse=None)\n",
    "        p_out = nengo.Probe(ens_x.neurons, synapse=None)\n",
    "\n",
    "    with nengo.Simulator(model, dt=dt) as sim:\n",
    "        sim.run(T)\n",
    "\n",
    "    return sim.data[p_in], sim.data[p_out]\n",
    "\n",
    "xs_test, As_test = execute_network(None, W_in_me, W_rec_me, gains, biases)\n",
    "xs_train, As_train = execute_network(None, W_in_me, W_rec_me, gains, biases)"
   ]
  },
  {
   "cell_type": "code",
   "execution_count": 21,
   "id": "79544ed8-cd23-4fff-b0ab-10d2fc27cb2b",
   "metadata": {},
   "outputs": [],
   "source": [
    "ts = np.arange(0, xs_train.shape[0]) * 1e-3\n",
    "\n",
    "xs_train_flt = nengo.Lowpass(100e-3).filtfilt(xs_train)\n",
    "As_train_flt = nengo.Lowpass(100e-3).filtfilt(As_train)\n",
    "\n",
    "xs_test_flt = nengo.Lowpass(100e-3).filtfilt(xs_test)\n",
    "As_test_flt = nengo.Lowpass(100e-3).filtfilt(As_test)"
   ]
  },
  {
   "cell_type": "code",
   "execution_count": 23,
   "id": "66dbb8f8-8872-4d19-8979-bc074eb3a3ac",
   "metadata": {},
   "outputs": [
    {
     "data": {
      "text/plain": [
       "(0.0, 10.0)"
      ]
     },
     "execution_count": 23,
     "metadata": {},
     "output_type": "execute_result"
    },
    {
     "data": {
      "image/png": "[encoded data removed]",
      "text/plain": [
       "<Figure size 432x288 with 1 Axes>"
      ]
     },
     "metadata": {
      "needs_background": "light"
     },
     "output_type": "display_data"
    }
   ],
   "source": [
    "def shift(xs, t, dt=1e-3):\n",
    "    N = xs.shape[0]\n",
    "    N_shift = int(t / dt)\n",
    "    return np.concatenate((np.zeros(N_shift), xs))[:N]\n",
    "\n",
    "fig, ax = plt.subplots()\n",
    "\n",
    "for theta in np.linspace(0, 1.0, 5):\n",
    "    xs_train_flt_shift = shift(xs_train_flt[:, 0], theta)\n",
    "    xs_test_flt_shift = shift(xs_test_flt[:, 0], theta)\n",
    "    d1 = np.linalg.lstsq(As_train_flt, xs_train_flt_shift, rcond=1e-2)[0]\n",
    "\n",
    "    ax.plot(ts, As_test_flt @ d1)\n",
    "    ax.plot(ts, xs_test_flt_shift, 'k--')\n",
    "\n",
    "ax.set_xlim(0, 10)"
   ]
  },
  {
   "cell_type": "code",
   "execution_count": null,
   "id": "28cc6f99-6eb4-4cce-a99f-246b8150d02a",
   "metadata": {},
   "outputs": [],
   "source": [
    "d1 = np.linalg.lstsq(As_train_flt, xs_train_flt[:, 0], rcond=1e-2)[0]\n",
    "d2 = np.linalg.lstsq(As_train_flt, xs_train_flt[:, 1], rcond=1e-2)[0]"
   ]
  },
  {
   "cell_type": "code",
   "execution_count": null,
   "id": "95046872-b0c6-4945-9e6b-59b1651f8800",
   "metadata": {},
   "outputs": [],
   "source": [
    "fig, ax = plt.subplots()\n",
    "ax.plot(As_test_flt @ d1)\n",
    "ax.plot(xs_test_flt[:, 0])\n",
    "ax.set_xlim(0, 10000)"
   ]
  },
  {
   "cell_type": "code",
   "execution_count": null,
   "id": "7a621ffd-de3c-46b3-9f13-9ddfee776651",
   "metadata": {},
   "outputs": [],
   "source": [
    "fig, ax = plt.subplots()\n",
    "ax.plot(As_test_flt @ d2)\n",
    "ax.plot(xs_test_flt[:, 1])\n",
    "ax.set_xlim(0, 10000)"
   ]
  },
  {
   "cell_type": "code",
   "execution_count": null,
   "id": "582fabb2-44de-4d39-912d-6fa32d4bb45a",
   "metadata": {},
   "outputs": [],
   "source": []
  }
 ],
 "metadata": {
  "kernelspec": {
   "display_name": "Python 3",
   "language": "python",
   "name": "python3"
  },
  "language_info": {
   "codemirror_mode": {
    "name": "ipython",
    "version": 3
   },
   "file_extension": ".py",
   "mimetype": "text/x-python",
   "name": "python",
   "nbconvert_exporter": "python",
   "pygments_lexer": "ipython3",
   "version": "3.9.7"
  }
 },
 "nbformat": 4,
 "nbformat_minor": 5
}
