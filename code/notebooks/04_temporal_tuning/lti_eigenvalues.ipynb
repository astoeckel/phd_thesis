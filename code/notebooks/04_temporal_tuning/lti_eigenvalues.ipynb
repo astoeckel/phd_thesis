{
 "cells": [
  {
   "cell_type": "code",
   "execution_count": 1,
   "id": "994be2c6-db2b-491c-b562-c9391b1b1f38",
   "metadata": {},
   "outputs": [],
   "source": [
    "%load_ext autoreload\n",
    "%autoreload 2"
   ]
  },
  {
   "cell_type": "code",
   "execution_count": 9,
   "id": "ac680e2a-9558-46c1-94d9-faa3d64c294b",
   "metadata": {},
   "outputs": [],
   "source": [
    "import numpy as np\n",
    "import matplotlib.pyplot as plt\n",
    "import sys\n",
    "sys.path.append(\"../../lib\")"
   ]
  },
  {
   "cell_type": "code",
   "execution_count": 10,
   "id": "06777191-2fac-4a9b-9271-99c4c1701162",
   "metadata": {},
   "outputs": [],
   "source": [
    "import basis_delay_analysis_common"
   ]
  },
  {
   "cell_type": "code",
   "execution_count": 33,
   "id": "aa122ec8-5115-445c-a7bf-bba37394d481",
   "metadata": {},
   "outputs": [],
   "source": []
  },
  {
   "cell_type": "code",
   "execution_count": 46,
   "id": "a9af46f7-120d-4995-83bb-1a28b20f3f22",
   "metadata": {},
   "outputs": [
    {
     "data": {
      "text/plain": [
       "[<matplotlib.lines.Line2D at 0x7fbd8df73730>]"
      ]
     },
     "execution_count": 46,
     "metadata": {},
     "output_type": "execute_result"
    },
    {
     "data": {
      "image/png": "[encoded data removed]",
      "text/plain": [
       "<Figure size 432x288 with 1 Axes>"
      ]
     },
     "metadata": {
      "needs_background": "light"
     },
     "output_type": "display_data"
    }
   ],
   "source": [
    "fig, ax = plt.subplots()\n",
    "\n",
    "A, B = basis_delay_analysis_common.mk_impulse_response(\"legendre\", \"erasure\", q=13, return_sys=True, use_closed_form=False)\n",
    "L = np.linalg.eigvals(A)\n",
    "L /= np.max(np.abs(L))\n",
    "ax.plot(np.real(L), np.imag(L), '+')\n",
    "\n",
    "A, B = basis_delay_analysis_common.mk_impulse_response(\"legendre\", \"bartlett\", q=13, return_sys=True, use_closed_form=False)\n",
    "L = np.linalg.eigvals(A)\n",
    "L /= np.max(np.abs(L))\n",
    "ax.plot(np.real(L), np.imag(L), '+')\n",
    "\n",
    "A, B = basis_delay_analysis_common.mk_impulse_response(\"mod_fourier\", \"erasure\", q=13, return_sys=True, use_closed_form=False)\n",
    "L = np.linalg.eigvals(A)\n",
    "L /= np.max(np.abs(L))\n",
    "ax.plot(np.real(L), np.imag(L), '+')\n",
    "\n",
    "A, B = basis_delay_analysis_common.mk_impulse_response(\"mod_fourier\", \"bartlett\", q=13, return_sys=True, use_closed_form=False)\n",
    "L = np.linalg.eigvals(A)\n",
    "L /= np.max(np.abs(L))\n",
    "ax.plot(np.real(L), np.imag(L), '+')\n",
    "\n"
   ]
  },
  {
   "cell_type": "code",
   "execution_count": null,
   "id": "fbb2cce3-07ca-4352-87f5-e3b860fa1115",
   "metadata": {},
   "outputs": [],
   "source": []
  }
 ],
 "metadata": {
  "kernelspec": {
   "display_name": "Python 3",
   "language": "python",
   "name": "python3"
  },
  "language_info": {
   "codemirror_mode": {
    "name": "ipython",
    "version": 3
   },
   "file_extension": ".py",
   "mimetype": "text/x-python",
   "name": "python",
   "nbconvert_exporter": "python",
   "pygments_lexer": "ipython3",
   "version": "3.9.7"
  }
 },
 "nbformat": 4,
 "nbformat_minor": 5
}
