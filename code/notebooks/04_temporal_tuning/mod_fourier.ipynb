{
 "cells": [
  {
   "cell_type": "code",
   "execution_count": 1,
   "id": "869a35b4-f03c-41a5-b68e-f24f5493efb7",
   "metadata": {},
   "outputs": [],
   "source": [
    "import numpy as np\n",
    "import scipy.linalg\n",
    "import matplotlib.pyplot as plt\n",
    "import dlop_ldn_function_bases as bases"
   ]
  },
  {
   "cell_type": "code",
   "execution_count": 2,
   "id": "2a9b5ac0-d707-4789-8a29-41471a6ded14",
   "metadata": {},
   "outputs": [],
   "source": [
    "def mk_fourier_oscillator(q, mul=1.0):\n",
    "    B = (np.arange(0, q) + 1) % 2\n",
    "    A = np.zeros((q, q))\n",
    "    for k in range(1, q):\n",
    "        ki = (k + 1) // 2\n",
    "        fk = 2.0 * np.pi * mul * ki\n",
    "        A[2 * ki - 1, 2 * ki - 1] = 0\n",
    "        A[2 * ki - 1, 2 * ki + 0] =  fk\n",
    "        A[2 * ki + 0, 2 * ki - 1] = -fk\n",
    "        A[2 * ki + 0, 2 * ki + 0] = 0\n",
    "    return A, B"
   ]
  },
  {
   "cell_type": "code",
   "execution_count": 3,
   "id": "bb166269-4f43-460a-8251-5b55e3ffc1c5",
   "metadata": {},
   "outputs": [],
   "source": [
    "def eval_lti(A, B, ts):\n",
    "    import scipy.linalg\n",
    "    return np.array([scipy.linalg.expm(A * t) @ B for t in ts])"
   ]
  },
  {
   "cell_type": "code",
   "execution_count": 4,
   "id": "368bfed2-3ded-47c8-ba21-8aee4c0955ff",
   "metadata": {},
   "outputs": [],
   "source": [
    "N, q, dt, T = 1000, 101, 1e-3, 1.0\n",
    "A, B = mk_fourier_oscillator(q, mul=0.9)\n",
    "Ad, Bd = np.zeros((q, q)), np.zeros((q,))\n",
    "Ad[1:, 1:], Bd[1:] = bases.discretize_lti(dt, A[1:, 1:], B[1:])\n",
    "Bd[0] = 1e-3\n",
    "Ad[0, 0] = 1.0\n",
    "H = bases.mk_lti_basis(Ad, Bd, N, from_discrete_lti=True, normalize=False)"
   ]
  },
  {
   "cell_type": "code",
   "execution_count": 5,
   "id": "bfa71947-4f4b-4863-a5f4-0c5152ce30a0",
   "metadata": {},
   "outputs": [],
   "source": [
    "enc = H[:, 0]\n",
    "dec = np.linalg.pinv(H, rcond=1e-2)[0]\n",
    "Ad = Ad - np.outer(enc, dec) @ Ad\n",
    "Bd = Bd - np.outer(enc, dec) @ Bd"
   ]
  },
  {
   "cell_type": "code",
   "execution_count": 6,
   "id": "96d0e9f6-70c7-4e12-a86a-68bc7a93a194",
   "metadata": {},
   "outputs": [],
   "source": [
    "A = np.real(scipy.linalg.logm(Ad)) * N / T\n",
    "B = scipy.linalg.expm(-0.5 * A * T / N) @ Bd * np.sqrt(N)"
   ]
  },
  {
   "cell_type": "code",
   "execution_count": 7,
   "id": "f330c817-e5b6-4fb2-bdd0-aecd45e3ad56",
   "metadata": {},
   "outputs": [],
   "source": [
    "def mk_mod_fourier_lti(q, fac=0.9, Ninternal=1000):\n",
    "    def mk_fourier_oscillator(q, mul=1.0):\n",
    "        B = (np.arange(0, q) + 1) % 2\n",
    "        A = np.zeros((q, q))\n",
    "        for k in range(1, q):\n",
    "            ki = (k + 1) // 2\n",
    "            fk = 2.0 * np.pi * mul * ki\n",
    "            A[2 * ki - 1, 2 * ki - 1] = 0\n",
    "            A[2 * ki - 1, 2 * ki + 0] = fk\n",
    "            A[2 * ki + 0, 2 * ki - 1] = -fk\n",
    "            A[2 * ki + 0, 2 * ki + 0] = 0\n",
    "        return A, B\n",
    "\n",
    "    assert q % 2 == 1\n",
    "\n",
    "    A, B = mk_fourier_oscillator(q, mul=0.9)\n",
    "    Ad, Bd = np.zeros((q, q)), np.zeros((q, ))\n",
    "\n",
    "    Ad[1:, 1:], Bd[1:] = bases.discretize_lti(1.0 / Ninternal, A[1:, 1:],\n",
    "                                              B[1:])\n",
    "    Bd[0] = 1e-3\n",
    "    Ad[0, 0] = 1.0\n",
    "\n",
    "    H = bases.mk_lti_basis(Ad,\n",
    "                           Bd,\n",
    "                           Ninternal,\n",
    "                           from_discrete_lti=True,\n",
    "                           normalize=False)\n",
    "    enc = H[:, 0]\n",
    "    dec = np.linalg.pinv(H, rcond=1e-2)[0]\n",
    "\n",
    "    Ad = Ad - np.outer(enc, dec) @ Ad\n",
    "    Bd = Bd - np.outer(enc, dec) @ Bd\n",
    "\n",
    "    A = np.real(scipy.linalg.logm(Ad)) * Ninternal\n",
    "    return A, B"
   ]
  },
  {
   "cell_type": "code",
   "execution_count": 8,
   "id": "bcbb1472-e812-4f41-8d8f-707b6c4633c4",
   "metadata": {},
   "outputs": [],
   "source": [
    "def mk_mod_fourier_basis(q, N, Nmul=1, fac=0.9, Ninternal=1000):\n",
    "    A, B = mk_mod_fourier_lti(q, fac, Ninternal)\n",
    "    return bases.mk_lti_basis(A, B, N, N * Nmul)"
   ]
  },
  {
   "cell_type": "code",
   "execution_count": 13,
   "id": "32f2bb6d-0a30-4f2c-a910-df2915278ba5",
   "metadata": {},
   "outputs": [
    {
     "name": "stdout",
     "output_type": "stream",
     "text": [
      "3.267044396109447\n"
     ]
    },
    {
     "data": {
      "text/plain": [
       "[<matplotlib.lines.Line2D at 0x7f7552b64a00>,\n",
       " <matplotlib.lines.Line2D at 0x7f7552b64a90>,\n",
       " <matplotlib.lines.Line2D at 0x7f7552b64b50>,\n",
       " <matplotlib.lines.Line2D at 0x7f7552b64c10>,\n",
       " <matplotlib.lines.Line2D at 0x7f7552b64cd0>]"
      ]
     },
     "execution_count": 13,
     "metadata": {},
     "output_type": "execute_result"
    },
    {
     "data": {
      "image/png": "[encoded data removed]",
      "text/plain": [
       "<Figure size 432x288 with 1 Axes>"
      ]
     },
     "metadata": {
      "needs_background": "light"
     },
     "output_type": "display_data"
    }
   ],
   "source": [
    "H = bases.mk_ldn_basis(5, 5)\n",
    "_, S, _ = np.linalg.svd(H)\n",
    "print(np.sum(S / np.max(S)))\n",
    "#H2 = bases.mk_fourier_basis(5, 5)\n",
    "fig, ax = plt.subplots()\n",
    "ax.plot(H.T, '+-')\n",
    "#ax.set_prop_cycle(None)\n",
    "#ax.plot(H2.T, '+--')"
   ]
  },
  {
   "cell_type": "code",
   "execution_count": null,
   "id": "b3a5b172-ae22-4093-a3e9-8c7def15403e",
   "metadata": {},
   "outputs": [],
   "source": [
    "Ao, Bo = mk_mod_fourier_lti(101, 1000)\n",
    "fig, ax = plt.subplots()\n",
    "ax.imshow(Ao)"
   ]
  },
  {
   "cell_type": "code",
   "execution_count": null,
   "id": "d1200a3b-d389-4699-8ed7-5f3178d6108d",
   "metadata": {},
   "outputs": [],
   "source": [
    "def mexpfin(A, o):\n",
    "    if o == 0:\n",
    "        return np.eye(A.shape[0])\n",
    "    res = np.zeros_like(A)\n",
    "    f = 1.0\n",
    "    for i in range(1, o + 1):\n",
    "        res += np.linalg.matrix_power(A, i) * f\n",
    "        f /= (i + 1)\n",
    "    return res"
   ]
  },
  {
   "cell_type": "code",
   "execution_count": null,
   "id": "6ae3065e-60c4-47d8-a9a1-066a6d1a9281",
   "metadata": {},
   "outputs": [],
   "source": [
    "# Compute the basis transformation matrix\n",
    "q = Ao.shape[0]\n",
    "N = 200\n",
    "A, B = Ao / N, Bo / N\n",
    "A = mexpfin(A, 4)\n",
    "At, Bt = A + np.eye(q), B\n",
    "H = np.zeros((q, 3*N))\n",
    "Aexp = np.eye(q)\n",
    "for i in range(3*N):\n",
    "    H[:, i] = Aexp @ Bt\n",
    "    Aexp = At @ Aexp\n",
    "H = H / np.linalg.norm(H, axis=1)[:, None]"
   ]
  },
  {
   "cell_type": "code",
   "execution_count": null,
   "id": "1bf3481e-4c44-48ed-9e1b-4748bf1afb44",
   "metadata": {},
   "outputs": [],
   "source": [
    "H"
   ]
  },
  {
   "cell_type": "code",
   "execution_count": null,
   "id": "b4f5af87-a2fc-4154-ac58-519ef67f657c",
   "metadata": {},
   "outputs": [],
   "source": [
    "fig, ax = plt.subplots()\n",
    "ax.plot(H.T);"
   ]
  },
  {
   "cell_type": "code",
   "execution_count": null,
   "id": "03684634-518c-4f8f-8395-da17e584b6b9",
   "metadata": {},
   "outputs": [],
   "source": [
    "H = mk_mod_fourier_basis(461, 1000, Nmul=2)\n",
    "fig, ax = plt.subplots()\n",
    "ax.plot(H[:100].T);"
   ]
  },
  {
   "cell_type": "code",
   "execution_count": null,
   "id": "13ca3444-cc60-4a4b-8081-923abbc7335b",
   "metadata": {},
   "outputs": [],
   "source": []
  }
 ],
 "metadata": {
  "kernelspec": {
   "display_name": "Python 3",
   "language": "python",
   "name": "python3"
  },
  "language_info": {
   "codemirror_mode": {
    "name": "ipython",
    "version": 3
   },
   "file_extension": ".py",
   "mimetype": "text/x-python",
   "name": "python",
   "nbconvert_exporter": "python",
   "pygments_lexer": "ipython3",
   "version": "3.9.7"
  }
 },
 "nbformat": 4,
 "nbformat_minor": 5
}
