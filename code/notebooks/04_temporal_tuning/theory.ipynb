{
 "cells": [
  {
   "cell_type": "code",
   "execution_count": 1,
   "id": "8f45918f-1cc4-4132-b084-7c2e1a83db5b",
   "metadata": {},
   "outputs": [],
   "source": [
    "import numpy as np\n",
    "from scipy.linalg import expm\n",
    "from scipy.special import factorial\n",
    "import matplotlib.pyplot as plt\n",
    "\n",
    "np.set_printoptions(precision=4, suppress=True)"
   ]
  },
  {
   "cell_type": "code",
   "execution_count": 2,
   "id": "1b6ad9e5-dfc3-4fcc-bfd2-10062b734b56",
   "metadata": {},
   "outputs": [],
   "source": [
    "n = 2\n",
    "A = np.random.randn(n, n)\n",
    "B = np.random.randn(n,)\n",
    "tau = 0.1"
   ]
  },
  {
   "cell_type": "code",
   "execution_count": 3,
   "id": "c8ec2919-570b-408c-aa2a-862a0aa681db",
   "metadata": {},
   "outputs": [
    {
     "data": {
      "text/plain": [
       "(array([[-10.    ,  -0.    ,  10.    ,   0.    ],\n",
       "        [ -0.    , -10.    ,   0.    ,  10.    ],\n",
       "        [  0.    ,   0.    ,  -0.2885,   0.7422],\n",
       "        [  0.    ,   0.    ,  -0.7707,  -1.3561]]),\n",
       " array([ 0.    ,  0.    ,  0.8202, -1.252 ]),\n",
       " array([[1., 0., 0., 0.],\n",
       "        [0., 1., 0., 0.]]))"
      ]
     },
     "execution_count": 3,
     "metadata": {},
     "output_type": "execute_result"
    }
   ],
   "source": [
    "Af = np.zeros((2 * n, 2 * n))\n",
    "Af[n:, n:] = A\n",
    "Af[:n, :n] = -np.eye(n) / tau\n",
    "Af[:n, n:] = np.eye(n) / tau\n",
    "\n",
    "Bf = np.concatenate((np.zeros(n), B))\n",
    "Cf = np.zeros((n, 2 * n))\n",
    "Cf[:n, :n] = np.eye(n)\n",
    "\n",
    "Af, Bf, Cf"
   ]
  },
  {
   "cell_type": "code",
   "execution_count": 4,
   "id": "40520a46-07ab-4abb-98aa-5f918cf4bee6",
   "metadata": {},
   "outputs": [
    {
     "data": {
      "text/plain": [
       "(array([[ 0.    ,  0.    ,  0.    ,  0.    ],\n",
       "        [ 0.    ,  0.    ,  0.    ,  0.    ],\n",
       "        [ 0.    ,  0.    , -0.2885,  0.7422],\n",
       "        [ 0.    ,  0.    , -0.7707, -1.3561]]),\n",
       " array([ 0.    ,  0.    ,  0.8202, -1.252 ]),\n",
       " array([[0., 0., 1., 0.],\n",
       "        [0., 0., 0., 1.]]))"
      ]
     },
     "execution_count": 4,
     "metadata": {},
     "output_type": "execute_result"
    }
   ],
   "source": [
    "Ag = np.zeros((2 * n, 2 * n))\n",
    "Ag[n:, n:] = A\n",
    "\n",
    "Bg = Bf\n",
    "\n",
    "Cg = np.zeros((n, 2 * n))\n",
    "Cg[:n, n:] = np.eye(n)\n",
    "\n",
    "Ag, Bg, Cg"
   ]
  },
  {
   "cell_type": "code",
   "execution_count": 5,
   "id": "a9ccffea-9cbe-4b1a-aae2-2e558721c681",
   "metadata": {},
   "outputs": [],
   "source": [
    "Ap = tau * A + np.eye(A.shape[0])\n",
    "Bp = tau * B"
   ]
  },
  {
   "cell_type": "code",
   "execution_count": 6,
   "id": "5ff8e6f8-2ffa-4ccb-ab42-7a5f71206da8",
   "metadata": {},
   "outputs": [],
   "source": [
    "dt = 1e-3\n",
    "ts = np.arange(0, 1, 1e-3)\n",
    "xs = np.array([Cg @ expm(Ag * t) @ Bg for t in ts])"
   ]
  },
  {
   "cell_type": "code",
   "execution_count": 7,
   "id": "dcd97f40-19df-4788-b987-b732ac48f101",
   "metadata": {},
   "outputs": [
    {
     "data": {
      "text/plain": [
       "[<matplotlib.lines.Line2D at 0x7f107d053850>,\n",
       " <matplotlib.lines.Line2D at 0x7f107d053970>]"
      ]
     },
     "execution_count": 7,
     "metadata": {},
     "output_type": "execute_result"
    },
    {
     "data": {
      "image/png": "[encoded data removed]",
      "text/plain": [
       "<Figure size 432x288 with 1 Axes>"
      ]
     },
     "metadata": {
      "needs_background": "light"
     },
     "output_type": "display_data"
    }
   ],
   "source": [
    "fig, ax = plt.subplots()\n",
    "ax.plot(ts, xs)"
   ]
  },
  {
   "cell_type": "code",
   "execution_count": 8,
   "id": "d696f0c8-57ee-4a49-bcce-390773068474",
   "metadata": {},
   "outputs": [],
   "source": [
    "dt = 1e-3\n",
    "ts = np.arange(0, 1, 1e-3)\n",
    "xs_f = np.array([Cf @ expm(Af * t) @ Bf for t in ts])"
   ]
  },
  {
   "cell_type": "code",
   "execution_count": 9,
   "id": "e2bd862f-9125-4e80-b11d-b8c02788d590",
   "metadata": {},
   "outputs": [
    {
     "data": {
      "text/plain": [
       "[<matplotlib.lines.Line2D at 0x7f107cfb4760>,\n",
       " <matplotlib.lines.Line2D at 0x7f107cfb47c0>]"
      ]
     },
     "execution_count": 9,
     "metadata": {},
     "output_type": "execute_result"
    },
    {
     "data": {
      "image/png": "[encoded data removed]",
      "text/plain": [
       "<Figure size 432x288 with 1 Axes>"
      ]
     },
     "metadata": {
      "needs_background": "light"
     },
     "output_type": "display_data"
    }
   ],
   "source": [
    "fig, ax = plt.subplots()\n",
    "ax.plot(ts, xs_f)"
   ]
  },
  {
   "cell_type": "code",
   "execution_count": 10,
   "id": "a0f000c5-4900-4859-9a65-e5df168ee40e",
   "metadata": {},
   "outputs": [],
   "source": [
    "#ys = np.array([Bp * (np.exp(-t / tau) / tau) + Ap @ Cf @ expm(Af * t) @ Bf for t in ts])\n",
    "ys = np.array([Ap @ Cf @ expm(Af * t) @ Bf for t in ts])"
   ]
  },
  {
   "cell_type": "code",
   "execution_count": 11,
   "id": "737959f2-4c99-4d30-bb52-4662338cc472",
   "metadata": {},
   "outputs": [],
   "source": [
    "ys_diff = np.array([Cg @ expm(Ag * t) @ Bg - Ap @ Cf @ expm(Af * t) @ Bf for t in ts])"
   ]
  },
  {
   "cell_type": "code",
   "execution_count": 12,
   "id": "8c166a82-5bd6-47fd-a0e7-9d5af176f961",
   "metadata": {},
   "outputs": [],
   "source": [
    "ys_diff = np.array([(Cg @ expm(Ag * t) - Ap @ Cf @ expm(Af * t)) @ Bg for t in ts])"
   ]
  },
  {
   "cell_type": "code",
   "execution_count": 13,
   "id": "889e6dec-04b5-485e-bad9-63ac909ca430",
   "metadata": {},
   "outputs": [],
   "source": [
    "ys_diff = np.array([(Cg @ expm(Ag * t) - Ap @ Cf @ expm(Af * t)) @ Bg for t in ts])"
   ]
  },
  {
   "cell_type": "code",
   "execution_count": 14,
   "id": "72b19e13-3c79-4334-844a-bcdbee33fe8f",
   "metadata": {},
   "outputs": [
    {
     "data": {
      "text/plain": [
       "[<matplotlib.lines.Line2D at 0x7f107cf1bee0>,\n",
       " <matplotlib.lines.Line2D at 0x7f107cf1bf40>]"
      ]
     },
     "execution_count": 14,
     "metadata": {},
     "output_type": "execute_result"
    },
    {
     "data": {
      "image/png": "[encoded data removed]",
      "text/plain": [
       "<Figure size 432x288 with 1 Axes>"
      ]
     },
     "metadata": {
      "needs_background": "light"
     },
     "output_type": "display_data"
    }
   ],
   "source": [
    "fig, ax = plt.subplots()\n",
    "ax.plot(ts, ys_diff)"
   ]
  },
  {
   "cell_type": "code",
   "execution_count": 15,
   "id": "f3ea3203-8651-4ab7-b6ec-63e1b094cc9c",
   "metadata": {},
   "outputs": [
    {
     "data": {
      "text/plain": [
       "array([ 0.111 , -0.1694])"
      ]
     },
     "execution_count": 15,
     "metadata": {},
     "output_type": "execute_result"
    }
   ],
   "source": [
    "t = 0.2\n",
    "(Cg @ expm(Ag * t) - Ap @ Cf @ expm(Af * t)) @ Bf"
   ]
  },
  {
   "cell_type": "code",
   "execution_count": 16,
   "id": "826846a1-8b40-4306-96ef-dab86ed4e583",
   "metadata": {},
   "outputs": [
    {
     "data": {
      "text/plain": [
       "array([ 0.111 , -0.1694])"
      ]
     },
     "execution_count": 16,
     "metadata": {},
     "output_type": "execute_result"
    }
   ],
   "source": [
    "expm(-np.eye(2) * t / tau) @ B"
   ]
  },
  {
   "cell_type": "code",
   "execution_count": 17,
   "id": "eb304486-fcb1-4570-91c8-92c3033a2376",
   "metadata": {},
   "outputs": [
    {
     "data": {
      "text/plain": [
       "(array([ 0.6086, -1.0499]), array([ 0.4976, -0.8805]))"
      ]
     },
     "execution_count": 17,
     "metadata": {},
     "output_type": "execute_result"
    }
   ],
   "source": [
    "Cg @ expm(Ag * t) @ Bg, Ap @ Cf @ expm(Af * t) @ Bf"
   ]
  },
  {
   "cell_type": "code",
   "execution_count": 21,
   "id": "e240cce5-8f0a-49e7-bb24-a28bbbf2fc55",
   "metadata": {},
   "outputs": [
    {
     "data": {
      "text/plain": [
       "(array([ 0.6086, -1.0499]), array([ 0.4976, -0.8805]))"
      ]
     },
     "execution_count": 21,
     "metadata": {},
     "output_type": "execute_result"
    }
   ],
   "source": [
    "Cg @ expm(Ag * t) @ Bg, Ap @ Cf @ expm(Af * t) @ Bf"
   ]
  },
  {
   "cell_type": "code",
   "execution_count": 22,
   "id": "f030598c-e657-4ba1-abf5-e50eea90185c",
   "metadata": {},
   "outputs": [
    {
     "data": {
      "text/plain": [
       "(array([[ 0.    ,  0.    ,  1.    ,  0.    ],\n",
       "        [ 0.    ,  0.    ,  0.    ,  1.    ],\n",
       "        [ 0.9712,  0.0742,  0.    ,  0.    ],\n",
       "        [-0.0771,  0.8644,  0.    ,  0.    ]]),\n",
       " array([[ 0.    ,  0.    ,  1.0227, -0.0878],\n",
       "        [ 0.    ,  0.    ,  0.0912,  1.1491],\n",
       "        [ 1.    ,  0.    ,  0.    ,  0.    ],\n",
       "        [ 0.    ,  1.    ,  0.    ,  0.    ]]))"
      ]
     },
     "execution_count": 22,
     "metadata": {},
     "output_type": "execute_result"
    }
   ],
   "source": [
    "T = np.zeros((2 * n, 2 * n))\n",
    "#T[:n, :n] = Ap\n",
    "#T[n:, n:] = np.eye(n)\n",
    "T[n:, :n] = Ap\n",
    "T[:n, n:] = np.eye(n)\n",
    "TI = np.linalg.inv(T)\n",
    "\n",
    "T, TI"
   ]
  },
  {
   "cell_type": "code",
   "execution_count": 23,
   "id": "8fb29728-cbb5-4856-a87b-5403016849bc",
   "metadata": {},
   "outputs": [
    {
     "data": {
      "text/plain": [
       "(array([ 0.6086, -1.0499]), array([ 0.4976, -0.8805]))"
      ]
     },
     "execution_count": 23,
     "metadata": {},
     "output_type": "execute_result"
    }
   ],
   "source": [
    "Cg @ expm(Ag * t) @ Bf, Cg @ expm(T @ Af @ TI * t) @ T @ Bf"
   ]
  },
  {
   "cell_type": "code",
   "execution_count": 54,
   "id": "19b7609c-31e0-4a48-983b-1468a1ffd50d",
   "metadata": {},
   "outputs": [
    {
     "data": {
      "text/plain": [
       "array([ 0.111 , -0.1694])"
      ]
     },
     "execution_count": 54,
     "metadata": {},
     "output_type": "execute_result"
    }
   ],
   "source": [
    "Cg @ (expm(Ag * t) @ Bf - expm(T @ Af @ TI * t) @ T @ Bf)"
   ]
  },
  {
   "cell_type": "code",
   "execution_count": 100,
   "id": "555df3b1-5327-4fac-984a-afbc72a848ae",
   "metadata": {},
   "outputs": [
    {
     "data": {
      "text/plain": [
       "array([ 0.111 , -0.1694])"
      ]
     },
     "execution_count": 100,
     "metadata": {},
     "output_type": "execute_result"
    }
   ],
   "source": [
    "expm(-(np.eye(n) / tau) * t) @ B"
   ]
  },
  {
   "cell_type": "code",
   "execution_count": 110,
   "id": "a49a91e3-a96b-4e5c-8e07-d6330dddb57a",
   "metadata": {},
   "outputs": [
    {
     "data": {
      "text/plain": [
       "(array([0.    , 0.    , 0.0002, 0.0012]),\n",
       " array([  0.0002,   0.0012, -13.1227,  20.0326]))"
      ]
     },
     "execution_count": 110,
     "metadata": {},
     "output_type": "execute_result"
    }
   ],
   "source": [
    "np.linalg.matrix_power(Ag * t, 4) @ Bf, np.linalg.matrix_power(T @ Af @ TI * t, 4) @ T @ Bf"
   ]
  },
  {
   "cell_type": "code",
   "execution_count": 86,
   "id": "585a9869-950c-4ff9-8c06-908305daafa7",
   "metadata": {},
   "outputs": [
    {
     "data": {
      "text/plain": [
       "array([[ 1.    ,  0.    ,  0.    ,  0.    ],\n",
       "       [ 0.    ,  1.    ,  0.    ,  0.    ],\n",
       "       [ 0.    ,  0.    ,  0.9339,  0.1257],\n",
       "       [ 0.    ,  0.    , -0.1305,  0.7531]])"
      ]
     },
     "execution_count": 86,
     "metadata": {},
     "output_type": "execute_result"
    }
   ],
   "source": [
    "expm(Ag * t)"
   ]
  },
  {
   "cell_type": "code",
   "execution_count": 89,
   "id": "85e12e89-c225-4198-b04a-18cc5a3665bd",
   "metadata": {},
   "outputs": [
    {
     "data": {
      "text/plain": [
       "array([ 0.4976, -0.8805])"
      ]
     },
     "execution_count": 89,
     "metadata": {},
     "output_type": "execute_result"
    }
   ],
   "source": [
    "Cg @ expm(T @ Af @ TI * t) @ T @ Bf"
   ]
  },
  {
   "cell_type": "code",
   "execution_count": 25,
   "id": "207f1c9b-744d-4db7-b795-cdbadca2d9fc",
   "metadata": {},
   "outputs": [
    {
     "data": {
      "text/plain": [
       "(array([[0., 0., 1., 0.],\n",
       "        [0., 0., 0., 1.]]),\n",
       " array([[ -0.2885,   0.7422,   0.    ,   0.    ],\n",
       "        [ -0.7707,  -1.3561,   0.    ,   0.    ],\n",
       "        [  9.7115,   0.7422, -10.    ,   0.    ],\n",
       "        [ -0.7707,   8.6439,   0.    , -10.    ]]))"
      ]
     },
     "execution_count": 25,
     "metadata": {},
     "output_type": "execute_result"
    }
   ],
   "source": [
    "Cg, T @ Af @ TI"
   ]
  },
  {
   "cell_type": "code",
   "execution_count": 38,
   "id": "3ddbb7fa-c661-429d-8e4e-e7350ecb1ccb",
   "metadata": {},
   "outputs": [],
   "source": [
    "Bf2 = T @ Bf + np.concatenate((np.zeros(n), B))"
   ]
  },
  {
   "cell_type": "code",
   "execution_count": 43,
   "id": "f750e583-7f5c-4ed4-aa9c-c9b6fc8626b4",
   "metadata": {},
   "outputs": [
    {
     "data": {
      "text/plain": [
       "(array([ 0.    ,  0.    ,  0.8202, -1.252 ]),\n",
       " array([ 0.8202, -1.252 ,  0.8202, -1.252 ]))"
      ]
     },
     "execution_count": 43,
     "metadata": {},
     "output_type": "execute_result"
    }
   ],
   "source": [
    "Bf, Bf2"
   ]
  },
  {
   "cell_type": "code",
   "execution_count": 51,
   "id": "b9111435-7e56-4f6f-b635-352e57ee7ba1",
   "metadata": {},
   "outputs": [
    {
     "data": {
      "text/plain": [
       "(array([ 0.6086, -1.0499]), array([ 0.6086, -1.0499]))"
      ]
     },
     "execution_count": 51,
     "metadata": {},
     "output_type": "execute_result"
    }
   ],
   "source": [
    "Cg @ expm(Ag * t) @ Bf, Cg @ expm(T @ Af @ TI * t) @ Bf2"
   ]
  },
  {
   "cell_type": "code",
   "execution_count": 52,
   "id": "3c776e29-7d05-4405-aa53-c76df99bf9d4",
   "metadata": {},
   "outputs": [
    {
     "data": {
      "text/plain": [
       "array([[ 0.    ,  0.    ,  0.    ,  0.    ],\n",
       "       [ 0.    ,  0.    ,  0.    ,  0.    ],\n",
       "       [ 0.    ,  0.    , -0.2885,  0.7422],\n",
       "       [ 0.    ,  0.    , -0.7707, -1.3561]])"
      ]
     },
     "execution_count": 52,
     "metadata": {},
     "output_type": "execute_result"
    }
   ],
   "source": [
    "Ag"
   ]
  },
  {
   "cell_type": "code",
   "execution_count": 53,
   "id": "fa29dae0-46da-4c60-bd25-c2d0e9f6177b",
   "metadata": {},
   "outputs": [
    {
     "data": {
      "text/plain": [
       "array([[ -0.2885,   0.7422,   0.    ,   0.    ],\n",
       "       [ -0.7707,  -1.3561,   0.    ,   0.    ],\n",
       "       [  9.7115,   0.7422, -10.    ,   0.    ],\n",
       "       [ -0.7707,   8.6439,   0.    , -10.    ]])"
      ]
     },
     "execution_count": 53,
     "metadata": {},
     "output_type": "execute_result"
    }
   ],
   "source": [
    "T @ Af @ TI"
   ]
  },
  {
   "cell_type": "code",
   "execution_count": 188,
   "id": "585a7e73-9fdf-4a2c-bdd9-bfbf127104e5",
   "metadata": {},
   "outputs": [
    {
     "name": "stdout",
     "output_type": "stream",
     "text": [
      "[[1. 0. 0. 0.]\n",
      " [0. 1. 0. 0.]\n",
      " [0. 0. 1. 0.]\n",
      " [0. 0. 0. 1.]]\n",
      "[[1. 0. 0. 0.]\n",
      " [0. 1. 0. 0.]\n",
      " [0. 0. 1. 0.]\n",
      " [0. 0. 0. 1.]]\n",
      "[[ 0.      0.      0.      0.    ]\n",
      " [ 0.      0.      0.      0.    ]\n",
      " [ 0.      0.      1.1944  1.0467]\n",
      " [ 0.      0.     -0.8473  0.5359]]\n",
      "[[-10.       0.      11.1944   1.0467]\n",
      " [  0.     -10.      -0.8473  10.5359]\n",
      " [  0.       0.       1.1944   1.0467]\n",
      " [  0.       0.      -0.8473   0.5359]]\n",
      "[[ 0.      0.      0.      0.    ]\n",
      " [ 0.      0.      0.      0.    ]\n",
      " [ 0.      0.      0.2698  0.9056]\n",
      " [ 0.      0.     -0.7331 -0.2998]]\n",
      "[[ 50.      -0.     -49.7302   0.9056]\n",
      " [ -0.      50.      -0.7331 -50.2998]\n",
      " [  0.       0.       0.2698   0.9056]\n",
      " [  0.       0.      -0.7331  -0.2998]]\n",
      "[[ 0.      0.      0.      0.    ]\n",
      " [ 0.      0.      0.      0.    ]\n",
      " [ 0.      0.     -0.1483  0.2559]\n",
      " [ 0.      0.     -0.2072 -0.3093]]\n",
      "[[-166.6667    0.      166.5183    0.2559]\n",
      " [   0.     -166.6667   -0.2072  166.3573]\n",
      " [   0.        0.       -0.1483    0.2559]\n",
      " [   0.        0.       -0.2072   -0.3093]]\n",
      "[[ 0.      0.      0.      0.    ]\n",
      " [ 0.      0.      0.      0.    ]\n",
      " [ 0.      0.     -0.0985 -0.0045]\n",
      " [ 0.      0.      0.0037 -0.0957]]\n",
      "[[ 416.6667   -0.     -416.7652   -0.0045]\n",
      " [  -0.      416.6667    0.0037 -416.7623]\n",
      " [   0.        0.       -0.0985   -0.0045]\n",
      " [   0.        0.        0.0037   -0.0957]]\n",
      "[[ 0.      0.      0.      0.    ]\n",
      " [ 0.      0.      0.      0.    ]\n",
      " [ 0.      0.     -0.0228 -0.0211]\n",
      " [ 0.      0.      0.0171 -0.0095]]\n",
      "[[-833.3333    0.      833.3106   -0.0211]\n",
      " [   0.     -833.3333    0.0171  833.3238]\n",
      " [   0.        0.       -0.0228   -0.0211]\n",
      " [   0.        0.        0.0171   -0.0095]]\n",
      "[[ 0.      0.      0.      0.    ]\n",
      " [ 0.      0.      0.      0.    ]\n",
      " [ 0.      0.     -0.0016 -0.0059]\n",
      " [ 0.      0.      0.0047  0.0021]]\n",
      "[[ 1388.8889    -0.     -1388.8904    -0.0059]\n",
      " [   -0.      1388.8889     0.0047 -1388.8868]\n",
      " [    0.         0.        -0.0016    -0.0059]\n",
      " [    0.         0.         0.0047     0.0021]]\n",
      "[[ 0.      0.      0.      0.    ]\n",
      " [ 0.      0.      0.      0.    ]\n",
      " [ 0.      0.      0.0004 -0.0007]\n",
      " [ 0.      0.      0.0006  0.0009]]\n",
      "[[-1984.127      0.      1984.1274    -0.0007]\n",
      " [    0.     -1984.127      0.0006  1984.1279]\n",
      " [    0.         0.         0.0004    -0.0007]\n",
      " [    0.         0.         0.0006     0.0009]]\n",
      "[[ 0.      0.      0.      0.    ]\n",
      " [ 0.      0.      0.      0.    ]\n",
      " [ 0.      0.      0.0001  0.    ]\n",
      " [ 0.      0.     -0.      0.0001]]\n",
      "[[ 2480.1587    -0.     -2480.1586     0.    ]\n",
      " [   -0.      2480.1587    -0.     -2480.1586]\n",
      " [    0.         0.         0.0001     0.    ]\n",
      " [    0.         0.        -0.         0.0001]]\n",
      "[[ 0.  0.  0.  0.]\n",
      " [ 0.  0.  0.  0.]\n",
      " [ 0.  0.  0.  0.]\n",
      " [ 0.  0. -0.  0.]]\n",
      "[[-2755.7319     0.      2755.7319     0.    ]\n",
      " [    0.     -2755.7319    -0.      2755.7319]\n",
      " [    0.         0.         0.         0.    ]\n",
      " [    0.         0.        -0.         0.    ]]\n",
      "[[ 0.  0.  0.  0.]\n",
      " [ 0.  0.  0.  0.]\n",
      " [ 0.  0.  0.  0.]\n",
      " [ 0.  0. -0. -0.]]\n",
      "[[ 2755.7319    -0.     -2755.7319     0.    ]\n",
      " [   -0.      2755.7319    -0.     -2755.7319]\n",
      " [    0.         0.         0.         0.    ]\n",
      " [    0.         0.        -0.        -0.    ]]\n",
      "[[ 0.  0.  0.  0.]\n",
      " [ 0.  0.  0.  0.]\n",
      " [ 0.  0. -0.  0.]\n",
      " [ 0.  0. -0. -0.]]\n",
      "[[-2505.2108     0.      2505.2108     0.    ]\n",
      " [    0.     -2505.2108    -0.      2505.2108]\n",
      " [    0.         0.        -0.         0.    ]\n",
      " [    0.         0.        -0.        -0.    ]]\n",
      "[[ 0.  0.  0.  0.]\n",
      " [ 0.  0.  0.  0.]\n",
      " [ 0.  0. -0. -0.]\n",
      " [ 0.  0.  0. -0.]]\n",
      "[[ 2087.6757    -0.     -2087.6757    -0.    ]\n",
      " [   -0.      2087.6757     0.     -2087.6757]\n",
      " [    0.         0.        -0.        -0.    ]\n",
      " [    0.         0.         0.        -0.    ]]\n",
      "[[ 0.  0.  0.  0.]\n",
      " [ 0.  0.  0.  0.]\n",
      " [ 0.  0. -0. -0.]\n",
      " [ 0.  0.  0. -0.]]\n",
      "[[-1605.9044     0.      1605.9044    -0.    ]\n",
      " [    0.     -1605.9044     0.      1605.9044]\n",
      " [    0.         0.        -0.        -0.    ]\n",
      " [    0.         0.         0.        -0.    ]]\n",
      "[[ 0.  0.  0.  0.]\n",
      " [ 0.  0.  0.  0.]\n",
      " [ 0.  0. -0. -0.]\n",
      " [ 0.  0.  0.  0.]]\n",
      "[[ 1147.0746    -0.     -1147.0746    -0.    ]\n",
      " [   -0.      1147.0746     0.     -1147.0746]\n",
      " [    0.         0.        -0.        -0.    ]\n",
      " [    0.         0.         0.         0.    ]]\n",
      "[[ 0.  0.  0.  0.]\n",
      " [ 0.  0.  0.  0.]\n",
      " [ 0.  0.  0. -0.]\n",
      " [ 0.  0.  0.  0.]]\n",
      "[[-764.7164    0.      764.7164   -0.    ]\n",
      " [   0.     -764.7164    0.      764.7164]\n",
      " [   0.        0.        0.       -0.    ]\n",
      " [   0.        0.        0.        0.    ]]\n",
      "[[ 0.  0.  0.  0.]\n",
      " [ 0.  0.  0.  0.]\n",
      " [ 0.  0.  0.  0.]\n",
      " [ 0.  0. -0.  0.]]\n",
      "[[ 477.9477   -0.     -477.9477    0.    ]\n",
      " [  -0.      477.9477   -0.     -477.9477]\n",
      " [   0.        0.        0.        0.    ]\n",
      " [   0.        0.       -0.        0.    ]]\n",
      "[[ 0.  0.  0.  0.]\n",
      " [ 0.  0.  0.  0.]\n",
      " [ 0.  0.  0.  0.]\n",
      " [ 0.  0. -0.  0.]]\n",
      "[[-281.1457    0.      281.1457    0.    ]\n",
      " [   0.     -281.1457   -0.      281.1457]\n",
      " [   0.        0.        0.        0.    ]\n",
      " [   0.        0.       -0.        0.    ]]\n",
      "[[ 0.  0.  0.  0.]\n",
      " [ 0.  0.  0.  0.]\n",
      " [ 0.  0.  0.  0.]\n",
      " [ 0.  0. -0. -0.]]\n",
      "[[ 156.1921   -0.     -156.1921    0.    ]\n",
      " [  -0.      156.1921    0.     -156.1921]\n",
      " [   0.        0.        0.        0.    ]\n",
      " [   0.        0.       -0.       -0.    ]]\n",
      "[[ 0.  0.  0.  0.]\n",
      " [ 0.  0.  0.  0.]\n",
      " [ 0.  0. -0.  0.]\n",
      " [ 0.  0. -0. -0.]]\n",
      "[[-82.2064   0.      82.2064   0.    ]\n",
      " [  0.     -82.2064  -0.      82.2064]\n",
      " [  0.       0.      -0.       0.    ]\n",
      " [  0.       0.      -0.      -0.    ]]\n",
      "[[ 0.  0.  0.  0.]\n",
      " [ 0.  0.  0.  0.]\n",
      " [ 0.  0. -0. -0.]\n",
      " [ 0.  0.  0. -0.]]\n",
      "[[ 41.1032  -0.     -41.1032  -0.    ]\n",
      " [ -0.      41.1032   0.     -41.1032]\n",
      " [  0.       0.      -0.      -0.    ]\n",
      " [  0.       0.       0.      -0.    ]]\n",
      "[[ 0.  0.  0.  0.]\n",
      " [ 0.  0.  0.  0.]\n",
      " [ 0.  0. -0. -0.]\n",
      " [ 0.  0.  0. -0.]]\n",
      "[[-19.5729   0.      19.5729   0.    ]\n",
      " [  0.     -19.5729  -0.      19.5729]\n",
      " [  0.       0.      -0.      -0.    ]\n",
      " [  0.       0.       0.      -0.    ]]\n",
      "[[ 0.  0.  0.  0.]\n",
      " [ 0.  0.  0.  0.]\n",
      " [ 0.  0. -0. -0.]\n",
      " [ 0.  0.  0.  0.]]\n",
      "[[ 8.8968 -0.     -8.8968 -0.    ]\n",
      " [-0.      8.8968  0.     -8.8968]\n",
      " [ 0.      0.     -0.     -0.    ]\n",
      " [ 0.      0.      0.      0.    ]]\n",
      "[[ 0.  0.  0.  0.]\n",
      " [ 0.  0.  0.  0.]\n",
      " [ 0.  0.  0. -0.]\n",
      " [ 0.  0.  0.  0.]]\n",
      "[[-3.8682  0.      3.8682  0.    ]\n",
      " [ 0.     -3.8682 -0.      3.8682]\n",
      " [ 0.      0.      0.     -0.    ]\n",
      " [ 0.      0.      0.      0.    ]]\n",
      "[[ 0.  0.  0.  0.]\n",
      " [ 0.  0.  0.  0.]\n",
      " [ 0.  0.  0.  0.]\n",
      " [ 0.  0. -0.  0.]]\n",
      "[[ 1.6117 -0.     -1.6117  0.    ]\n",
      " [-0.      1.6117  0.     -1.6117]\n",
      " [ 0.      0.      0.      0.    ]\n",
      " [ 0.      0.     -0.      0.    ]]\n",
      "[[ 0.  0.  0.  0.]\n",
      " [ 0.  0.  0.  0.]\n",
      " [ 0.  0.  0.  0.]\n",
      " [ 0.  0. -0.  0.]]\n",
      "[[-0.6447  0.      0.6447 -0.    ]\n",
      " [ 0.     -0.6447 -0.      0.6447]\n",
      " [ 0.      0.      0.      0.    ]\n",
      " [ 0.      0.     -0.      0.    ]]\n",
      "[[ 0.  0.  0.  0.]\n",
      " [ 0.  0.  0.  0.]\n",
      " [ 0.  0.  0.  0.]\n",
      " [ 0.  0. -0. -0.]]\n",
      "[[ 0.248 -0.    -0.248  0.   ]\n",
      " [-0.     0.248  0.    -0.248]\n",
      " [ 0.     0.     0.     0.   ]\n",
      " [ 0.     0.    -0.    -0.   ]]\n",
      "[[ 0.  0.  0.  0.]\n",
      " [ 0.  0.  0.  0.]\n",
      " [ 0.  0. -0.  0.]\n",
      " [ 0.  0. -0. -0.]]\n",
      "[[-0.0918  0.      0.0918 -0.    ]\n",
      " [ 0.     -0.0918 -0.      0.0918]\n",
      " [ 0.      0.     -0.      0.    ]\n",
      " [ 0.      0.     -0.     -0.    ]]\n",
      "[[ 0.  0.  0.  0.]\n",
      " [ 0.  0.  0.  0.]\n",
      " [ 0.  0. -0. -0.]\n",
      " [ 0.  0.  0. -0.]]\n",
      "[[ 0.0328 -0.     -0.0328  0.    ]\n",
      " [-0.      0.0328  0.     -0.0328]\n",
      " [ 0.      0.     -0.     -0.    ]\n",
      " [ 0.      0.      0.     -0.    ]]\n",
      "[[ 0.  0.  0.  0.]\n",
      " [ 0.  0.  0.  0.]\n",
      " [ 0.  0. -0. -0.]\n",
      " [ 0.  0.  0. -0.]]\n",
      "[[-0.0113  0.      0.0113 -0.    ]\n",
      " [ 0.     -0.0113 -0.      0.0113]\n",
      " [ 0.      0.     -0.     -0.    ]\n",
      " [ 0.      0.      0.     -0.    ]]\n",
      "[[ 0.  0.  0.  0.]\n",
      " [ 0.  0.  0.  0.]\n",
      " [ 0.  0. -0. -0.]\n",
      " [ 0.  0.  0.  0.]]\n",
      "[[ 0.0038 -0.     -0.0038  0.    ]\n",
      " [-0.      0.0038  0.     -0.0038]\n",
      " [ 0.      0.     -0.     -0.    ]\n",
      " [ 0.      0.      0.      0.    ]]\n",
      "[[ 0.  0.  0.  0.]\n",
      " [ 0.  0.  0.  0.]\n",
      " [ 0.  0.  0. -0.]\n",
      " [ 0.  0.  0.  0.]]\n",
      "[[-0.0012  0.      0.0012 -0.    ]\n",
      " [ 0.     -0.0012 -0.      0.0012]\n",
      " [ 0.      0.      0.     -0.    ]\n",
      " [ 0.      0.      0.      0.    ]]\n",
      "[[ 0.  0.  0.  0.]\n",
      " [ 0.  0.  0.  0.]\n",
      " [ 0.  0.  0.  0.]\n",
      " [ 0.  0. -0.  0.]]\n",
      "[[ 0.0004 -0.     -0.0004  0.    ]\n",
      " [-0.      0.0004  0.     -0.0004]\n",
      " [ 0.      0.      0.      0.    ]\n",
      " [ 0.      0.     -0.      0.    ]]\n",
      "[[ 0.  0.  0.  0.]\n",
      " [ 0.  0.  0.  0.]\n",
      " [ 0.  0.  0.  0.]\n",
      " [ 0.  0. -0.  0.]]\n",
      "[[-0.0001  0.      0.0001 -0.    ]\n",
      " [ 0.     -0.0001 -0.      0.0001]\n",
      " [ 0.      0.      0.      0.    ]\n",
      " [ 0.      0.     -0.      0.    ]]\n",
      "[[ 0.  0.  0.  0.]\n",
      " [ 0.  0.  0.  0.]\n",
      " [ 0.  0.  0.  0.]\n",
      " [ 0.  0. -0. -0.]]\n",
      "[[ 0. -0. -0.  0.]\n",
      " [-0.  0.  0. -0.]\n",
      " [ 0.  0.  0.  0.]\n",
      " [ 0.  0. -0. -0.]]\n",
      "[[ 0.  0.  0.  0.]\n",
      " [ 0.  0.  0.  0.]\n",
      " [ 0.  0. -0.  0.]\n",
      " [ 0.  0. -0. -0.]]\n",
      "[[-0.  0.  0. -0.]\n",
      " [ 0. -0. -0.  0.]\n",
      " [ 0.  0. -0.  0.]\n",
      " [ 0.  0. -0. -0.]]\n",
      "[[ 0.  0.  0.  0.]\n",
      " [ 0.  0.  0.  0.]\n",
      " [ 0.  0. -0. -0.]\n",
      " [ 0.  0.  0. -0.]]\n",
      "[[ 0. -0. -0.  0.]\n",
      " [-0.  0.  0. -0.]\n",
      " [ 0.  0. -0. -0.]\n",
      " [ 0.  0.  0. -0.]]\n",
      "[[ 0.  0.  0.  0.]\n",
      " [ 0.  0.  0.  0.]\n",
      " [ 0.  0. -0. -0.]\n",
      " [ 0.  0.  0. -0.]]\n",
      "[[-0.  0.  0. -0.]\n",
      " [ 0. -0. -0.  0.]\n",
      " [ 0.  0. -0. -0.]\n",
      " [ 0.  0.  0. -0.]]\n",
      "[[ 0.  0.  0.  0.]\n",
      " [ 0.  0.  0.  0.]\n",
      " [ 0.  0.  0. -0.]\n",
      " [ 0.  0.  0.  0.]]\n",
      "[[ 0. -0. -0.  0.]\n",
      " [-0.  0.  0. -0.]\n",
      " [ 0.  0.  0. -0.]\n",
      " [ 0.  0.  0.  0.]]\n",
      "[[ 0.  0.  0.  0.]\n",
      " [ 0.  0.  0.  0.]\n",
      " [ 0.  0.  0. -0.]\n",
      " [ 0.  0.  0.  0.]]\n",
      "[[-0.  0.  0. -0.]\n",
      " [ 0. -0. -0.  0.]\n",
      " [ 0.  0.  0. -0.]\n",
      " [ 0.  0.  0.  0.]]\n",
      "[[ 0.  0.  0.  0.]\n",
      " [ 0.  0.  0.  0.]\n",
      " [ 0.  0.  0.  0.]\n",
      " [ 0.  0. -0.  0.]]\n",
      "[[ 0. -0. -0.  0.]\n",
      " [-0.  0.  0. -0.]\n",
      " [ 0.  0.  0.  0.]\n",
      " [ 0.  0. -0.  0.]]\n",
      "[[ 0.  0.  0.  0.]\n",
      " [ 0.  0.  0.  0.]\n",
      " [ 0.  0.  0.  0.]\n",
      " [ 0.  0. -0.  0.]]\n",
      "[[-0.  0.  0. -0.]\n",
      " [ 0. -0. -0.  0.]\n",
      " [ 0.  0.  0.  0.]\n",
      " [ 0.  0. -0.  0.]]\n",
      "[[ 0.  0.  0.  0.]\n",
      " [ 0.  0.  0.  0.]\n",
      " [ 0.  0. -0.  0.]\n",
      " [ 0.  0. -0. -0.]]\n",
      "[[ 0. -0. -0.  0.]\n",
      " [-0.  0.  0. -0.]\n",
      " [ 0.  0. -0.  0.]\n",
      " [ 0.  0. -0. -0.]]\n",
      "[[ 0.  0.  0.  0.]\n",
      " [ 0.  0.  0.  0.]\n",
      " [ 0.  0. -0.  0.]\n",
      " [ 0.  0. -0. -0.]]\n",
      "[[-0.  0.  0. -0.]\n",
      " [ 0. -0. -0.  0.]\n",
      " [ 0.  0. -0.  0.]\n",
      " [ 0.  0. -0. -0.]]\n",
      "[[ 0.  0.  0.  0.]\n",
      " [ 0.  0.  0.  0.]\n",
      " [ 0.  0. -0. -0.]\n",
      " [ 0.  0.  0. -0.]]\n",
      "[[ 0. -0. -0.  0.]\n",
      " [-0.  0.  0. -0.]\n",
      " [ 0.  0. -0. -0.]\n",
      " [ 0.  0.  0. -0.]]\n",
      "[[ 0.  0.  0.  0.]\n",
      " [ 0.  0.  0.  0.]\n",
      " [ 0.  0. -0. -0.]\n",
      " [ 0.  0.  0.  0.]]\n",
      "[[-0.  0.  0. -0.]\n",
      " [ 0. -0. -0.  0.]\n",
      " [ 0.  0. -0. -0.]\n",
      " [ 0.  0.  0.  0.]]\n",
      "[[ 0.  0.  0.  0.]\n",
      " [ 0.  0.  0.  0.]\n",
      " [ 0.  0.  0. -0.]\n",
      " [ 0.  0.  0.  0.]]\n",
      "[[ 0. -0. -0.  0.]\n",
      " [-0.  0.  0. -0.]\n",
      " [ 0.  0.  0. -0.]\n",
      " [ 0.  0.  0.  0.]]\n",
      "[[ 0.  0.  0.  0.]\n",
      " [ 0.  0.  0.  0.]\n",
      " [ 0.  0.  0. -0.]\n",
      " [ 0.  0.  0.  0.]]\n",
      "[[-0.  0.  0. -0.]\n",
      " [ 0. -0. -0.  0.]\n",
      " [ 0.  0.  0. -0.]\n",
      " [ 0.  0.  0.  0.]]\n",
      "[[ 0.  0.  0.  0.]\n",
      " [ 0.  0.  0.  0.]\n",
      " [ 0.  0.  0.  0.]\n",
      " [ 0.  0. -0.  0.]]\n",
      "[[ 0. -0. -0.  0.]\n",
      " [-0.  0.  0. -0.]\n",
      " [ 0.  0.  0.  0.]\n",
      " [ 0.  0. -0.  0.]]\n",
      "[[ 0.  0.  0.  0.]\n",
      " [ 0.  0.  0.  0.]\n",
      " [ 0.  0.  0.  0.]\n",
      " [ 0.  0. -0. -0.]]\n",
      "[[-0.  0.  0. -0.]\n",
      " [ 0. -0. -0.  0.]\n",
      " [ 0.  0.  0.  0.]\n",
      " [ 0.  0. -0. -0.]]\n",
      "[[ 0.  0.  0.  0.]\n",
      " [ 0.  0.  0.  0.]\n",
      " [ 0.  0. -0.  0.]\n",
      " [ 0.  0. -0. -0.]]\n",
      "[[ 0. -0. -0.  0.]\n",
      " [-0.  0.  0. -0.]\n",
      " [ 0.  0. -0.  0.]\n",
      " [ 0.  0. -0. -0.]]\n",
      "[[ 0.  0.  0.  0.]\n",
      " [ 0.  0.  0.  0.]\n",
      " [ 0.  0. -0.  0.]\n",
      " [ 0.  0. -0. -0.]]\n",
      "[[-0.  0.  0. -0.]\n",
      " [ 0. -0. -0.  0.]\n",
      " [ 0.  0. -0.  0.]\n",
      " [ 0.  0. -0. -0.]]\n",
      "[[ 0.  0.  0.  0.]\n",
      " [ 0.  0.  0.  0.]\n",
      " [ 0.  0. -0. -0.]\n",
      " [ 0.  0.  0. -0.]]\n",
      "[[ 0. -0. -0.  0.]\n",
      " [-0.  0.  0. -0.]\n",
      " [ 0.  0. -0. -0.]\n",
      " [ 0.  0.  0. -0.]]\n",
      "[[ 0.  0.  0.  0.]\n",
      " [ 0.  0.  0.  0.]\n",
      " [ 0.  0. -0. -0.]\n",
      " [ 0.  0.  0.  0.]]\n",
      "[[-0.  0.  0. -0.]\n",
      " [ 0. -0. -0.  0.]\n",
      " [ 0.  0. -0. -0.]\n",
      " [ 0.  0.  0.  0.]]\n",
      "[[ 0.  0.  0.  0.]\n",
      " [ 0.  0.  0.  0.]\n",
      " [ 0.  0.  0. -0.]\n",
      " [ 0.  0.  0.  0.]]\n",
      "[[ 0. -0. -0.  0.]\n",
      " [-0.  0.  0. -0.]\n",
      " [ 0.  0.  0. -0.]\n",
      " [ 0.  0.  0.  0.]]\n",
      "[[ 0.  0.  0.  0.]\n",
      " [ 0.  0.  0.  0.]\n",
      " [ 0.  0.  0. -0.]\n",
      " [ 0.  0.  0.  0.]]\n",
      "[[-0.  0.  0. -0.]\n",
      " [ 0. -0. -0.  0.]\n",
      " [ 0.  0.  0. -0.]\n",
      " [ 0.  0.  0.  0.]]\n",
      "[[ 0.  0.  0.  0.]\n",
      " [ 0.  0.  0.  0.]\n",
      " [ 0.  0.  0.  0.]\n",
      " [ 0.  0. -0.  0.]]\n",
      "[[ 0. -0. -0.  0.]\n",
      " [-0.  0.  0. -0.]\n",
      " [ 0.  0.  0.  0.]\n",
      " [ 0.  0. -0.  0.]]\n",
      "[[ 0.  0.  0.  0.]\n",
      " [ 0.  0.  0.  0.]\n",
      " [ 0.  0.  0.  0.]\n",
      " [ 0.  0. -0. -0.]]\n",
      "[[-0.  0.  0. -0.]\n",
      " [ 0. -0. -0.  0.]\n",
      " [ 0.  0.  0.  0.]\n",
      " [ 0.  0. -0. -0.]]\n",
      "[[ 0.  0.  0.  0.]\n",
      " [ 0.  0.  0.  0.]\n",
      " [ 0.  0. -0.  0.]\n",
      " [ 0.  0. -0. -0.]]\n",
      "[[ 0. -0. -0.  0.]\n",
      " [-0.  0.  0. -0.]\n",
      " [ 0.  0. -0.  0.]\n",
      " [ 0.  0. -0. -0.]]\n",
      "[[ 0.  0.  0.  0.]\n",
      " [ 0.  0.  0.  0.]\n",
      " [ 0.  0. -0.  0.]\n",
      " [ 0.  0. -0. -0.]]\n",
      "[[-0.  0.  0. -0.]\n",
      " [ 0. -0. -0.  0.]\n",
      " [ 0.  0. -0.  0.]\n",
      " [ 0.  0. -0. -0.]]\n",
      "[[ 0.  0.  0.  0.]\n",
      " [ 0.  0.  0.  0.]\n",
      " [ 0.  0. -0. -0.]\n",
      " [ 0.  0.  0. -0.]]\n",
      "[[ 0. -0. -0.  0.]\n",
      " [-0.  0.  0. -0.]\n",
      " [ 0.  0. -0. -0.]\n",
      " [ 0.  0.  0. -0.]]\n",
      "[[ 0.  0.  0.  0.]\n",
      " [ 0.  0.  0.  0.]\n",
      " [ 0.  0. -0. -0.]\n",
      " [ 0.  0.  0.  0.]]\n",
      "[[-0.  0.  0. -0.]\n",
      " [ 0. -0. -0.  0.]\n",
      " [ 0.  0. -0. -0.]\n",
      " [ 0.  0.  0.  0.]]\n",
      "[[ 0.  0.  0.  0.]\n",
      " [ 0.  0.  0.  0.]\n",
      " [ 0.  0.  0. -0.]\n",
      " [ 0.  0.  0.  0.]]\n",
      "[[ 0. -0. -0.  0.]\n",
      " [-0.  0.  0. -0.]\n",
      " [ 0.  0.  0. -0.]\n",
      " [ 0.  0.  0.  0.]]\n",
      "[[ 0.  0.  0.  0.]\n",
      " [ 0.  0.  0.  0.]\n",
      " [ 0.  0.  0. -0.]\n",
      " [ 0.  0.  0.  0.]]\n",
      "[[-0.  0.  0. -0.]\n",
      " [ 0. -0. -0.  0.]\n",
      " [ 0.  0.  0. -0.]\n",
      " [ 0.  0.  0.  0.]]\n",
      "[[ 0.  0.  0.  0.]\n",
      " [ 0.  0.  0.  0.]\n",
      " [ 0.  0.  0.  0.]\n",
      " [ 0.  0. -0.  0.]]\n",
      "[[ 0. -0. -0.  0.]\n",
      " [-0.  0.  0. -0.]\n",
      " [ 0.  0.  0.  0.]\n",
      " [ 0.  0. -0.  0.]]\n",
      "[[ 0.  0.  0.  0.]\n",
      " [ 0.  0.  0.  0.]\n",
      " [ 0.  0.  0.  0.]\n",
      " [ 0.  0. -0. -0.]]\n",
      "[[-0.  0.  0. -0.]\n",
      " [ 0. -0. -0.  0.]\n",
      " [ 0.  0.  0.  0.]\n",
      " [ 0.  0. -0. -0.]]\n",
      "[[ 0.  0.  0.  0.]\n",
      " [ 0.  0.  0.  0.]\n",
      " [ 0.  0. -0.  0.]\n",
      " [ 0.  0. -0. -0.]]\n",
      "[[ 0. -0. -0.  0.]\n",
      " [-0.  0.  0. -0.]\n",
      " [ 0.  0. -0.  0.]\n",
      " [ 0.  0. -0. -0.]]\n",
      "[[ 0.  0.  0.  0.]\n",
      " [ 0.  0.  0.  0.]\n",
      " [ 0.  0. -0.  0.]\n",
      " [ 0.  0. -0. -0.]]\n",
      "[[-0.  0.  0. -0.]\n",
      " [ 0. -0. -0.  0.]\n",
      " [ 0.  0. -0.  0.]\n",
      " [ 0.  0. -0. -0.]]\n",
      "[[ 0.  0.  0.  0.]\n",
      " [ 0.  0.  0.  0.]\n",
      " [ 0.  0. -0. -0.]\n",
      " [ 0.  0.  0. -0.]]\n",
      "[[ 0. -0. -0.  0.]\n",
      " [-0.  0.  0. -0.]\n",
      " [ 0.  0. -0. -0.]\n",
      " [ 0.  0.  0. -0.]]\n",
      "[[ 0.  0.  0.  0.]\n",
      " [ 0.  0.  0.  0.]\n",
      " [ 0.  0. -0. -0.]\n",
      " [ 0.  0.  0.  0.]]\n",
      "[[-0.  0.  0. -0.]\n",
      " [ 0. -0. -0.  0.]\n",
      " [ 0.  0. -0. -0.]\n",
      " [ 0.  0.  0.  0.]]\n",
      "[[ 0.  0.  0.  0.]\n",
      " [ 0.  0.  0.  0.]\n",
      " [ 0.  0.  0. -0.]\n",
      " [ 0.  0.  0.  0.]]\n",
      "[[ 0. -0. -0.  0.]\n",
      " [-0.  0.  0. -0.]\n",
      " [ 0.  0.  0. -0.]\n",
      " [ 0.  0.  0.  0.]]\n",
      "[[ 0.  0.  0.  0.]\n",
      " [ 0.  0.  0.  0.]\n",
      " [ 0.  0.  0. -0.]\n",
      " [ 0.  0.  0.  0.]]\n",
      "[[-0.  0.  0. -0.]\n",
      " [ 0. -0. -0.  0.]\n",
      " [ 0.  0.  0. -0.]\n",
      " [ 0.  0.  0.  0.]]\n",
      "[[ 0.  0.  0.  0.]\n",
      " [ 0.  0.  0.  0.]\n",
      " [ 0.  0.  0.  0.]\n",
      " [ 0.  0. -0.  0.]]\n",
      "[[ 0. -0. -0.  0.]\n",
      " [-0.  0.  0. -0.]\n",
      " [ 0.  0.  0.  0.]\n",
      " [ 0.  0. -0.  0.]]\n",
      "[[ 0.  0.  0.  0.]\n",
      " [ 0.  0.  0.  0.]\n",
      " [ 0.  0.  0.  0.]\n",
      " [ 0.  0. -0. -0.]]\n",
      "[[-0.  0.  0. -0.]\n",
      " [ 0. -0. -0.  0.]\n",
      " [ 0.  0.  0.  0.]\n",
      " [ 0.  0. -0. -0.]]\n",
      "[[ 0.  0.  0.  0.]\n",
      " [ 0.  0.  0.  0.]\n",
      " [ 0.  0. -0.  0.]\n",
      " [ 0.  0. -0. -0.]]\n",
      "[[ 0. -0. -0.  0.]\n",
      " [-0.  0.  0. -0.]\n",
      " [ 0.  0. -0.  0.]\n",
      " [ 0.  0. -0. -0.]]\n",
      "[[ 0.  0.  0.  0.]\n",
      " [ 0.  0.  0.  0.]\n",
      " [ 0.  0. -0.  0.]\n",
      " [ 0.  0. -0. -0.]]\n",
      "[[-0.  0.  0. -0.]\n",
      " [ 0. -0. -0.  0.]\n",
      " [ 0.  0. -0.  0.]\n",
      " [ 0.  0. -0. -0.]]\n",
      "[[ 0.  0.  0.  0.]\n",
      " [ 0.  0.  0.  0.]\n",
      " [ 0.  0. -0. -0.]\n",
      " [ 0.  0.  0. -0.]]\n",
      "[[ 0. -0. -0.  0.]\n",
      " [-0.  0.  0. -0.]\n",
      " [ 0.  0. -0. -0.]\n",
      " [ 0.  0.  0. -0.]]\n",
      "[[ 0.  0.  0.  0.]\n",
      " [ 0.  0.  0.  0.]\n",
      " [ 0.  0. -0. -0.]\n",
      " [ 0.  0.  0.  0.]]\n",
      "[[-0.  0.  0. -0.]\n",
      " [ 0. -0. -0.  0.]\n",
      " [ 0.  0. -0. -0.]\n",
      " [ 0.  0.  0.  0.]]\n",
      "[[ 0.  0.  0.  0.]\n",
      " [ 0.  0.  0.  0.]\n",
      " [ 0.  0.  0. -0.]\n",
      " [ 0.  0.  0.  0.]]\n",
      "[[ 0. -0. -0.  0.]\n",
      " [-0.  0.  0. -0.]\n",
      " [ 0.  0.  0. -0.]\n",
      " [ 0.  0.  0.  0.]]\n",
      "[[ 0.  0.  0.  0.]\n",
      " [ 0.  0.  0.  0.]\n",
      " [ 0.  0.  0. -0.]\n",
      " [ 0.  0.  0.  0.]]\n",
      "[[-0.  0.  0. -0.]\n",
      " [ 0. -0. -0.  0.]\n",
      " [ 0.  0.  0. -0.]\n",
      " [ 0.  0.  0.  0.]]\n",
      "[[ 0.  0.  0.  0.]\n",
      " [ 0.  0.  0.  0.]\n",
      " [ 0.  0.  0.  0.]\n",
      " [ 0.  0. -0.  0.]]\n",
      "[[ 0. -0. -0.  0.]\n",
      " [-0.  0.  0. -0.]\n",
      " [ 0.  0.  0.  0.]\n",
      " [ 0.  0. -0.  0.]]\n",
      "[[ 0.  0.  0.  0.]\n",
      " [ 0.  0.  0.  0.]\n",
      " [ 0.  0.  0.  0.]\n",
      " [ 0.  0. -0. -0.]]\n",
      "[[-0.  0.  0. -0.]\n",
      " [ 0. -0. -0.  0.]\n",
      " [ 0.  0.  0.  0.]\n",
      " [ 0.  0. -0. -0.]]\n",
      "[[ 0.  0.  0.  0.]\n",
      " [ 0.  0.  0.  0.]\n",
      " [ 0.  0. -0.  0.]\n",
      " [ 0.  0. -0. -0.]]\n",
      "[[ 0. -0. -0.  0.]\n",
      " [-0.  0.  0. -0.]\n",
      " [ 0.  0. -0.  0.]\n",
      " [ 0.  0. -0. -0.]]\n",
      "[[ 0.  0.  0.  0.]\n",
      " [ 0.  0.  0.  0.]\n",
      " [ 0.  0. -0. -0.]\n",
      " [ 0.  0.  0. -0.]]\n",
      "[[-0.  0.  0. -0.]\n",
      " [ 0. -0. -0.  0.]\n",
      " [ 0.  0. -0. -0.]\n",
      " [ 0.  0.  0. -0.]]\n",
      "[[ 0.  0.  0.  0.]\n",
      " [ 0.  0.  0.  0.]\n",
      " [ 0.  0. -0. -0.]\n",
      " [ 0.  0.  0. -0.]]\n",
      "[[ 0. -0. -0.  0.]\n",
      " [-0.  0.  0. -0.]\n",
      " [ 0.  0. -0. -0.]\n",
      " [ 0.  0.  0. -0.]]\n",
      "[[ 0.  0.  0.  0.]\n",
      " [ 0.  0.  0.  0.]\n",
      " [ 0.  0. -0. -0.]\n",
      " [ 0.  0.  0.  0.]]\n",
      "[[-0.  0.  0. -0.]\n",
      " [ 0. -0. -0.  0.]\n",
      " [ 0.  0. -0. -0.]\n",
      " [ 0.  0.  0.  0.]]\n",
      "[[ 0.  0.  0.  0.]\n",
      " [ 0.  0.  0.  0.]\n",
      " [ 0.  0.  0. -0.]\n",
      " [ 0.  0.  0.  0.]]\n",
      "[[ 0. -0. -0.  0.]\n",
      " [-0.  0.  0. -0.]\n",
      " [ 0.  0.  0. -0.]\n",
      " [ 0.  0.  0.  0.]]\n",
      "[[ 0.  0.  0.  0.]\n",
      " [ 0.  0.  0.  0.]\n",
      " [ 0.  0.  0.  0.]\n",
      " [ 0.  0. -0.  0.]]\n",
      "[[-0.  0.  0. -0.]\n",
      " [ 0. -0. -0.  0.]\n",
      " [ 0.  0.  0.  0.]\n",
      " [ 0.  0. -0.  0.]]\n",
      "[[ 0.  0.  0.  0.]\n",
      " [ 0.  0.  0.  0.]\n",
      " [ 0.  0.  0.  0.]\n",
      " [ 0.  0. -0.  0.]]\n",
      "[[ 0. -0. -0.  0.]\n",
      " [-0.  0.  0. -0.]\n",
      " [ 0.  0.  0.  0.]\n",
      " [ 0.  0. -0.  0.]]\n",
      "[[ 0.  0.  0.  0.]\n",
      " [ 0.  0.  0.  0.]\n",
      " [ 0.  0.  0.  0.]\n",
      " [ 0.  0. -0. -0.]]\n",
      "[[-0.  0.  0. -0.]\n",
      " [ 0. -0. -0.  0.]\n",
      " [ 0.  0.  0.  0.]\n",
      " [ 0.  0. -0. -0.]]\n",
      "[[ 0.  0.  0.  0.]\n",
      " [ 0.  0.  0.  0.]\n",
      " [ 0.  0. -0.  0.]\n",
      " [ 0.  0. -0. -0.]]\n",
      "[[ 0. -0. -0.  0.]\n",
      " [-0.  0.  0. -0.]\n",
      " [ 0.  0. -0.  0.]\n",
      " [ 0.  0. -0. -0.]]\n",
      "[[ 0.  0.  0.  0.]\n",
      " [ 0.  0.  0.  0.]\n",
      " [ 0.  0. -0. -0.]\n",
      " [ 0.  0.  0. -0.]]\n",
      "[[-0.  0.  0. -0.]\n",
      " [ 0. -0. -0.  0.]\n",
      " [ 0.  0. -0. -0.]\n",
      " [ 0.  0.  0. -0.]]\n",
      "[[ 0.  0.  0.  0.]\n",
      " [ 0.  0.  0.  0.]\n",
      " [ 0.  0. -0. -0.]\n",
      " [ 0.  0.  0. -0.]]\n",
      "[[ 0. -0. -0.  0.]\n",
      " [-0.  0.  0. -0.]\n",
      " [ 0.  0. -0. -0.]\n",
      " [ 0.  0.  0. -0.]]\n",
      "[[ 0.  0.  0.  0.]\n",
      " [ 0.  0.  0.  0.]\n",
      " [ 0.  0. -0. -0.]\n",
      " [ 0.  0.  0.  0.]]\n",
      "[[-0.  0.  0. -0.]\n",
      " [ 0. -0. -0.  0.]\n",
      " [ 0.  0. -0. -0.]\n",
      " [ 0.  0.  0.  0.]]\n",
      "[[ 0.  0.  0.  0.]\n",
      " [ 0.  0.  0.  0.]\n",
      " [ 0.  0.  0. -0.]\n",
      " [ 0.  0.  0.  0.]]\n",
      "[[ 0. -0. -0.  0.]\n",
      " [-0.  0.  0. -0.]\n",
      " [ 0.  0.  0. -0.]\n",
      " [ 0.  0.  0.  0.]]\n",
      "[[ 0.  0.  0.  0.]\n",
      " [ 0.  0.  0.  0.]\n",
      " [ 0.  0.  0.  0.]\n",
      " [ 0.  0. -0.  0.]]\n",
      "[[-0.  0.  0. -0.]\n",
      " [ 0. -0. -0.  0.]\n",
      " [ 0.  0.  0.  0.]\n",
      " [ 0.  0. -0.  0.]]\n",
      "[[ 0.  0.  0.  0.]\n",
      " [ 0.  0.  0.  0.]\n",
      " [ 0.  0.  0.  0.]\n",
      " [ 0.  0. -0.  0.]]\n",
      "[[ 0. -0. -0.  0.]\n",
      " [-0.  0.  0. -0.]\n",
      " [ 0.  0.  0.  0.]\n",
      " [ 0.  0. -0.  0.]]\n",
      "[[ 0.  0.  0.  0.]\n",
      " [ 0.  0.  0.  0.]\n",
      " [ 0.  0.  0.  0.]\n",
      " [ 0.  0. -0. -0.]]\n",
      "[[-0.  0.  0. -0.]\n",
      " [ 0. -0. -0.  0.]\n",
      " [ 0.  0.  0.  0.]\n",
      " [ 0.  0. -0. -0.]]\n",
      "[[ 0.  0.  0.  0.]\n",
      " [ 0.  0.  0.  0.]\n",
      " [ 0.  0. -0.  0.]\n",
      " [ 0.  0. -0. -0.]]\n",
      "[[ 0. -0. -0.  0.]\n",
      " [-0.  0.  0. -0.]\n",
      " [ 0.  0. -0.  0.]\n",
      " [ 0.  0. -0. -0.]]\n",
      "[[ 0.  0.  0.  0.]\n",
      " [ 0.  0.  0.  0.]\n",
      " [ 0.  0. -0. -0.]\n",
      " [ 0.  0.  0. -0.]]\n",
      "[[-0.  0.  0. -0.]\n",
      " [ 0. -0. -0.  0.]\n",
      " [ 0.  0. -0. -0.]\n",
      " [ 0.  0.  0. -0.]]\n"
     ]
    }
   ],
   "source": [
    "for k in range(100):\n",
    "    print(1.0 / factorial(k) * np.linalg.matrix_power(Ag, k))\n",
    "    print(1.0 / factorial(k) * np.linalg.matrix_power(T @ Af @ TI, k))"
   ]
  },
  {
   "cell_type": "code",
   "execution_count": 35,
   "id": "2fded42f-26d4-44e7-8d7e-dfabb7c9677b",
   "metadata": {},
   "outputs": [
    {
     "data": {
      "text/plain": [
       "array([-0.5915, -1.9501])"
      ]
     },
     "execution_count": 35,
     "metadata": {},
     "output_type": "execute_result"
    }
   ],
   "source": [
    "(Cg - Ap @ Cf) @ R @ Bf"
   ]
  },
  {
   "cell_type": "code",
   "execution_count": null,
   "id": "a6a9d8ce-7612-4ae7-89f5-16a3042dc3df",
   "metadata": {},
   "outputs": [],
   "source": []
  }
 ],
 "metadata": {
  "kernelspec": {
   "display_name": "Python 3",
   "language": "python",
   "name": "python3"
  },
  "language_info": {
   "codemirror_mode": {
    "name": "ipython",
    "version": 3
   },
   "file_extension": ".py",
   "mimetype": "text/x-python",
   "name": "python",
   "nbconvert_exporter": "python",
   "pygments_lexer": "ipython3",
   "version": "3.9.6"
  }
 },
 "nbformat": 4,
 "nbformat_minor": 5
}
