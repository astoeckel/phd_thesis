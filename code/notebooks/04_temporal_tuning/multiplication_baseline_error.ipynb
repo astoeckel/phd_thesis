{
 "cells": [
  {
   "cell_type": "code",
   "execution_count": 4,
   "id": "f741d936-53db-4f5c-b016-ce73d221fc64",
   "metadata": {},
   "outputs": [],
   "source": [
    "import numpy as np\n",
    "import nengo\n",
    "import matplotlib.pyplot as plt"
   ]
  },
  {
   "cell_type": "code",
   "execution_count": 5,
   "id": "bfd01752-be2f-419d-bd50-dff7c2621f2b",
   "metadata": {},
   "outputs": [],
   "source": [
    "sig1 = nengo.processes.WhiteSignal(high=10.0, period=100.0, rms=1.0).run(100.0, dt=1e-3)\n",
    "sig2 = nengo.processes.WhiteSignal(high=10.0, period=100.0, rms=1.0).run(100.0, dt=1e-3)"
   ]
  },
  {
   "cell_type": "code",
   "execution_count": 19,
   "id": "c724740f-d353-4174-96cb-3bce08a61980",
   "metadata": {},
   "outputs": [
    {
     "data": {
      "text/plain": [
       "1.2524800050431146"
      ]
     },
     "execution_count": 19,
     "metadata": {},
     "output_type": "execute_result"
    }
   ],
   "source": [
    "tar = sig1 * sig2\n",
    "rms = np.sqrt(np.mean(np.square(tar)))\n",
    "np.sqrt(np.mean(np.square((0.5 * sig1 + 0.5 * sig2) - tar))) / rms"
   ]
  },
  {
   "cell_type": "code",
   "execution_count": null,
   "id": "dfbcdf8f-a7ef-4f47-9202-85621a2f1bf7",
   "metadata": {},
   "outputs": [],
   "source": []
  }
 ],
 "metadata": {
  "kernelspec": {
   "display_name": "Python 3",
   "language": "python",
   "name": "python3"
  },
  "language_info": {
   "codemirror_mode": {
    "name": "ipython",
    "version": 3
   },
   "file_extension": ".py",
   "mimetype": "text/x-python",
   "name": "python",
   "nbconvert_exporter": "python",
   "pygments_lexer": "ipython3",
   "version": "3.9.7"
  }
 },
 "nbformat": 4,
 "nbformat_minor": 5
}
