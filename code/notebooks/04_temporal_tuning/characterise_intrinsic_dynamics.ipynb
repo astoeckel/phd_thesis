{
 "cells": [
  {
   "cell_type": "code",
   "execution_count": 1,
   "id": "82b8e45b-7268-4fb9-bec9-88c133a1491e",
   "metadata": {},
   "outputs": [],
   "source": [
    "import sys\n",
    "sys.path.append(\"../../lib\")"
   ]
  },
  {
   "cell_type": "code",
   "execution_count": 314,
   "id": "368205a3-0bd6-4b29-a8c8-ca9832fce982",
   "metadata": {},
   "outputs": [],
   "source": [
    "import matplotlib.pyplot as plt\n",
    "import nengo\n",
    "import numpy as np\n",
    "import lif_utils\n",
    "import scipy.signal\n",
    "import dlop_ldn_function_bases as bases"
   ]
  },
  {
   "cell_type": "code",
   "execution_count": 3,
   "id": "6ed6c08b-8cfa-4973-b943-272daf33e808",
   "metadata": {},
   "outputs": [],
   "source": [
    "def wnd_hann(xs):\n",
    "    return (0.5 - 0.5 * np.cos(2.0 * np.pi * xs)) * np.logical_and(xs >= 0.0, xs <= 1.0)"
   ]
  },
  {
   "cell_type": "code",
   "execution_count": 4,
   "id": "32e6ee33-ff6a-4c92-86fc-b8b8e4e435da",
   "metadata": {},
   "outputs": [],
   "source": [
    "def wnd_rect(xs):\n",
    "    return 1.0 * np.logical_and(xs >= 0.0, xs <= 1.0)"
   ]
  },
  {
   "cell_type": "code",
   "execution_count": 393,
   "id": "cfb48322-27ee-4b49-b60c-6ad6287036f1",
   "metadata": {},
   "outputs": [],
   "source": [
    "def scalar_data_to_multi_dim(xs, xmin=-1, xmax=1, N=100, overlap=2, wnd=wnd_hann):\n",
    "    xs_rescaled = np.clip(((N - 1) / overlap) * (xs - xmin) / (xmax - xmin) + 0.5, 0.5, 0.5 * N)\n",
    "    #print(xs_rescaled)\n",
    "    res = wnd(xs_rescaled[..., None] - np.linspace(0, (N - 1) / overlap, N))\n",
    "    return res / np.sum(res + 1e-9, axis=1)[..., None]"
   ]
  },
  {
   "cell_type": "code",
   "execution_count": 6,
   "id": "ee88f0bd-7f5f-40a6-9330-f8075de1ecaf",
   "metadata": {},
   "outputs": [],
   "source": [
    "def mk_low_pass_filter_basis(q, N, Nmul=1, tau0=0.1, tau1=100.0):\n",
    "    ts = np.linspace(0, Nmul, N * Nmul)\n",
    "    taus = np.geomspace(tau0, tau1, q)\n",
    "    res = np.array([np.exp(-ts / tau) for tau in taus])\n",
    "    return res / np.sum(res, axis=1)[:, None]"
   ]
  },
  {
   "cell_type": "code",
   "execution_count": 449,
   "id": "705776bd-eb89-424a-8335-7ccb061799b9",
   "metadata": {},
   "outputs": [],
   "source": [
    "dt, T = 1e-3, 10.0\n",
    "ts = np.arange(0, T, dt)\n",
    "N = len(ts)\n",
    "A_tar = np.random.randn(N)\n",
    "A_tar = nengo.Lowpass(200e-3).filt(A_tar, dt=dt)\n",
    "A_tar = np.clip(A_tar - np.percentile(A_tar, 5), 0, None)\n",
    "A_tar = np.clip(50 * A_tar / np.percentile(A_tar, 95), 0.1, None)\n",
    "J_tar = lif_utils.lif_rate_inv(A_tar)"
   ]
  },
  {
   "cell_type": "code",
   "execution_count": 450,
   "id": "a22efd5e-21e3-4e98-ae7d-51ef221bb129",
   "metadata": {},
   "outputs": [
    {
     "data": {
      "text/plain": [
       "[<matplotlib.lines.Line2D at 0x7f8a6bdc0460>]"
      ]
     },
     "execution_count": 450,
     "metadata": {},
     "output_type": "execute_result"
    },
    {
     "data": {
      "image/png": "[encoded data removed]",
      "text/plain": [
       "<Figure size 432x288 with 1 Axes>"
      ]
     },
     "metadata": {
      "needs_background": "light"
     },
     "output_type": "display_data"
    }
   ],
   "source": [
    "fig, ax = plt.subplots()\n",
    "ax.plot(ts, J_tar)"
   ]
  },
  {
   "cell_type": "code",
   "execution_count": 451,
   "id": "f1d104a5-364e-4ac8-b558-cba310ac7eeb",
   "metadata": {},
   "outputs": [],
   "source": [
    "def sim_neuron(Js, neuron_type, dt=1e-3):\n",
    "    N = len(Js)\n",
    "    T = N * dt\n",
    "    with nengo.Network() as model:\n",
    "        gain = 2.0\n",
    "        ens = nengo.Ensemble(n_neurons=1, dimensions=1, gain=gain * np.ones(1), bias=np.zeros(1), neuron_type=neuron_type)\n",
    "        nd = nengo.Node(lambda t: Js[int(t / dt) % N] / gain)\n",
    "        nengo.Connection(nd, ens.neurons, transform=np.ones((1, 1)), synapse=None)\n",
    "        p = nengo.Probe(ens.neurons, 'voltage', synapse=None)\n",
    "\n",
    "    with nengo.Simulator(model) as sim:\n",
    "        sim.run(T)\n",
    "\n",
    "    return sim.trange(), sim.data[p]"
   ]
  },
  {
   "cell_type": "code",
   "execution_count": 452,
   "id": "72cbfcf2-4e5f-4162-a9d0-37301eb56048",
   "metadata": {},
   "outputs": [
    {
     "data": {
      "application/vdom.v1+json": {
       "attributes": {},
       "tagName": "div"
      },
      "text/html": [
       "\n",
       "                <script>\n",
       "                    if (Jupyter.version.split(\".\")[0] < 5) {\n",
       "                        var pb = document.getElementById(\"c4c35f09-d273-4566-8420-5398d6c9d95a\");\n",
       "                        var text = document.createTextNode(\n",
       "                            \"HMTL progress bar requires Jupyter Notebook >= \" +\n",
       "                            \"5.0 or Jupyter Lab. Alternatively, you can use \" +\n",
       "                            \"TerminalProgressBar().\");\n",
       "                        pb.parentNode.insertBefore(text, pb);\n",
       "                    }\n",
       "                </script>\n",
       "                <div id=\"c4c35f09-d273-4566-8420-5398d6c9d95a\" style=\"\n",
       "                    width: 100%;\n",
       "                    border: 1px solid #cfcfcf;\n",
       "                    border-radius: 4px;\n",
       "                    text-align: center;\n",
       "                    position: relative;\">\n",
       "                  <div class=\"pb-text\" style=\"\n",
       "                      position: absolute;\n",
       "                      width: 100%;\">\n",
       "                    0%\n",
       "                  </div>\n",
       "                  <div class=\"pb-fill\" style=\"\n",
       "                      background-color: #bdd2e6;\n",
       "                      width: 0%;\">\n",
       "                    <style type=\"text/css\" scoped=\"scoped\">\n",
       "                        @keyframes pb-fill-anim {\n",
       "                            0% { background-position: 0 0; }\n",
       "                            100% { background-position: 100px 0; }\n",
       "                        }\n",
       "                    </style>\n",
       "                    &nbsp;\n",
       "                  </div>\n",
       "                </div>"
      ],
      "text/plain": [
       "HtmlProgressBar cannot be displayed. Please use the TerminalProgressBar. It can be enabled with `nengo.rc['progress']['progress_bar'] = 'nengo.utils.progress.TerminalProgressBar'`."
      ]
     },
     "metadata": {},
     "output_type": "display_data"
    },
    {
     "data": {
      "application/vdom.v1+json": {
       "attributes": {
        "id": "4604d274-fb9a-4142-9d4f-1b284b9a2622",
        "style": {
         "border": "1px solid #cfcfcf",
         "borderRadius": "4px",
         "boxSizing": "border-box",
         "position": "relative",
         "textAlign": "center",
         "width": "100%"
        }
       },
       "children": [
        {
         "attributes": {
          "class": "pb-text",
          "style": {
           "position": "absolute",
           "width": "100%"
          }
         },
         "children": [
          "Build finished in 0:00:01."
         ],
         "tagName": "div"
        },
        {
         "attributes": {
          "class": "pb-fill",
          "style": {
           "animation": "none",
           "backgroundColor": "#bdd2e6",
           "backgroundImage": "none",
           "backgroundSize": "100px 100%",
           "width": "100%"
          }
         },
         "children": [
          {
           "attributes": {
            "scoped": "scoped",
            "type": "text/css"
           },
           "children": [
            "\n                        @keyframes pb-fill-anim {\n                            0% { background-position: 0 0; }\n                            100% { background-position: 100px 0; }\n                        }}"
           ],
           "tagName": "style"
          },
          " "
         ],
         "tagName": "div"
        }
       ],
       "tagName": "div"
      },
      "text/html": [
       "<script>\n",
       "              (function () {\n",
       "                  var root = document.getElementById('c4c35f09-d273-4566-8420-5398d6c9d95a');\n",
       "                  var text = root.getElementsByClassName('pb-text')[0];\n",
       "                  var fill = root.getElementsByClassName('pb-fill')[0];\n",
       "\n",
       "                  text.innerHTML = 'Build finished in 0:00:01.';\n",
       "                  \n",
       "            fill.style.width = '100%';\n",
       "            fill.style.animation = 'pb-fill-anim 2s linear infinite';\n",
       "            fill.style.backgroundSize = '100px 100%';\n",
       "            fill.style.backgroundImage = 'repeating-linear-gradient(' +\n",
       "                '90deg, #bdd2e6, #edf2f8 40%, #bdd2e6 80%, #bdd2e6)';\n",
       "        \n",
       "                  \n",
       "                fill.style.animation = 'none';\n",
       "                fill.style.backgroundImage = 'none';\n",
       "            \n",
       "              })();\n",
       "        </script>"
      ]
     },
     "metadata": {},
     "output_type": "display_data"
    },
    {
     "data": {
      "application/vdom.v1+json": {
       "attributes": {},
       "tagName": "div"
      },
      "text/html": [
       "\n",
       "                <script>\n",
       "                    if (Jupyter.version.split(\".\")[0] < 5) {\n",
       "                        var pb = document.getElementById(\"523daab2-1f82-4c1b-a9d9-0ccc5fe5b140\");\n",
       "                        var text = document.createTextNode(\n",
       "                            \"HMTL progress bar requires Jupyter Notebook >= \" +\n",
       "                            \"5.0 or Jupyter Lab. Alternatively, you can use \" +\n",
       "                            \"TerminalProgressBar().\");\n",
       "                        pb.parentNode.insertBefore(text, pb);\n",
       "                    }\n",
       "                </script>\n",
       "                <div id=\"523daab2-1f82-4c1b-a9d9-0ccc5fe5b140\" style=\"\n",
       "                    width: 100%;\n",
       "                    border: 1px solid #cfcfcf;\n",
       "                    border-radius: 4px;\n",
       "                    text-align: center;\n",
       "                    position: relative;\">\n",
       "                  <div class=\"pb-text\" style=\"\n",
       "                      position: absolute;\n",
       "                      width: 100%;\">\n",
       "                    0%\n",
       "                  </div>\n",
       "                  <div class=\"pb-fill\" style=\"\n",
       "                      background-color: #bdd2e6;\n",
       "                      width: 0%;\">\n",
       "                    <style type=\"text/css\" scoped=\"scoped\">\n",
       "                        @keyframes pb-fill-anim {\n",
       "                            0% { background-position: 0 0; }\n",
       "                            100% { background-position: 100px 0; }\n",
       "                        }\n",
       "                    </style>\n",
       "                    &nbsp;\n",
       "                  </div>\n",
       "                </div>"
      ],
      "text/plain": [
       "HtmlProgressBar cannot be displayed. Please use the TerminalProgressBar. It can be enabled with `nengo.rc['progress']['progress_bar'] = 'nengo.utils.progress.TerminalProgressBar'`."
      ]
     },
     "metadata": {},
     "output_type": "display_data"
    },
    {
     "data": {
      "application/vdom.v1+json": {
       "attributes": {
        "id": "87add342-ecea-456e-81df-20d66e5937f5",
        "style": {
         "border": "1px solid #cfcfcf",
         "borderRadius": "4px",
         "boxSizing": "border-box",
         "position": "relative",
         "textAlign": "center",
         "width": "100%"
        }
       },
       "children": [
        {
         "attributes": {
          "class": "pb-text",
          "style": {
           "position": "absolute",
           "width": "100%"
          }
         },
         "children": [
          "Simulation finished in 0:00:01."
         ],
         "tagName": "div"
        },
        {
         "attributes": {
          "class": "pb-fill",
          "style": {
           "animation": "none",
           "backgroundColor": "#bdd2e6",
           "backgroundImage": "none",
           "transition": "width 0.1s linear",
           "width": "100%"
          }
         },
         "children": [
          {
           "attributes": {
            "scoped": "scoped",
            "type": "text/css"
           },
           "children": [
            "\n                        @keyframes pb-fill-anim {\n                            0% { background-position: 0 0; }\n                            100% { background-position: 100px 0; }\n                        }}"
           ],
           "tagName": "style"
          },
          " "
         ],
         "tagName": "div"
        }
       ],
       "tagName": "div"
      },
      "text/html": [
       "<script>\n",
       "              (function () {\n",
       "                  var root = document.getElementById('523daab2-1f82-4c1b-a9d9-0ccc5fe5b140');\n",
       "                  var text = root.getElementsByClassName('pb-text')[0];\n",
       "                  var fill = root.getElementsByClassName('pb-fill')[0];\n",
       "\n",
       "                  text.innerHTML = 'Simulation finished in 0:00:01.';\n",
       "                  \n",
       "            if (100.0 > 0.) {\n",
       "                fill.style.transition = 'width 0.1s linear';\n",
       "            } else {\n",
       "                fill.style.transition = 'none';\n",
       "            }\n",
       "\n",
       "            fill.style.width = '100.0%';\n",
       "            fill.style.animation = 'none';\n",
       "            fill.style.backgroundImage = 'none'\n",
       "        \n",
       "                  \n",
       "                fill.style.animation = 'none';\n",
       "                fill.style.backgroundImage = 'none';\n",
       "            \n",
       "              })();\n",
       "        </script>"
      ]
     },
     "metadata": {},
     "output_type": "display_data"
    },
    {
     "data": {
      "application/vdom.v1+json": {
       "attributes": {},
       "tagName": "div"
      },
      "text/html": [
       "\n",
       "                <script>\n",
       "                    if (Jupyter.version.split(\".\")[0] < 5) {\n",
       "                        var pb = document.getElementById(\"e7ec7e14-23e7-44bc-82cb-dd8a0d6c0b64\");\n",
       "                        var text = document.createTextNode(\n",
       "                            \"HMTL progress bar requires Jupyter Notebook >= \" +\n",
       "                            \"5.0 or Jupyter Lab. Alternatively, you can use \" +\n",
       "                            \"TerminalProgressBar().\");\n",
       "                        pb.parentNode.insertBefore(text, pb);\n",
       "                    }\n",
       "                </script>\n",
       "                <div id=\"e7ec7e14-23e7-44bc-82cb-dd8a0d6c0b64\" style=\"\n",
       "                    width: 100%;\n",
       "                    border: 1px solid #cfcfcf;\n",
       "                    border-radius: 4px;\n",
       "                    text-align: center;\n",
       "                    position: relative;\">\n",
       "                  <div class=\"pb-text\" style=\"\n",
       "                      position: absolute;\n",
       "                      width: 100%;\">\n",
       "                    0%\n",
       "                  </div>\n",
       "                  <div class=\"pb-fill\" style=\"\n",
       "                      background-color: #bdd2e6;\n",
       "                      width: 0%;\">\n",
       "                    <style type=\"text/css\" scoped=\"scoped\">\n",
       "                        @keyframes pb-fill-anim {\n",
       "                            0% { background-position: 0 0; }\n",
       "                            100% { background-position: 100px 0; }\n",
       "                        }\n",
       "                    </style>\n",
       "                    &nbsp;\n",
       "                  </div>\n",
       "                </div>"
      ],
      "text/plain": [
       "HtmlProgressBar cannot be displayed. Please use the TerminalProgressBar. It can be enabled with `nengo.rc['progress']['progress_bar'] = 'nengo.utils.progress.TerminalProgressBar'`."
      ]
     },
     "metadata": {},
     "output_type": "display_data"
    },
    {
     "data": {
      "application/vdom.v1+json": {
       "attributes": {
        "id": "d06b80a8-73f9-4c9c-9bba-91b1a39944b0",
        "style": {
         "border": "1px solid #cfcfcf",
         "borderRadius": "4px",
         "boxSizing": "border-box",
         "position": "relative",
         "textAlign": "center",
         "width": "100%"
        }
       },
       "children": [
        {
         "attributes": {
          "class": "pb-text",
          "style": {
           "position": "absolute",
           "width": "100%"
          }
         },
         "children": [
          "Build finished in 0:00:01."
         ],
         "tagName": "div"
        },
        {
         "attributes": {
          "class": "pb-fill",
          "style": {
           "animation": "none",
           "backgroundColor": "#bdd2e6",
           "backgroundImage": "none",
           "backgroundSize": "100px 100%",
           "width": "100%"
          }
         },
         "children": [
          {
           "attributes": {
            "scoped": "scoped",
            "type": "text/css"
           },
           "children": [
            "\n                        @keyframes pb-fill-anim {\n                            0% { background-position: 0 0; }\n                            100% { background-position: 100px 0; }\n                        }}"
           ],
           "tagName": "style"
          },
          " "
         ],
         "tagName": "div"
        }
       ],
       "tagName": "div"
      },
      "text/html": [
       "<script>\n",
       "              (function () {\n",
       "                  var root = document.getElementById('e7ec7e14-23e7-44bc-82cb-dd8a0d6c0b64');\n",
       "                  var text = root.getElementsByClassName('pb-text')[0];\n",
       "                  var fill = root.getElementsByClassName('pb-fill')[0];\n",
       "\n",
       "                  text.innerHTML = 'Build finished in 0:00:01.';\n",
       "                  \n",
       "            fill.style.width = '100%';\n",
       "            fill.style.animation = 'pb-fill-anim 2s linear infinite';\n",
       "            fill.style.backgroundSize = '100px 100%';\n",
       "            fill.style.backgroundImage = 'repeating-linear-gradient(' +\n",
       "                '90deg, #bdd2e6, #edf2f8 40%, #bdd2e6 80%, #bdd2e6)';\n",
       "        \n",
       "                  \n",
       "                fill.style.animation = 'none';\n",
       "                fill.style.backgroundImage = 'none';\n",
       "            \n",
       "              })();\n",
       "        </script>"
      ]
     },
     "metadata": {},
     "output_type": "display_data"
    },
    {
     "data": {
      "application/vdom.v1+json": {
       "attributes": {},
       "tagName": "div"
      },
      "text/html": [
       "\n",
       "                <script>\n",
       "                    if (Jupyter.version.split(\".\")[0] < 5) {\n",
       "                        var pb = document.getElementById(\"88176c09-4a85-438c-aeb0-af3c9eab1d38\");\n",
       "                        var text = document.createTextNode(\n",
       "                            \"HMTL progress bar requires Jupyter Notebook >= \" +\n",
       "                            \"5.0 or Jupyter Lab. Alternatively, you can use \" +\n",
       "                            \"TerminalProgressBar().\");\n",
       "                        pb.parentNode.insertBefore(text, pb);\n",
       "                    }\n",
       "                </script>\n",
       "                <div id=\"88176c09-4a85-438c-aeb0-af3c9eab1d38\" style=\"\n",
       "                    width: 100%;\n",
       "                    border: 1px solid #cfcfcf;\n",
       "                    border-radius: 4px;\n",
       "                    text-align: center;\n",
       "                    position: relative;\">\n",
       "                  <div class=\"pb-text\" style=\"\n",
       "                      position: absolute;\n",
       "                      width: 100%;\">\n",
       "                    0%\n",
       "                  </div>\n",
       "                  <div class=\"pb-fill\" style=\"\n",
       "                      background-color: #bdd2e6;\n",
       "                      width: 0%;\">\n",
       "                    <style type=\"text/css\" scoped=\"scoped\">\n",
       "                        @keyframes pb-fill-anim {\n",
       "                            0% { background-position: 0 0; }\n",
       "                            100% { background-position: 100px 0; }\n",
       "                        }\n",
       "                    </style>\n",
       "                    &nbsp;\n",
       "                  </div>\n",
       "                </div>"
      ],
      "text/plain": [
       "HtmlProgressBar cannot be displayed. Please use the TerminalProgressBar. It can be enabled with `nengo.rc['progress']['progress_bar'] = 'nengo.utils.progress.TerminalProgressBar'`."
      ]
     },
     "metadata": {},
     "output_type": "display_data"
    },
    {
     "data": {
      "application/vdom.v1+json": {
       "attributes": {
        "id": "83121ba1-7d0d-4128-a752-c7a0de4889e3",
        "style": {
         "border": "1px solid #cfcfcf",
         "borderRadius": "4px",
         "boxSizing": "border-box",
         "position": "relative",
         "textAlign": "center",
         "width": "100%"
        }
       },
       "children": [
        {
         "attributes": {
          "class": "pb-text",
          "style": {
           "position": "absolute",
           "width": "100%"
          }
         },
         "children": [
          "Simulation finished in 0:00:01."
         ],
         "tagName": "div"
        },
        {
         "attributes": {
          "class": "pb-fill",
          "style": {
           "animation": "none",
           "backgroundColor": "#bdd2e6",
           "backgroundImage": "none",
           "transition": "width 0.1s linear",
           "width": "100%"
          }
         },
         "children": [
          {
           "attributes": {
            "scoped": "scoped",
            "type": "text/css"
           },
           "children": [
            "\n                        @keyframes pb-fill-anim {\n                            0% { background-position: 0 0; }\n                            100% { background-position: 100px 0; }\n                        }}"
           ],
           "tagName": "style"
          },
          " "
         ],
         "tagName": "div"
        }
       ],
       "tagName": "div"
      },
      "text/html": [
       "<script>\n",
       "              (function () {\n",
       "                  var root = document.getElementById('88176c09-4a85-438c-aeb0-af3c9eab1d38');\n",
       "                  var text = root.getElementsByClassName('pb-text')[0];\n",
       "                  var fill = root.getElementsByClassName('pb-fill')[0];\n",
       "\n",
       "                  text.innerHTML = 'Simulation finished in 0:00:01.';\n",
       "                  \n",
       "            if (100.0 > 0.) {\n",
       "                fill.style.transition = 'width 0.1s linear';\n",
       "            } else {\n",
       "                fill.style.transition = 'none';\n",
       "            }\n",
       "\n",
       "            fill.style.width = '100.0%';\n",
       "            fill.style.animation = 'none';\n",
       "            fill.style.backgroundImage = 'none'\n",
       "        \n",
       "                  \n",
       "                fill.style.animation = 'none';\n",
       "                fill.style.backgroundImage = 'none';\n",
       "            \n",
       "              })();\n",
       "        </script>"
      ]
     },
     "metadata": {},
     "output_type": "display_data"
    }
   ],
   "source": [
    "ts, As = sim_neuron(J_tar, nengo.LIF())\n",
    "ts, As_ref = sim_neuron(A_tar, nengo.SpikingRectifiedLinear())"
   ]
  },
  {
   "cell_type": "code",
   "execution_count": 456,
   "id": "df9d8f0d-d205-4d29-b047-2910f68e6944",
   "metadata": {},
   "outputs": [
    {
     "data": {
      "text/plain": [
       "(0.0, 1.0)"
      ]
     },
     "execution_count": 456,
     "metadata": {},
     "output_type": "execute_result"
    },
    {
     "data": {
      "image/png": "[encoded data removed]",
      "text/plain": [
       "<Figure size 432x288 with 1 Axes>"
      ]
     },
     "metadata": {
      "needs_background": "light"
     },
     "output_type": "display_data"
    }
   ],
   "source": [
    "fig, ax = plt.subplots()\n",
    "ax.plot(ts, As)\n",
    "ax.plot(ts, As_ref)\n",
    "ax.set_xlim(0, 1)"
   ]
  },
  {
   "cell_type": "code",
   "execution_count": 410,
   "id": "e52577dc-6f28-444c-9402-ede5b4483b20",
   "metadata": {},
   "outputs": [],
   "source": [
    "#As_flt = nengo.Lowpass(100e-3).filt(As)[:, 0]\n",
    "#As_ref_flt = nengo.Lowpass(100e-3).filt(As_ref)[:, 0]"
   ]
  },
  {
   "cell_type": "code",
   "execution_count": 411,
   "id": "13b5692a-5af3-411c-8764-1589073681b0",
   "metadata": {},
   "outputs": [
    {
     "name": "stdout",
     "output_type": "stream",
     "text": [
      "215.81767929435253\n"
     ]
    },
    {
     "data": {
      "image/png": "[encoded data removed]",
      "text/plain": [
       "<Figure size 432x288 with 1 Axes>"
      ]
     },
     "metadata": {
      "needs_background": "light"
     },
     "output_type": "display_data"
    }
   ],
   "source": [
    "fig, ax = plt.subplots()\n",
    "ax.plot(ts, As_flt)\n",
    "ax.plot(ts, As_ref_flt)\n",
    "\n",
    "print(np.sqrt(np.mean(np.square(As_ref_flt - As_flt))))\n",
    "#ax.set_xlim(0, 50)"
   ]
  },
  {
   "cell_type": "code",
   "execution_count": 412,
   "id": "a7887084-9f5b-49bb-9ff4-49ce5e1c959c",
   "metadata": {},
   "outputs": [],
   "source": [
    "def filter_signal(us, A):\n",
    "    res = np.zeros((len(us), A.shape[0]))\n",
    "    for i in range(A.shape[0]):\n",
    "        res[:, i] = scipy.signal.fftconvolve(us, A[i], 'full')[:len(us)]\n",
    "    return res"
   ]
  },
  {
   "cell_type": "code",
   "execution_count": 434,
   "id": "82c3a045-8400-47ff-acdb-9a3c6aa2cf8a",
   "metadata": {},
   "outputs": [],
   "source": [
    "H = mk_low_pass_filter_basis(1, 1000, 3, tau0=0.0002, tau1=1.0)"
   ]
  },
  {
   "cell_type": "code",
   "execution_count": 435,
   "id": "30a3d67a-8686-400c-ae09-597e7569dfec",
   "metadata": {},
   "outputs": [
    {
     "data": {
      "text/plain": [
       "(1000000, 1)"
      ]
     },
     "execution_count": 435,
     "metadata": {},
     "output_type": "execute_result"
    }
   ],
   "source": [
    "As_flt_conv = filter_signal(As_flt, H)\n",
    "As_flt_conv.shape"
   ]
  },
  {
   "cell_type": "code",
   "execution_count": 440,
   "id": "63064406-bcfd-4237-9219-f7ea46908903",
   "metadata": {},
   "outputs": [],
   "source": [
    "mask = scalar_data_to_multi_dim(A_tar, xmin=0.0, xmax=np.percentile(A_tar, 95), N=2)"
   ]
  },
  {
   "cell_type": "code",
   "execution_count": 441,
   "id": "d36e7e31-4e62-4a05-9ad4-3564525f21a0",
   "metadata": {},
   "outputs": [
    {
     "data": {
      "text/plain": [
       "(1000000, 1, 2)"
      ]
     },
     "execution_count": 441,
     "metadata": {},
     "output_type": "execute_result"
    }
   ],
   "source": [
    "As_flt_conv_masked = (As_flt_conv[:, :, None] * mask[:, None, :])\n",
    "As_flt_conv_masked.shape"
   ]
  },
  {
   "cell_type": "code",
   "execution_count": 442,
   "id": "864b0040-12ee-479b-9ba2-b5c0f39e1820",
   "metadata": {},
   "outputs": [],
   "source": [
    "As_flt_conv_masked = As_flt_conv_masked.reshape(N, -1)"
   ]
  },
  {
   "cell_type": "code",
   "execution_count": 446,
   "id": "eed06120-2f40-4871-a389-70dd6b9c1dc9",
   "metadata": {},
   "outputs": [
    {
     "data": {
      "image/png": "[encoded data removed]",
      "text/plain": [
       "<Figure size 432x288 with 1 Axes>"
      ]
     },
     "metadata": {
      "needs_background": "light"
     },
     "output_type": "display_data"
    }
   ],
   "source": [
    "fig, ax = plt.subplots()\n",
    "ax.plot(ts, As_flt_conv_masked);"
   ]
  },
  {
   "cell_type": "code",
   "execution_count": 427,
   "id": "cc18d7a0-9f95-4f0e-8300-4ef0eb7f88a2",
   "metadata": {},
   "outputs": [],
   "source": [
    "D = np.linalg.lstsq(As_flt_conv_masked, As_ref_flt, rcond=1e-2)[0]"
   ]
  },
  {
   "cell_type": "code",
   "execution_count": 428,
   "id": "fca32603-a6bc-4e12-84f0-788fb85ee4ed",
   "metadata": {},
   "outputs": [
    {
     "name": "stdout",
     "output_type": "stream",
     "text": [
      "9.008112955121739\n"
     ]
    },
    {
     "data": {
      "image/png": "[encoded data removed]",
      "text/plain": [
       "<Figure size 432x288 with 1 Axes>"
      ]
     },
     "metadata": {
      "needs_background": "light"
     },
     "output_type": "display_data"
    }
   ],
   "source": [
    "fig, ax = plt.subplots()\n",
    "ax.plot(ts, As_flt_conv_masked @ D)\n",
    "ax.plot(ts, As_ref_flt)\n",
    "print(np.sqrt(np.mean(np.square(As_ref_flt - As_flt_conv_masked @ D))))\n",
    "#ax.set_xlim(10, 20)"
   ]
  },
  {
   "cell_type": "code",
   "execution_count": 429,
   "id": "7d98da5d-9e6a-48d3-a882-0bf0ed49b8a9",
   "metadata": {},
   "outputs": [
    {
     "data": {
      "text/plain": [
       "(0.0, 100.0)"
      ]
     },
     "execution_count": 429,
     "metadata": {},
     "output_type": "execute_result"
    },
    {
     "data": {
      "image/png": "[encoded data removed]",
      "text/plain": [
       "<Figure size 432x288 with 1 Axes>"
      ]
     },
     "metadata": {
      "needs_background": "light"
     },
     "output_type": "display_data"
    }
   ],
   "source": [
    "fig, ax = plt.subplots()\n",
    "for i in range(5):\n",
    "    ax.plot(H.T @ D.reshape(H.shape[0], mask.shape[1])[:, i])\n",
    "    \n",
    "ax.set_xlim(0, 100)"
   ]
  }
 ],
 "metadata": {
  "kernelspec": {
   "display_name": "Python 3",
   "language": "python",
   "name": "python3"
  },
  "language_info": {
   "codemirror_mode": {
    "name": "ipython",
    "version": 3
   },
   "file_extension": ".py",
   "mimetype": "text/x-python",
   "name": "python",
   "nbconvert_exporter": "python",
   "pygments_lexer": "ipython3",
   "version": "3.9.7"
  }
 },
 "nbformat": 4,
 "nbformat_minor": 5
}
