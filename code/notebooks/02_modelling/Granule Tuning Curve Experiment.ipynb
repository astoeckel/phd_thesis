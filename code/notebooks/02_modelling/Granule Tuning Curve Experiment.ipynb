{
 "cells": [
  {
   "cell_type": "code",
   "execution_count": 1,
   "metadata": {},
   "outputs": [],
   "source": [
    "%load_ext autoreload\n",
    "%autoreload 2\n",
    "%matplotlib inline"
   ]
  },
  {
   "cell_type": "code",
   "execution_count": 49,
   "metadata": {},
   "outputs": [],
   "source": [
    "import nengo_bio as bio\n",
    "import nengo as nengo\n",
    "import matplotlib.pyplot as plt\n",
    "import matplotlib.cm as cm\n",
    "import matplotlib.colors\n",
    "import matplotlib.patches\n",
    "import numpy as np\n",
    "import json\n",
    "import os\n",
    "import multiprocessing\n",
    "from tqdm import tqdm\n",
    "import scipy.stats\n",
    "import scipy.optimize"
   ]
  },
  {
   "cell_type": "code",
   "execution_count": 25,
   "metadata": {},
   "outputs": [],
   "source": [
    "def compute_response_curve(constructor, J_min=-20e-12, J_max=100e-12, max_rate=100, dJ=20.0e-12, dt=1e-3, T=10.0):\n",
    "    Js, Gs = [], []\n",
    "    J, rate = J_min, 0\n",
    "\n",
    "    # Repeat until either the maximum current or the maximum rate is reached\n",
    "    while (J < J_max) and (rate < max_rate):\n",
    "        # Compile the neuron simulator\n",
    "        sim = constructor().compile(dt, 1)\n",
    "        spike_out = np.zeros(1)\n",
    "        n_spikes = 0\n",
    "        for t in np.arange(0, T, dt):\n",
    "            J_cur = J + np.random.normal(0, 1e-11)\n",
    "            J_in_exc = np.ones(1) * np.clip(J_cur, 0, None)\n",
    "            J_in_inh = np.ones(1) * np.clip(-J_cur, 0, None)\n",
    "            sim(spike_out, J_in_exc, J_in_inh)\n",
    "            if spike_out > 0:\n",
    "                n_spikes = n_spikes + 1\n",
    "\n",
    "        # Record the J, G[J] tuple\n",
    "        rate = n_spikes / T\n",
    "        Js.append(J)\n",
    "        Gs.append(rate)\n",
    "\n",
    "        # Increase the current\n",
    "        J += dJ\n",
    "\n",
    "    return np.array(Js), np.array(Gs)"
   ]
  },
  {
   "cell_type": "code",
   "execution_count": 26,
   "metadata": {},
   "outputs": [],
   "source": [
    "def _compute_response_curve_single(p):\n",
    "    i, E_rev_leak = p\n",
    "    return i, compute_response_curve(lambda: bio.neurons.LIF(\n",
    "        C_som=5e-12,\n",
    "        g_leak_som=3.5e-10,\n",
    "        v_th=-35e-3,\n",
    "        tau_ref=1e-3,\n",
    "        tau_spike=0e-3,\n",
    "        E_rev_leak=E_rev_leak,\n",
    "        v_reset=E_rev_leak,\n",
    "    ))"
   ]
  },
  {
   "cell_type": "code",
   "execution_count": 27,
   "metadata": {},
   "outputs": [],
   "source": [
    "# Original data\n",
    "orig_bins = np.linspace(-90,-30, 16)\n",
    "orig_qty = np.array([0, 2, 4, 4, 6, 15, 12, 12, 8, 3, 5, 1, 3, 0, 0])\n",
    "orig_qty_density = orig_qty / (np.sum(orig_qty) * 4)\n",
    "\n",
    "orig_Js, orig_Gs = np.array([5.7789,-0.0357,\n",
    "8.392,1.6794,\n",
    "10.9045,5.0251,\n",
    "13.4171,9.3899,\n",
    "15.8543,13.302,\n",
    "18.392,16.9873,\n",
    "20.9799,19.4045,]).reshape(-1, 2).T\n",
    "orig_Gs /= 0.2 # spike count measured over a 250ms interval\n",
    "\n",
    "\n",
    "p_mu, p_sigma = scipy.optimize.curve_fit(scipy.stats.norm.pdf, orig_bins[:-1] + 2, orig_qty_density, p0=(-64, 10))[0]\n",
    "ps = np.linspace(-90, -30, 100)\n",
    "ps_density = scipy.stats.norm.pdf(ps, p_mu, p_sigma)"
   ]
  },
  {
   "cell_type": "code",
   "execution_count": 28,
   "metadata": {},
   "outputs": [
    {
     "name": "stderr",
     "output_type": "stream",
     "text": [
      "16it [00:05,  3.18it/s]\n"
     ]
    }
   ],
   "source": [
    "n_E_rev_leak = 16\n",
    "\n",
    "Js_lst = [None] * n_E_rev_leak\n",
    "Gs_lst = [None] * n_E_rev_leak\n",
    "E_rev_leaks = np.concatenate(([-64e-3], np.random.normal(p_mu * 1e-3, p_sigma * 1e-3, n_E_rev_leak - 1)))\n",
    "with multiprocessing.Pool(16) as pool:\n",
    "    for i, (Js, Gs) in tqdm(pool.imap_unordered(\n",
    "            _compute_response_curve_single,\n",
    "            enumerate(E_rev_leaks))):\n",
    "        Js_lst[i] = Js\n",
    "        Gs_lst[i] = Gs"
   ]
  },
  {
   "cell_type": "code",
   "execution_count": 29,
   "metadata": {},
   "outputs": [],
   "source": [
    "#from datetime import datetime\n",
    "#fn = \"tuning_curves_\" + datetime.now().strftime('%Y-%m-%d_%H_%M_%S')\n",
    "#np.save(fn, {\n",
    "#    \"Js_lst\": Js_lst,\n",
    "#    \"Gs_lst\": Gs_lst,\n",
    "#     \"E_rev_leaks\": E_rev_leaks,\n",
    "#})"
   ]
  },
  {
   "cell_type": "code",
   "execution_count": 30,
   "metadata": {},
   "outputs": [],
   "source": [
    "# Load the tuning curves\n",
    "#data = np.load(\"tuning_curves_2020-04-23_22_19_08.npy\", allow_pickle=True).item()\n",
    "#Js_lst = data[\"Js_lst\"]\n",
    "#Gs_lst = data[\"Gs_lst\"]"
   ]
  },
  {
   "cell_type": "code",
   "execution_count": 31,
   "metadata": {},
   "outputs": [],
   "source": [
    "# Fit ReLUs to the measured data\n",
    "gains, biases = np.zeros((2, n_E_rev_leak))\n",
    "valid = [False] * n_E_rev_leak\n",
    "for i in range(n_E_rev_leak):\n",
    "    Js, Gs = Js_lst[i], Gs_lst[i]\n",
    "    Gs_valid = Gs > 5\n",
    "    if np.sum(Gs_valid) >= 2:\n",
    "        gains[i], biases[i] = np.polyfit(Js[Gs_valid], Gs[Gs_valid], 1)\n",
    "        if biases[i] < 150:\n",
    "            valid[i] = True"
   ]
  },
  {
   "cell_type": "code",
   "execution_count": 48,
   "metadata": {},
   "outputs": [
    {
     "name": "stderr",
     "output_type": "stream",
     "text": [
      "<ipython-input-48-12d5b9382115>:57: UserWarning: FixedFormatter should only be used together with FixedLocator\n",
      "  cax.set_xticklabels(['$-75\\\\mathrm{mV}$', '$-50\\\\mathrm{mV}$'])\n",
      "<ipython-input-48-12d5b9382115>:88: UserWarning: This figure includes Axes that are not compatible with tight_layout, so results might be incorrect.\n",
      "  fig.tight_layout(w_pad=-0.25)\n"
     ]
    },
    {
     "data": {
      "image/png": "[encoded data removed]",
      "text/plain": [
       "<Figure size 504x162 with 4 Axes>"
      ]
     },
     "metadata": {
      "needs_background": "light"
     },
     "output_type": "display_data"
    }
   ],
   "source": [
    "fig, axs = plt.subplots(1, 3, figsize=(7, 2.25))\n",
    "\n",
    "Blue = cm.get_cmap('tab10')(0)\n",
    "\n",
    "axs[0].bar(orig_bins[:-1] + 2, orig_qty_density, width=4, fill=True, color=Blue, alpha=0.5, label='Empirical data')\n",
    "axs[0].bar(orig_bins[:-1] + 2, orig_qty_density, width=4, fill=False, edgecolor=Blue)\n",
    "axs[0].plot(ps, ps_density, color='k', linestyle='--', linewidth=2, label='Gaussian fit')\n",
    "axs[0].set_xlim(-90, -30)\n",
    "axs[0].set_xticks([-90, -70, -50, -30])\n",
    "axs[0].set_ylabel(\"Density\")\n",
    "axs[0].set_xlabel(\"Resting potential $v_\\\\mathrm{rest}$ (mV)\")\n",
    "axs[0].legend(\n",
    "    loc='upper right',\n",
    "    fontsize=7,\n",
    "    borderaxespad=0,\n",
    "    handlelength=2,\n",
    "    handletextpad=0.2,\n",
    "    labelspacing=0.4)\n",
    "\n",
    "cmap = cm.ScalarMappable(\n",
    "    matplotlib.colors.Normalize(\n",
    "        vmin=np.percentile(E_rev_leaks, 5) * 1e3,\n",
    "        vmax=np.percentile(E_rev_leaks, 95) * 1e3),\n",
    "    'viridis')\n",
    "\n",
    "for i in range(0, n_E_rev_leak, 1):\n",
    "    if not valid[i]:\n",
    "        continue\n",
    "    color = cmap.to_rgba(E_rev_leaks[i] * 1e3) #* np.array((0.9, 0.9, 0.9, 1.0))\n",
    "    Js, Gs = Js_lst[i], Gs_lst[i]\n",
    "    axs[1].plot(Js * 1e12, Gs, color=color, zorder=1, linewidth=1)\n",
    "    label = 'ReLU fit' if i == 0 else None\n",
    "    axs[1].plot(Js * 1e12, np.maximum(0, gains[i] * Js + biases[i]),\n",
    "               color='gray', linestyle='--', linewidth=1, zorder=0, label=label)\n",
    "axs[1].plot(Js_lst[0] * 1e12, Gs_lst[0], linestyle='-', color='k', linewidth=1, label='LIF fit')\n",
    "axs[1].scatter(orig_Js, orig_Gs, color='k', marker='o', zorder=3, s=20, label='Empirical')\n",
    "axs[1].set_xlim(-10, 30)\n",
    "axs[1].set_ylim(0, 100)\n",
    "axs[1].set_ylabel('Spike rate ($\\\\mathrm{s}^{-1}$)')\n",
    "axs[1].set_xlabel('Input current $J$ (pA)')\n",
    "axs[1].legend(\n",
    "    loc='upper center',\n",
    "    bbox_to_anchor=(0.5, 1.15),\n",
    "    ncol=3,\n",
    "    fontsize=7,\n",
    "    borderaxespad=0,\n",
    "    handlelength=1.5,\n",
    "    handletextpad=0.2,\n",
    "    columnspacing=0.8,\n",
    "    labelspacing=0.4)\n",
    "\n",
    "cax = fig.add_axes([0.435, 0.725, 0.075, 0.075])\n",
    "plt.colorbar(cmap, cax=cax, orientation='horizontal')\n",
    "#cax.set_xlabel('$v_\\\\mathrm{rest}$', labelpad=-14)\n",
    "for tick in cax.xaxis.get_major_ticks():\n",
    "    tick.label.set_fontsize(7) \n",
    "cax.set_xticklabels(['$-75\\\\mathrm{mV}$', '$-50\\\\mathrm{mV}$'])\n",
    "cax.text(0.5, 0.5, '$v_\\\\mathrm{rest}$', va='center', ha='center', color='white', transform=cax.transAxes)\n",
    "\n",
    "rect = matplotlib.patches.Rectangle((0.1, 0.675), 0.4, 0.325, facecolor='white', transform=axs[1].transAxes, zorder=2, alpha=0.9)\n",
    "axs[1].add_patch(rect)\n",
    "\n",
    "α, β = np.polyfit(biases[biases < 50], gains[biases < 50] * 1e-12, 1)\n",
    "xs = np.linspace(-50, 50, 100)\n",
    "\n",
    "#axs[2].plot(biases, gains * 1e-12, '+', color=Blue, alpha=0.5, markersize=5, markeredgecolor=None)\n",
    "#axs[2].plot(xs, α * xs + β, 'k--', linewidth=2)\n",
    "#axs[2].set_xlim(-50, 50)\n",
    "#axs[2].set_xlabel('Bias ($\\\\mathrm{s}^{-1}$)')\n",
    "#axs[2].set_ylabel('Gain ($\\\\mathrm{s}^{-1}/pA$)')\n",
    "\n",
    "p = scipy.stats.skewnorm.fit(biases[biases < 50], 0.1, loc=0, scale=1)\n",
    "\n",
    "axs[2].hist(biases[biases < 50], bins=15, fill=False, edgecolor=Blue, density=True)\n",
    "axs[2].hist(biases[biases < 50], bins=15, fill=True, color=Blue, alpha=0.5, density=True, label='ReLU bias histogram')\n",
    "axs[2].plot(xs, scipy.stats.skewnorm.pdf(xs, *p), 'k--', linewidth=2, label='Skewed Gaussian fit')\n",
    "axs[2].set_xlabel('Bias ($\\\\mathrm{s}^{-1}$)')\n",
    "axs[2].set_ylabel('Density')\n",
    "axs[2].set_xlim(-50, 50)\n",
    "axs[2].legend(\n",
    "    loc='upper right',\n",
    "    fontsize=7,\n",
    "    borderaxespad=0,\n",
    "    handlelength=2,\n",
    "    handletextpad=0.2,\n",
    "    labelspacing=0.4)\n",
    "\n",
    "fig.tight_layout(w_pad=-0.25)\n",
    "fig.savefig('granule_response_curve_exploration.pdf', bbox_inches='tight', transparent=True)"
   ]
  },
  {
   "cell_type": "code",
   "execution_count": 9,
   "metadata": {},
   "outputs": [
    {
     "data": {
      "text/plain": [
       "Text(0, 0.5, 'Firing rate')"
      ]
     },
     "execution_count": 9,
     "metadata": {},
     "output_type": "execute_result"
    },
    {
     "data": {
      "image/png": "[encoded data removed]",
      "text/plain": [
       "<Figure size 432x288 with 1 Axes>"
      ]
     },
     "metadata": {
      "needs_background": "light"
     },
     "output_type": "display_data"
    }
   ],
   "source": [
    "fig, ax = plt.subplots()\n",
    "for i in range(0, n_E_rev_leak, 16):\n",
    "    if not valid[i]:\n",
    "        continue\n",
    "\n",
    "    Js, Gs = Js_lst[i], Gs_lst[i]\n",
    "\n",
    "    v = (E_rev_leaks[i] - np.min(E_rev_leaks)) / (np.max(E_rev_leaks) - np.min(E_rev_leaks))\n",
    "\n",
    "    if i == 0:\n",
    "        color1 = 'k'\n",
    "    else:\n",
    "        color1 = cm.get_cmap('viridis')(v) * np.array((0.9, 0.9, 0.9, 1.0))\n",
    "    color2 = (0.25, 0.25, 0.25, 1.0)\n",
    "\n",
    "    linewidth = 1 if i > 0 else 4\n",
    "\n",
    "#    ax.plot(Js * 1e12, np.maximum(0, gains[i] * Js + biases[i]),\n",
    "#            color=color2, linestyle='--', linewidth=1, zorder=1)\n",
    "    ax.plot(Js * 1e12, Gs, color=color1, linewidth=linewidth, zorder=0 if i > 0 else 2)\n",
    "\n",
    "ax.set_xlabel('Input current $J$ (pA)')\n",
    "ax.set_ylabel('Firing rate')"
   ]
  },
  {
   "cell_type": "code",
   "execution_count": 10,
   "metadata": {},
   "outputs": [
    {
     "data": {
      "image/png": "[encoded data removed]",
      "text/plain": [
       "<Figure size 432x288 with 1 Axes>"
      ]
     },
     "metadata": {
      "needs_background": "light"
     },
     "output_type": "display_data"
    }
   ],
   "source": [
    "fig, ax = plt.subplots()\n",
    "ax.hist(biases, bins=20);"
   ]
  },
  {
   "cell_type": "code",
   "execution_count": 11,
   "metadata": {},
   "outputs": [
    {
     "data": {
      "text/plain": [
       "(array([2., 0., 2., 0., 2., 1., 0., 3., 2., 0., 0., 0., 0., 0., 2., 0., 1.,\n",
       "        0., 0., 1.]),\n",
       " array([4.48531903e+12, 4.89221974e+12, 5.29912046e+12, 5.70602117e+12,\n",
       "        6.11292189e+12, 6.51982260e+12, 6.92672332e+12, 7.33362404e+12,\n",
       "        7.74052475e+12, 8.14742547e+12, 8.55432618e+12, 8.96122690e+12,\n",
       "        9.36812761e+12, 9.77502833e+12, 1.01819290e+13, 1.05888298e+13,\n",
       "        1.09957305e+13, 1.14026312e+13, 1.18095319e+13, 1.22164326e+13,\n",
       "        1.26233333e+13]),\n",
       " <BarContainer object of 20 artists>)"
      ]
     },
     "execution_count": 11,
     "metadata": {},
     "output_type": "execute_result"
    },
    {
     "data": {
      "image/png": "[encoded data removed]",
      "text/plain": [
       "<Figure size 432x288 with 1 Axes>"
      ]
     },
     "metadata": {
      "needs_background": "light"
     },
     "output_type": "display_data"
    }
   ],
   "source": [
    "fig, ax = plt.subplots()\n",
    "ax.hist(gains, bins=20)"
   ]
  },
  {
   "cell_type": "code",
   "execution_count": 12,
   "metadata": {},
   "outputs": [
    {
     "data": {
      "text/plain": [
       "[<matplotlib.lines.Line2D at 0x7fdf2c6caf70>]"
      ]
     },
     "execution_count": 12,
     "metadata": {},
     "output_type": "execute_result"
    },
    {
     "data": {
      "image/png": "[encoded data removed]",
      "text/plain": [
       "<Figure size 432x288 with 1 Axes>"
      ]
     },
     "metadata": {
      "needs_background": "light"
     },
     "output_type": "display_data"
    }
   ],
   "source": [
    "fig, ax = plt.subplots()\n",
    "ax.plot(biases, gains, '+')"
   ]
  },
  {
   "cell_type": "code",
   "execution_count": 13,
   "metadata": {},
   "outputs": [],
   "source": [
    "class ReLU:\n",
    "    @staticmethod\n",
    "    def inverse(a):\n",
    "        return a\n",
    "\n",
    "    @staticmethod\n",
    "    def activity(x):\n",
    "        return np.maximum(0, a)\n",
    "\n",
    "\n",
    "class Ensemble:\n",
    "    def __init__(self, n_neurons, n_dimensions, intercepts=(-0.95, 0.95), neuron_type=ReLU):\n",
    "        self.neuron_type = neuron_type\n",
    "\n",
    "        # Randomly select the intercepts and the maximum rates\n",
    "        self.intercepts = np.random.uniform(*intercepts, n_neurons)\n",
    "        self.max_rates = np.random.uniform(50, 100, n_neurons)\n",
    "\n",
    "        # Randomly select the encoders\n",
    "        self.encoders = np.random.normal(0, 1, (n_neurons, n_dimensions))\n",
    "        self.encoders /= np.linalg.norm(self.encoders, axis=1)[:, None]\n",
    "\n",
    "        # Compute the current causing the maximum rate/the intercept\n",
    "        J_0 = self.neuron_type.inverse(0)\n",
    "        J_max_rates = self.neuron_type.inverse(self.max_rates)\n",
    "\n",
    "        # Compute the gain and bias\n",
    "        self.gain = (J_0 - J_max_rates) / (self.intercepts - 1.0)\n",
    "        self.bias = J_max_rates - self.gain\n"
   ]
  },
  {
   "cell_type": "code",
   "execution_count": 14,
   "metadata": {},
   "outputs": [],
   "source": [
    "ens = Ensemble(1024, 1)"
   ]
  },
  {
   "cell_type": "code",
   "execution_count": 15,
   "metadata": {},
   "outputs": [
    {
     "data": {
      "text/plain": [
       "(array([ 19.,  25.,  29.,  46.,  48.,  56.,  97., 162., 234., 110.]),\n",
       " array([-98.04487114, -83.54329346, -69.04171578, -54.54013811,\n",
       "        -40.03856043, -25.53698275, -11.03540507,   3.46617261,\n",
       "         17.96775029,  32.46932797,  46.97090565]),\n",
       " <BarContainer object of 10 artists>)"
      ]
     },
     "execution_count": 15,
     "metadata": {},
     "output_type": "execute_result"
    },
    {
     "data": {
      "image/png": "[encoded data removed]",
      "text/plain": [
       "<Figure size 432x288 with 1 Axes>"
      ]
     },
     "metadata": {
      "needs_background": "light"
     },
     "output_type": "display_data"
    }
   ],
   "source": [
    "fig, ax = plt.subplots()\n",
    "ax.hist(ens.bias[ens.bias > -100])"
   ]
  },
  {
   "cell_type": "code",
   "execution_count": null,
   "metadata": {},
   "outputs": [],
   "source": []
  }
 ],
 "metadata": {
  "kernelspec": {
   "display_name": "Python 3",
   "language": "python",
   "name": "python3"
  },
  "language_info": {
   "codemirror_mode": {
    "name": "ipython",
    "version": 3
   },
   "file_extension": ".py",
   "mimetype": "text/x-python",
   "name": "python",
   "nbconvert_exporter": "python",
   "pygments_lexer": "ipython3",
   "version": "3.9.4"
  }
 },
 "nbformat": 4,
 "nbformat_minor": 4
}
