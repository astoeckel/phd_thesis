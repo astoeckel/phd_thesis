{
 "cells": [
  {
   "cell_type": "code",
   "execution_count": 31,
   "id": "2edb5d41-2c6e-4c1d-a843-d9f46485b557",
   "metadata": {},
   "outputs": [],
   "source": [
    "import numpy as np\n",
    "import matplotlib.pyplot as plt"
   ]
  },
  {
   "cell_type": "code",
   "execution_count": 38,
   "id": "895363a4-c447-4ef3-a197-5594e02d3c81",
   "metadata": {},
   "outputs": [],
   "source": [
    "ws = [1, 0.5, 0.33, 0.5, 1, 1]\n",
    "Ts = np.linspace(0.1, 0.9, len(ws)) + np.random.uniform(-0.05, 0.05, len(ws))"
   ]
  },
  {
   "cell_type": "code",
   "execution_count": 39,
   "id": "b3898f31-9d2d-4ed6-baf2-5d6a4160a62f",
   "metadata": {},
   "outputs": [],
   "source": [
    "dt = 1e-4\n",
    "ts = np.arange(0, 1, dt)\n",
    "ts_flt = ts - (ts[-1] - ts[0]) * 0.5\n",
    "us = np.zeros_like(ts)\n",
    "for i, T in enumerate(Ts):\n",
    "    us[np.argmin(np.abs(ts - T))] = ws[i] / dt\n",
    "hs = (ts_flt >= 0.0) * np.exp(-ts_flt / 0.1)"
   ]
  },
  {
   "cell_type": "code",
   "execution_count": 43,
   "id": "efba3b39-e7ac-46d1-b0a6-232fcb4ca31f",
   "metadata": {},
   "outputs": [
    {
     "data": {
      "image/png": "[encoded data removed]",
      "text/plain": [
       "<Figure size 72x144 with 2 Axes>"
      ]
     },
     "metadata": {
      "needs_background": "light"
     },
     "output_type": "display_data"
    }
   ],
   "source": [
    "fig, axs = plt.subplots(2, 1, figsize=(1.0, 2.0))\n",
    "axs[0].plot(ts, us)\n",
    "axs[1].plot(ts, np.convolve(us, hs, 'same'))\n",
    "fig.savefig('../data/spiking_neuron_example.pdf')"
   ]
  },
  {
   "cell_type": "code",
   "execution_count": null,
   "id": "ced55d1f-f626-4054-a2ba-32783c1a461e",
   "metadata": {},
   "outputs": [],
   "source": []
  }
 ],
 "metadata": {
  "kernelspec": {
   "display_name": "Python 3",
   "language": "python",
   "name": "python3"
  },
  "language_info": {
   "codemirror_mode": {
    "name": "ipython",
    "version": 3
   },
   "file_extension": ".py",
   "mimetype": "text/x-python",
   "name": "python",
   "nbconvert_exporter": "python",
   "pygments_lexer": "ipython3",
   "version": "3.9.5"
  }
 },
 "nbformat": 4,
 "nbformat_minor": 5
}
