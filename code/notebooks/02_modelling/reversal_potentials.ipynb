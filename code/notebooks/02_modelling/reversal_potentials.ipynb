{
 "cells": [
  {
   "cell_type": "code",
   "execution_count": 102,
   "id": "removable-webcam",
   "metadata": {},
   "outputs": [],
   "source": [
    "import numpy as np\n",
    "import scipy.optimize\n",
    "\n",
    "F = 96485.3321233\n",
    "R = 8.31446261815324\n",
    "\n",
    "def nernst(z, T, Xin, Xout):\n",
    "    return -(R * (273.15 + T)) / (z * F) * np.log(Xin / Xout) * 1e3\n",
    "\n",
    "def goldman(T, Ps, XIs, XOs):\n",
    "    return ((R * (273.15 + T)) / F) * np.log(\n",
    "        sum(Ps[i] * XOs[i] for i in range(3)) / sum(Ps[i] * XIs[i] for i in range(3))\n",
    "    ) * 1e3\n"
   ]
  },
  {
   "cell_type": "code",
   "execution_count": 103,
   "id": "regular-paste",
   "metadata": {},
   "outputs": [],
   "source": [
    "def compute_potentials(data):\n",
    "    ensure_iterable = lambda x: x if hasattr(x, '__len__') else [x]\n",
    "\n",
    "    for key, value in data.items():\n",
    "        z = value[\"z\"]\n",
    "        Xins = ensure_iterable(value[\"Xin\"])\n",
    "        Xouts = ensure_iterable(value[\"Xout\"])\n",
    "        for Xin in Xins:\n",
    "            for Xout in Xouts:\n",
    "                T0 = nernst(z, 20, Xin, Xout)\n",
    "                T1 = nernst(z, 36, Xin, Xout)\n",
    "                print(f\"{key}\\tz=\\t{z}\\tXin=\\t{Xin}\\tXout=\\t{Xout}\\tE0=\\t{T0:0.0f}\\tE1=\\t{T1:0.0f}\")"
   ]
  },
  {
   "cell_type": "code",
   "execution_count": 104,
   "id": "swiss-headquarters",
   "metadata": {},
   "outputs": [
    {
     "name": "stdout",
     "output_type": "stream",
     "text": [
      "Potassium K+\tz=\t1\tXin=\t400\tXout=\t20\tE0=\t-76\tE1=\t-80\n",
      "Sodium Na+\tz=\t1\tXin=\t50\tXout=\t440\tE0=\t55\tE1=\t58\n",
      "Chloride Cl-\tz=\t-1\tXin=\t52\tXout=\t560\tE0=\t-60\tE1=\t-63\n"
     ]
    }
   ],
   "source": [
    "# Kandel et al Table 6-1\n",
    "squid_kandel = {\n",
    "    \"Potassium K+\": dict(z=1, Xin=400, Xout=20),\n",
    "    \"Sodium Na+\": dict(z=1, Xin=50, Xout=440),\n",
    "    \"Chloride Cl-\": dict(z=-1, Xin=52, Xout=560),\n",
    "}\n",
    "compute_potentials(squid_kandel)"
   ]
  },
  {
   "cell_type": "code",
   "execution_count": 105,
   "id": "cardiovascular-picture",
   "metadata": {},
   "outputs": [
    {
     "name": "stdout",
     "output_type": "stream",
     "text": [
      "Potassium K+\tz=\t1\tXin=\t400\tXout=\t20\tE0=\t-76\tE1=\t-80\n",
      "Sodium Na+\tz=\t1\tXin=\t50\tXout=\t440\tE0=\t55\tE1=\t58\n",
      "Chloride Cl-\tz=\t-1\tXin=\t40\tXout=\t560\tE0=\t-67\tE1=\t-70\n"
     ]
    }
   ],
   "source": [
    "# McCormick (2014): Membrane Potential and Action Potential\n",
    "squid_mccormick = {\n",
    "    \"Potassium K+\": dict(z=1, Xin=400, Xout=20),\n",
    "    \"Sodium Na+\": dict(z=1, Xin=50, Xout=440),\n",
    "    \"Chloride Cl-\": dict(z=-1, Xin=40, Xout=560),\n",
    "}\n",
    "compute_potentials(squid_mccormick)"
   ]
  },
  {
   "cell_type": "code",
   "execution_count": 106,
   "id": "virtual-samba",
   "metadata": {},
   "outputs": [
    {
     "name": "stdout",
     "output_type": "stream",
     "text": [
      "Potassium K+\tz=\t1\tXin=\t140\tXout=\t3\tE0=\t-97\tE1=\t-102\n",
      "Sodium Na+\tz=\t1\tXin=\t18\tXout=\t145\tE0=\t53\tE1=\t56\n",
      "Chloride Cl-\tz=\t-1\tXin=\t7\tXout=\t120\tE0=\t-72\tE1=\t-76\n"
     ]
    }
   ],
   "source": [
    "mammal_mccormick = {\n",
    "    \"Potassium K+\": dict(z=1, Xin=140, Xout=3),\n",
    "    \"Sodium Na+\": dict(z=1, Xin=18, Xout=145),\n",
    "    \"Chloride Cl-\": dict(z=-1, Xin=7, Xout=120),\n",
    "}\n",
    "compute_potentials(mammal_mccormick)"
   ]
  },
  {
   "cell_type": "code",
   "execution_count": 107,
   "id": "ignored-forth",
   "metadata": {},
   "outputs": [
    {
     "data": {
      "text/plain": [
       "-61.297564622991075"
      ]
     },
     "execution_count": 107,
     "metadata": {},
     "output_type": "execute_result"
    }
   ],
   "source": [
    "goldman(20, [1.0, 0.045, 0.45], [400, 50, 560], [20, 440, 40])"
   ]
  },
  {
   "cell_type": "code",
   "execution_count": null,
   "id": "ruled-paste",
   "metadata": {},
   "outputs": [],
   "source": []
  }
 ],
 "metadata": {
  "kernelspec": {
   "display_name": "Python 3",
   "language": "python",
   "name": "python3"
  },
  "language_info": {
   "codemirror_mode": {
    "name": "ipython",
    "version": 3
   },
   "file_extension": ".py",
   "mimetype": "text/x-python",
   "name": "python",
   "nbconvert_exporter": "python",
   "pygments_lexer": "ipython3",
   "version": "3.9.2"
  }
 },
 "nbformat": 4,
 "nbformat_minor": 5
}
