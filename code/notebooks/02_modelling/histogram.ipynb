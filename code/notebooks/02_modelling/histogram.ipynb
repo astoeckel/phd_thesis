{
 "cells": [
  {
   "cell_type": "code",
   "execution_count": 1,
   "id": "ded67efa-371e-40a8-830e-15c363ba8d03",
   "metadata": {},
   "outputs": [],
   "source": [
    "%load_ext autoreload\n",
    "%autoreload 2\n",
    "%matplotlib inline"
   ]
  },
  {
   "cell_type": "code",
   "execution_count": 20,
   "id": "b0fa461f-012e-4d89-86af-959234369f87",
   "metadata": {},
   "outputs": [],
   "source": [
    "import nengo_bio as bio\n",
    "import nengo as nengo\n",
    "import matplotlib.pyplot as plt\n",
    "import matplotlib.cm as cm\n",
    "import matplotlib.colors\n",
    "import matplotlib.patches\n",
    "import numpy as np\n",
    "import json\n",
    "import os\n",
    "import multiprocessing\n",
    "from tqdm import tqdm\n",
    "import scipy.stats\n",
    "import scipy.optimize"
   ]
  },
  {
   "cell_type": "code",
   "execution_count": 18,
   "id": "b20f5a6c-7e89-451c-8503-22485aa3e7b6",
   "metadata": {},
   "outputs": [],
   "source": [
    "# Plot the original histogram\n",
    "orig_bins = np.linspace(-90,-30, 16)[:-1]\n",
    "orig_qty = np.array([0, 2, 4, 4, 6, 15, 12, 12, 8, 3, 5, 1, 3, 0, 0])\n",
    "orig_qty_density = orig_qty / (np.sum(orig_qty) * 4)\n",
    "\n",
    "orig_Js, orig_Gs = np.array([5.7789,-0.0357,\n",
    "8.392,1.6794,\n",
    "10.9045,5.0251,\n",
    "13.4171,9.3899,\n",
    "15.8543,13.302,\n",
    "18.392,16.9873,\n",
    "20.9799,19.4045,]).reshape(-1, 2).T\n",
    "orig_Gs /= 0.2 # spike count measured over a 250ms interval"
   ]
  },
  {
   "cell_type": "code",
   "execution_count": 34,
   "id": "940f64c0-1cda-4248-904a-ecb9b0133486",
   "metadata": {},
   "outputs": [],
   "source": [
    "p_mu, p_sigma = scipy.optimize.curve_fit(scipy.stats.norm.pdf, orig_bins + 2, orig_qty_density, p0=(-64, 10))[0]\n",
    "ps = np.linspace(-90, -30, 100)\n",
    "ps_density = scipy.stats.norm.pdf(ps, p_mu, p_sigma)"
   ]
  },
  {
   "cell_type": "code",
   "execution_count": 35,
   "id": "971c1c19-2f04-4e1c-818b-e46849c6aee7",
   "metadata": {},
   "outputs": [
    {
     "data": {
      "text/plain": [
       "(-90.0, -30.0)"
      ]
     },
     "execution_count": 35,
     "metadata": {},
     "output_type": "execute_result"
    },
    {
     "data": {
      "image/png": "[encoded data removed]",
      "text/plain": [
       "<Figure size 432x288 with 1 Axes>"
      ]
     },
     "metadata": {
      "needs_background": "light"
     },
     "output_type": "display_data"
    }
   ],
   "source": [
    "fig, ax = plt.subplots()\n",
    "ax.bar(orig_bins + 2, orig_qty_density, width=4)\n",
    "ax.plot(ps, ps_density)\n",
    "ax.set_xlim(-90, -30)"
   ]
  },
  {
   "cell_type": "code",
   "execution_count": 17,
   "id": "39b40b13-9d94-49a1-a753-c2b901f8eaed",
   "metadata": {},
   "outputs": [
    {
     "data": {
      "text/plain": [
       "\u001b[0;31mSignature:\u001b[0m \u001b[0mscipy\u001b[0m\u001b[0;34m.\u001b[0m\u001b[0mstats\u001b[0m\u001b[0;34m.\u001b[0m\u001b[0mnorm\u001b[0m\u001b[0;34m.\u001b[0m\u001b[0mfit\u001b[0m\u001b[0;34m(\u001b[0m\u001b[0mdata\u001b[0m\u001b[0;34m,\u001b[0m \u001b[0;34m**\u001b[0m\u001b[0mkwds\u001b[0m\u001b[0;34m)\u001b[0m\u001b[0;34m\u001b[0m\u001b[0;34m\u001b[0m\u001b[0m\n",
       "\u001b[0;31mDocstring:\u001b[0m\n",
       "Return MLEs for shape (if applicable), location, and scale\n",
       "parameters from data.\n",
       "\n",
       "MLE stands for Maximum Likelihood Estimate.  Starting estimates for\n",
       "the fit are given by input arguments; for any arguments not provided\n",
       "with starting estimates, ``self._fitstart(data)`` is called to generate\n",
       "such.\n",
       "\n",
       "One can hold some parameters fixed to specific values by passing in\n",
       "keyword arguments ``f0``, ``f1``, ..., ``fn`` (for shape parameters)\n",
       "and ``floc`` and ``fscale`` (for location and scale parameters,\n",
       "respectively).\n",
       "\n",
       "Parameters\n",
       "----------\n",
       "data : array_like\n",
       "    Data to use in calculating the MLEs.\n",
       "arg1, arg2, arg3,... : floats, optional\n",
       "    Starting value(s) for any shape-characterizing arguments (those not\n",
       "    provided will be determined by a call to ``_fitstart(data)``).\n",
       "    No default value.\n",
       "kwds : floats, optional\n",
       "    - `loc`: initial guess of the distribution's location parameter.\n",
       "    - `scale`: initial guess of the distribution's scale parameter.\n",
       "\n",
       "    Special keyword arguments are recognized as holding certain\n",
       "    parameters fixed:\n",
       "\n",
       "    - f0...fn : hold respective shape parameters fixed.\n",
       "      Alternatively, shape parameters to fix can be specified by name.\n",
       "      For example, if ``self.shapes == \"a, b\"``, ``fa`` and ``fix_a``\n",
       "      are equivalent to ``f0``, and ``fb`` and ``fix_b`` are\n",
       "      equivalent to ``f1``.\n",
       "\n",
       "    - floc : hold location parameter fixed to specified value.\n",
       "\n",
       "    - fscale : hold scale parameter fixed to specified value.\n",
       "\n",
       "    - optimizer : The optimizer to use.  The optimizer must take ``func``,\n",
       "      and starting position as the first two arguments,\n",
       "      plus ``args`` (for extra arguments to pass to the\n",
       "      function to be optimized) and ``disp=0`` to suppress\n",
       "      output as keyword arguments.\n",
       "\n",
       "Returns\n",
       "-------\n",
       "mle_tuple : tuple of floats\n",
       "    MLEs for any shape parameters (if applicable), followed by those\n",
       "    for location and scale. For most random variables, shape statistics\n",
       "    will be returned, but there are exceptions (e.g. ``norm``).\n",
       "\n",
       "Notes\n",
       "-----\n",
       "This function uses explicit formulas for the maximum likelihood\n",
       "estimation of the normal distribution parameters, so the\n",
       "`optimizer` argument is ignored.\n",
       "\n",
       "Examples\n",
       "--------\n",
       "\n",
       "Generate some data to fit: draw random variates from the `beta`\n",
       "distribution\n",
       "\n",
       ">>> from scipy.stats import beta\n",
       ">>> a, b = 1., 2.\n",
       ">>> x = beta.rvs(a, b, size=1000)\n",
       "\n",
       "Now we can fit all four parameters (``a``, ``b``, ``loc`` and ``scale``):\n",
       "\n",
       ">>> a1, b1, loc1, scale1 = beta.fit(x)\n",
       "\n",
       "We can also use some prior knowledge about the dataset: let's keep\n",
       "``loc`` and ``scale`` fixed:\n",
       "\n",
       ">>> a1, b1, loc1, scale1 = beta.fit(x, floc=0, fscale=1)\n",
       ">>> loc1, scale1\n",
       "(0, 1)\n",
       "\n",
       "We can also keep shape parameters fixed by using ``f``-keywords. To\n",
       "keep the zero-th shape parameter ``a`` equal 1, use ``f0=1`` or,\n",
       "equivalently, ``fa=1``:\n",
       "\n",
       ">>> a1, b1, loc1, scale1 = beta.fit(x, fa=1, floc=0, fscale=1)\n",
       ">>> a1\n",
       "1\n",
       "\n",
       "Not all distributions return estimates for the shape parameters.\n",
       "``norm`` for example just returns estimates for location and scale:\n",
       "\n",
       ">>> from scipy.stats import norm\n",
       ">>> x = norm.rvs(a, b, size=1000, random_state=123)\n",
       ">>> loc1, scale1 = norm.fit(x)\n",
       ">>> loc1, scale1\n",
       "(0.92087172783841631, 2.0015750750324668)\n",
       "\u001b[0;31mFile:\u001b[0m      /usr/lib64/python3.9/site-packages/scipy/stats/_continuous_distns.py\n",
       "\u001b[0;31mType:\u001b[0m      method\n"
      ]
     },
     "metadata": {},
     "output_type": "display_data"
    }
   ],
   "source": []
  },
  {
   "cell_type": "code",
   "execution_count": null,
   "id": "c84df4f2-432a-4751-b7a6-8bae3f1ec6f1",
   "metadata": {},
   "outputs": [],
   "source": []
  }
 ],
 "metadata": {
  "kernelspec": {
   "display_name": "Python 3",
   "language": "python",
   "name": "python3"
  },
  "language_info": {
   "codemirror_mode": {
    "name": "ipython",
    "version": 3
   },
   "file_extension": ".py",
   "mimetype": "text/x-python",
   "name": "python",
   "nbconvert_exporter": "python",
   "pygments_lexer": "ipython3",
   "version": "3.9.4"
  }
 },
 "nbformat": 4,
 "nbformat_minor": 5
}
