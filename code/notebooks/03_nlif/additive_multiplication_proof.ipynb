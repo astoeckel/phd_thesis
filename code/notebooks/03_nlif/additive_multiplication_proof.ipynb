{
 "cells": [
  {
   "cell_type": "code",
   "execution_count": 157,
   "id": "a424565a-c522-4dbc-b6de-9f8fec18f93a",
   "metadata": {},
   "outputs": [],
   "source": [
    "import matplotlib.pyplot as plt\n",
    "import matplotlib as mpl\n",
    "import numpy as np\n",
    "import scipy.interpolate"
   ]
  },
  {
   "cell_type": "code",
   "execution_count": 161,
   "id": "30baa52d-b63d-448a-9dcf-345d6a6c0817",
   "metadata": {},
   "outputs": [],
   "source": [
    "# Generate some random-looking monotonic function\n",
    "np.random.seed(11987)\n",
    "N = 11\n",
    "\n",
    "ys1 = np.concatenate(((0,), np.cumsum(np.abs(np.random.normal(0, 1, N - 1)))))\n",
    "ys1 /= np.max(ys1)\n",
    "\n",
    "ys2 = np.concatenate(((0,), np.cumsum(np.abs(np.random.normal(0, 1, N - 1)))))\n",
    "ys2 /= np.max(ys1)\n",
    "\n",
    "xs = np.linspace(-1, 1, N)\n",
    "f1 = scipy.interpolate.interp1d(xs, ys1, 'cubic')\n",
    "f2 = scipy.interpolate.interp1d(xs, ys2, 'cubic')"
   ]
  },
  {
   "cell_type": "code",
   "execution_count": 162,
   "id": "aa58d7b7-3682-42da-8810-39ee776abb57",
   "metadata": {},
   "outputs": [],
   "source": [
    "def plot_multiplication_traj(ax, x2, N=100, hlines=set()):\n",
    "    x1ss = np.linspace(-1, 1, 40)\n",
    "    cmap = mpl.cm.get_cmap('viridis')\n",
    "    for i in range(0, len(x1ss) - 1):\n",
    "        x10, x11 = x1ss[i], x1ss[i + 1]\n",
    "        x1c = 0.5 * (x10 + x11)\n",
    "        c = 0.5 * (1.0 + x1c * x2)\n",
    "        ax.plot([x10, x11], [f1(x10) + f2(x2), f1(x11) + f2(x2)], color=cmap(c), linewidth=4)\n",
    "\n",
    "    x1s = np.linspace(-1, 1, 1000)\n",
    "    ax.plot(x1s, f1(x1s) + f2(x2), 'k:', linewidth=2)\n",
    "\n",
    "    for x1 in (-1, 0, 1):\n",
    "        y = f1(x1) + f2(x2)\n",
    "        ax.plot([x1], [y], 'ko')\n",
    "        if not y in hlines:\n",
    "            hlines.add(y)\n",
    "            ax.axhline(y, linestyle='--', color='k', linewidth=0.5)"
   ]
  },
  {
   "cell_type": "code",
   "execution_count": 167,
   "id": "63600331-7aea-4f46-8833-2b16a2269188",
   "metadata": {},
   "outputs": [
    {
     "ename": "NameError",
     "evalue": "name 'utils' is not defined",
     "output_type": "error",
     "traceback": [
      "\u001b[0;31m---------------------------------------------------------------------------\u001b[0m",
      "\u001b[0;31mNameError\u001b[0m                                 Traceback (most recent call last)",
      "\u001b[0;32m<ipython-input-167-a193d419fa7f>\u001b[0m in \u001b[0;36m<module>\u001b[0;34m\u001b[0m\n\u001b[1;32m      4\u001b[0m \u001b[0max\u001b[0m\u001b[0;34m.\u001b[0m\u001b[0mset_xlim\u001b[0m\u001b[0;34m(\u001b[0m\u001b[0;34m-\u001b[0m\u001b[0;36m1\u001b[0m\u001b[0;34m,\u001b[0m \u001b[0;36m1\u001b[0m\u001b[0;34m)\u001b[0m\u001b[0;34m\u001b[0m\u001b[0;34m\u001b[0m\u001b[0m\n\u001b[1;32m      5\u001b[0m \u001b[0max\u001b[0m\u001b[0;34m.\u001b[0m\u001b[0mset_xlabel\u001b[0m\u001b[0;34m(\u001b[0m\u001b[0;34m\"$x_1$\"\u001b[0m\u001b[0;34m)\u001b[0m\u001b[0;34m\u001b[0m\u001b[0;34m\u001b[0m\u001b[0m\n\u001b[0;32m----> 6\u001b[0;31m \u001b[0mutils\u001b[0m\u001b[0;34m.\u001b[0m\u001b[0mannotate\u001b[0m\u001b[0;34m(\u001b[0m\u001b[0max\u001b[0m\u001b[0;34m,\u001b[0m \u001b[0;36m0.1\u001b[0m\u001b[0;34m,\u001b[0m \u001b[0;36m0.5\u001b[0m\u001b[0;34m,\u001b[0m \u001b[0;36m0.2\u001b[0m\u001b[0;34m,\u001b[0m \u001b[0;36m0.5\u001b[0m\u001b[0;34m,\u001b[0m \u001b[0;34m\"foo\"\u001b[0m\u001b[0;34m)\u001b[0m\u001b[0;34m\u001b[0m\u001b[0;34m\u001b[0m\u001b[0m\n\u001b[0m\u001b[1;32m      7\u001b[0m \u001b[0;34m\u001b[0m\u001b[0m\n\u001b[1;32m      8\u001b[0m \u001b[0max\u001b[0m\u001b[0;34m.\u001b[0m\u001b[0mset_yticks\u001b[0m\u001b[0;34m(\u001b[0m\u001b[0;34m[\u001b[0m\u001b[0;34m]\u001b[0m\u001b[0;34m)\u001b[0m\u001b[0;34m\u001b[0m\u001b[0;34m\u001b[0m\u001b[0m\n",
      "\u001b[0;31mNameError\u001b[0m: name 'utils' is not defined"
     ]
    },
    {
     "data": {
      "image/png": "[encoded data removed]",
      "text/plain": [
       "<Figure size 432x288 with 1 Axes>"
      ]
     },
     "metadata": {
      "needs_background": "light"
     },
     "output_type": "display_data"
    }
   ],
   "source": [
    "fig, ax = plt.subplots()\n",
    "xs = np.linspace(-1, 1, 100)\n",
    "plot_multiplication_traj(ax, 0)\n",
    "ax.set_xlim(-1, 1)\n",
    "ax.set_xlabel(\"$x_1$\")\n",
    "utils.annotate(ax, 0.1, 0.5, 0.2, 0.5, \"foo\")\n",
    "\n",
    "ax.set_yticks([])\n",
    "for spine in [\"left\", \"right\", \"top\"]:\n",
    "    ax.spines[spine].set_visible(False)"
   ]
  },
  {
   "cell_type": "code",
   "execution_count": null,
   "id": "13a0446d-fc1b-400e-8d2e-cbcfb72c95c7",
   "metadata": {},
   "outputs": [],
   "source": []
  }
 ],
 "metadata": {
  "kernelspec": {
   "display_name": "Python 3",
   "language": "python",
   "name": "python3"
  },
  "language_info": {
   "codemirror_mode": {
    "name": "ipython",
    "version": 3
   },
   "file_extension": ".py",
   "mimetype": "text/x-python",
   "name": "python",
   "nbconvert_exporter": "python",
   "pygments_lexer": "ipython3",
   "version": "3.9.5"
  }
 },
 "nbformat": 4,
 "nbformat_minor": 5
}
