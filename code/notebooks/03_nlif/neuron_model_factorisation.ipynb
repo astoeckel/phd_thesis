{
 "cells": [
  {
   "cell_type": "code",
   "execution_count": 1,
   "id": "c19516c5-b171-4159-b599-f9ac94ccf9e0",
   "metadata": {},
   "outputs": [],
   "source": [
    "import sympy as sp\n",
    "import numpy as np"
   ]
  },
  {
   "cell_type": "code",
   "execution_count": 4,
   "id": "233de33d-f650-4874-b7f1-74e9ac1711e9",
   "metadata": {},
   "outputs": [],
   "source": [
    "gL, gE1, gI1, gE2, gI2, c12, c13, c23, EL, EE, EI, v = \\\n",
    "sp.symbols(R\"\"\"g_\\mathrm{L}\n",
    "               g_\\mathrm{E}^1\n",
    "               g_\\mathrm{I}^1\n",
    "               g_\\mathrm{E}^2\n",
    "               g_\\mathrm{I}^2\n",
    "               c_{12}\n",
    "               c_{13}\n",
    "               c_{23}\n",
    "               E_\\mathrm{L}\n",
    "               E_\\mathrm{E}\n",
    "               E_\\mathrm{I}\n",
    "               {\\bar{v}}_\\mathrm{som}\n",
    "             \"\"\")"
   ]
  },
  {
   "cell_type": "code",
   "execution_count": 14,
   "id": "7087ca44-cc86-4449-a00b-c9da152904ea",
   "metadata": {},
   "outputs": [],
   "source": [
    "a = sp.Matrix([\n",
    "    1,\n",
    "    gL + c12,\n",
    "    gL + c13,\n",
    "])\n",
    "A = sp.Matrix([\n",
    "    [0, 0, 0, 0],\n",
    "    [0, 0, 1, 1],\n",
    "    [1, 1, 0, 0]\n",
    "])\n",
    "b = sp.Matrix([\n",
    "    gL * (EL - v) + v,\n",
    "    gL * EL + c12 * v,\n",
    "    gL * EL + c13 * v,\n",
    "])\n",
    "B = sp.Matrix([\n",
    "    [0, 0, 0, 0],\n",
    "    [0, 0, EE, EI],\n",
    "    [EE, EI, 0, 0]\n",
    "])\n",
    "L = sp.Matrix([\n",
    "    [0, 0, 0],\n",
    "    [0, 0, 0],\n",
    "    [0, 0, 0]\n",
    "])\n",
    "c = sp.Matrix([\n",
    "    1,\n",
    "    c12,\n",
    "    c13\n",
    "])\n",
    "g = sp.Matrix([\n",
    "    gE1,\n",
    "    gI1,\n",
    "    gE2,\n",
    "    gI2\n",
    "])"
   ]
  },
  {
   "cell_type": "code",
   "execution_count": 15,
   "id": "56e1d67c-427e-43b5-9baa-0905040fa14c",
   "metadata": {},
   "outputs": [
    {
     "data": {
      "text/latex": [
       "$\\displaystyle \\left[\\begin{matrix}c_{12} + g_\\mathrm{E}^2 + g_\\mathrm{I}^2 + g_\\mathrm{L} & 0\\\\0 & c_{13} + g_\\mathrm{E}^1 + g_\\mathrm{I}^1 + g_\\mathrm{L}\\end{matrix}\\right]$"
      ],
      "text/plain": [
       "Matrix([\n",
       "[c_{12} + g_\\mathrm{E}^2 + g_\\mathrm{I}^2 + g_\\mathrm{L},                                                       0],\n",
       "[                                                      0, c_{13} + g_\\mathrm{E}^1 + g_\\mathrm{I}^1 + g_\\mathrm{L}]])"
      ]
     },
     "execution_count": 15,
     "metadata": {},
     "output_type": "execute_result"
    }
   ],
   "source": [
    "Amat = (L + sp.diag(*(a + A @ g)))[1:3, 1:3]\n",
    "Bvec = sp.Matrix((b + B @ g)[1:3])\n",
    "Amat"
   ]
  },
  {
   "cell_type": "code",
   "execution_count": 16,
   "id": "91c17f36-e7c7-4c15-a4c3-91f3d01055ee",
   "metadata": {},
   "outputs": [
    {
     "data": {
      "text/latex": [
       "$\\displaystyle \\left[\\begin{matrix}E_\\mathrm{E} g_\\mathrm{E}^2 + E_\\mathrm{I} g_\\mathrm{I}^2 + E_\\mathrm{L} g_\\mathrm{L} + c_{12} {\\bar{v}}_\\mathrm{som}\\\\E_\\mathrm{E} g_\\mathrm{E}^1 + E_\\mathrm{I} g_\\mathrm{I}^1 + E_\\mathrm{L} g_\\mathrm{L} + c_{13} {\\bar{v}}_\\mathrm{som}\\end{matrix}\\right]$"
      ],
      "text/plain": [
       "Matrix([\n",
       "[E_\\mathrm{E}*g_\\mathrm{E}^2 + E_\\mathrm{I}*g_\\mathrm{I}^2 + E_\\mathrm{L}*g_\\mathrm{L} + c_{12}*{\\bar{v}}_\\mathrm{som}],\n",
       "[E_\\mathrm{E}*g_\\mathrm{E}^1 + E_\\mathrm{I}*g_\\mathrm{I}^1 + E_\\mathrm{L}*g_\\mathrm{L} + c_{13}*{\\bar{v}}_\\mathrm{som}]])"
      ]
     },
     "execution_count": 16,
     "metadata": {},
     "output_type": "execute_result"
    }
   ],
   "source": [
    "Bvec"
   ]
  },
  {
   "cell_type": "code",
   "execution_count": 17,
   "id": "f8c46562-a7da-44d4-9a50-fdcb9472e56f",
   "metadata": {},
   "outputs": [
    {
     "data": {
      "text/latex": [
       "$\\displaystyle c_{12} c_{13} + c_{12} g_\\mathrm{E}^1 + c_{12} g_\\mathrm{I}^1 + c_{12} g_\\mathrm{L} + c_{13} g_\\mathrm{E}^2 + c_{13} g_\\mathrm{I}^2 + c_{13} g_\\mathrm{L} + g_\\mathrm{E}^1 g_\\mathrm{E}^2 + g_\\mathrm{E}^1 g_\\mathrm{I}^2 + g_\\mathrm{E}^1 g_\\mathrm{L} + g_\\mathrm{E}^2 g_\\mathrm{I}^1 + g_\\mathrm{E}^2 g_\\mathrm{L} + g_\\mathrm{I}^1 g_\\mathrm{I}^2 + g_\\mathrm{I}^1 g_\\mathrm{L} + g_\\mathrm{I}^2 g_\\mathrm{L} + g_\\mathrm{L}^{2}$"
      ],
      "text/plain": [
       "c_{12}*c_{13} + c_{12}*g_\\mathrm{E}^1 + c_{12}*g_\\mathrm{I}^1 + c_{12}*g_\\mathrm{L} + c_{13}*g_\\mathrm{E}^2 + c_{13}*g_\\mathrm{I}^2 + c_{13}*g_\\mathrm{L} + g_\\mathrm{E}^1*g_\\mathrm{E}^2 + g_\\mathrm{E}^1*g_\\mathrm{I}^2 + g_\\mathrm{E}^1*g_\\mathrm{L} + g_\\mathrm{E}^2*g_\\mathrm{I}^1 + g_\\mathrm{E}^2*g_\\mathrm{L} + g_\\mathrm{I}^1*g_\\mathrm{I}^2 + g_\\mathrm{I}^1*g_\\mathrm{L} + g_\\mathrm{I}^2*g_\\mathrm{L} + g_\\mathrm{L}**2"
      ]
     },
     "execution_count": 17,
     "metadata": {},
     "output_type": "execute_result"
    }
   ],
   "source": [
    "D = Amat.det().expand()\n",
    "D"
   ]
  },
  {
   "cell_type": "code",
   "execution_count": 18,
   "id": "b2e28399-a84a-463f-85c9-244ddb146aa0",
   "metadata": {},
   "outputs": [
    {
     "data": {
      "text/latex": [
       "$\\displaystyle \\left[\\begin{matrix}\\frac{E_\\mathrm{E} g_\\mathrm{E}^2}{c_{12} + g_\\mathrm{E}^2 + g_\\mathrm{I}^2 + g_\\mathrm{L}} + \\frac{E_\\mathrm{I} g_\\mathrm{I}^2}{c_{12} + g_\\mathrm{E}^2 + g_\\mathrm{I}^2 + g_\\mathrm{L}} + \\frac{E_\\mathrm{L} g_\\mathrm{L}}{c_{12} + g_\\mathrm{E}^2 + g_\\mathrm{I}^2 + g_\\mathrm{L}} + \\frac{c_{12} {\\bar{v}}_\\mathrm{som}}{c_{12} + g_\\mathrm{E}^2 + g_\\mathrm{I}^2 + g_\\mathrm{L}}\\\\\\frac{E_\\mathrm{E} g_\\mathrm{E}^1}{c_{13} + g_\\mathrm{E}^1 + g_\\mathrm{I}^1 + g_\\mathrm{L}} + \\frac{E_\\mathrm{I} g_\\mathrm{I}^1}{c_{13} + g_\\mathrm{E}^1 + g_\\mathrm{I}^1 + g_\\mathrm{L}} + \\frac{E_\\mathrm{L} g_\\mathrm{L}}{c_{13} + g_\\mathrm{E}^1 + g_\\mathrm{I}^1 + g_\\mathrm{L}} + \\frac{c_{13} {\\bar{v}}_\\mathrm{som}}{c_{13} + g_\\mathrm{E}^1 + g_\\mathrm{I}^1 + g_\\mathrm{L}}\\end{matrix}\\right]$"
      ],
      "text/plain": [
       "Matrix([\n",
       "[E_\\mathrm{E}*g_\\mathrm{E}^2/(c_{12} + g_\\mathrm{E}^2 + g_\\mathrm{I}^2 + g_\\mathrm{L}) + E_\\mathrm{I}*g_\\mathrm{I}^2/(c_{12} + g_\\mathrm{E}^2 + g_\\mathrm{I}^2 + g_\\mathrm{L}) + E_\\mathrm{L}*g_\\mathrm{L}/(c_{12} + g_\\mathrm{E}^2 + g_\\mathrm{I}^2 + g_\\mathrm{L}) + c_{12}*{\\bar{v}}_\\mathrm{som}/(c_{12} + g_\\mathrm{E}^2 + g_\\mathrm{I}^2 + g_\\mathrm{L})],\n",
       "[E_\\mathrm{E}*g_\\mathrm{E}^1/(c_{13} + g_\\mathrm{E}^1 + g_\\mathrm{I}^1 + g_\\mathrm{L}) + E_\\mathrm{I}*g_\\mathrm{I}^1/(c_{13} + g_\\mathrm{E}^1 + g_\\mathrm{I}^1 + g_\\mathrm{L}) + E_\\mathrm{L}*g_\\mathrm{L}/(c_{13} + g_\\mathrm{E}^1 + g_\\mathrm{I}^1 + g_\\mathrm{L}) + c_{13}*{\\bar{v}}_\\mathrm{som}/(c_{13} + g_\\mathrm{E}^1 + g_\\mathrm{I}^1 + g_\\mathrm{L})]])"
      ]
     },
     "execution_count": 18,
     "metadata": {},
     "output_type": "execute_result"
    }
   ],
   "source": [
    "vEq = (Amat.inv() @ Bvec).expand()\n",
    "vEq"
   ]
  },
  {
   "cell_type": "code",
   "execution_count": 20,
   "id": "6c286bfe-55b9-45c4-a18b-6a44b633ec6f",
   "metadata": {},
   "outputs": [
    {
     "data": {
      "text/latex": [
       "$\\displaystyle \\frac{E_\\mathrm{E} c_{12} g_\\mathrm{E}^1}{c_{13} + g_\\mathrm{E}^1 + g_\\mathrm{I}^1 + g_\\mathrm{L}} + \\frac{E_\\mathrm{E} g_\\mathrm{E}^2}{c_{12} + g_\\mathrm{E}^2 + g_\\mathrm{I}^2 + g_\\mathrm{L}} + \\frac{E_\\mathrm{I} c_{12} g_\\mathrm{I}^1}{c_{13} + g_\\mathrm{E}^1 + g_\\mathrm{I}^1 + g_\\mathrm{L}} + \\frac{E_\\mathrm{I} g_\\mathrm{I}^2}{c_{12} + g_\\mathrm{E}^2 + g_\\mathrm{I}^2 + g_\\mathrm{L}} + \\frac{E_\\mathrm{L} c_{12} g_\\mathrm{L}}{c_{13} + g_\\mathrm{E}^1 + g_\\mathrm{I}^1 + g_\\mathrm{L}} + \\frac{E_\\mathrm{L} g_\\mathrm{L}}{c_{12} + g_\\mathrm{E}^2 + g_\\mathrm{I}^2 + g_\\mathrm{L}} + \\frac{c_{12} c_{13} {\\bar{v}}_\\mathrm{som}}{c_{13} + g_\\mathrm{E}^1 + g_\\mathrm{I}^1 + g_\\mathrm{L}} - c_{12} {\\bar{v}}_\\mathrm{som} + \\frac{c_{12} {\\bar{v}}_\\mathrm{som}}{c_{12} + g_\\mathrm{E}^2 + g_\\mathrm{I}^2 + g_\\mathrm{L}} - {\\bar{v}}_\\mathrm{som}$"
      ],
      "text/plain": [
       "E_\\mathrm{E}*c_{12}*g_\\mathrm{E}^1/(c_{13} + g_\\mathrm{E}^1 + g_\\mathrm{I}^1 + g_\\mathrm{L}) + E_\\mathrm{E}*g_\\mathrm{E}^2/(c_{12} + g_\\mathrm{E}^2 + g_\\mathrm{I}^2 + g_\\mathrm{L}) + E_\\mathrm{I}*c_{12}*g_\\mathrm{I}^1/(c_{13} + g_\\mathrm{E}^1 + g_\\mathrm{I}^1 + g_\\mathrm{L}) + E_\\mathrm{I}*g_\\mathrm{I}^2/(c_{12} + g_\\mathrm{E}^2 + g_\\mathrm{I}^2 + g_\\mathrm{L}) + E_\\mathrm{L}*c_{12}*g_\\mathrm{L}/(c_{13} + g_\\mathrm{E}^1 + g_\\mathrm{I}^1 + g_\\mathrm{L}) + E_\\mathrm{L}*g_\\mathrm{L}/(c_{12} + g_\\mathrm{E}^2 + g_\\mathrm{I}^2 + g_\\mathrm{L}) + c_{12}*c_{13}*{\\bar{v}}_\\mathrm{som}/(c_{13} + g_\\mathrm{E}^1 + g_\\mathrm{I}^1 + g_\\mathrm{L}) - c_{12}*{\\bar{v}}_\\mathrm{som} + c_{12}*{\\bar{v}}_\\mathrm{som}/(c_{12} + g_\\mathrm{E}^2 + g_\\mathrm{I}^2 + g_\\mathrm{L}) - {\\bar{v}}_\\mathrm{som}"
      ]
     },
     "execution_count": 20,
     "metadata": {},
     "output_type": "execute_result"
    }
   ],
   "source": [
    "H = sum((c[i] * (vEq[i] - v) for i in range(2))).expand()\n",
    "H"
   ]
  },
  {
   "cell_type": "code",
   "execution_count": 29,
   "id": "d941f5ef-be3a-4e2b-8cde-df21effd26ca",
   "metadata": {},
   "outputs": [],
   "source": [
    "def collect_product_term_factors(expr, *vs):\n",
    "    # Expand the input expression\n",
    "    expr = expr.expand()\n",
    "    assert type(expr) is sp.core.add.Add\n",
    "\n",
    "    N = 2 ** len(vs)\n",
    "    collection = [0] * N\n",
    "    products = [0] * N\n",
    "    for term in expr.args:\n",
    "        idx = 0\n",
    "        product = 1\n",
    "        for i, v in enumerate(vs):\n",
    "            if v in term.free_symbols:\n",
    "                idx += 2 ** i\n",
    "                term = term / v\n",
    "                product = product * v\n",
    "        collection[idx] += term\n",
    "        products[idx] = product\n",
    "    return collection, products"
   ]
  },
  {
   "cell_type": "code",
   "execution_count": 30,
   "id": "f99e4736-161a-49cc-a09b-9f98573a6c94",
   "metadata": {},
   "outputs": [
    {
     "data": {
      "text/plain": [
       "[c_{12}*c_{23} + c_{12}*g_\\mathrm{L} + 2*c_{23}*g_\\mathrm{L} + g_\\mathrm{L}**2,\n",
       " 0,\n",
       " 0,\n",
       " 0,\n",
       " 0,\n",
       " 0,\n",
       " 0,\n",
       " 0,\n",
       " 0,\n",
       " 0,\n",
       " 0,\n",
       " 0,\n",
       " 0,\n",
       " 0,\n",
       " 0,\n",
       " 0]"
      ]
     },
     "execution_count": 30,
     "metadata": {},
     "output_type": "execute_result"
    }
   ],
   "source": [
    "X, _ = collect_product_term_factors(D, gE1, gE2, gI1, gI2)\n",
    "X"
   ]
  },
  {
   "cell_type": "code",
   "execution_count": 32,
   "id": "835c5bfe-fed1-4d51-b3e6-4a4af167510d",
   "metadata": {},
   "outputs": [],
   "source": [
    "x11, x12, x13, x21, x22, x23, x0 = sp.symbols(R\"\"\"\n",
    "    x_{11}\n",
    "    x_{12}\n",
    "    x_{13}\n",
    "    x_{21}\n",
    "    x_{22}\n",
    "    x_{23}\n",
    "    x_0\n",
    "\"\"\")\n",
    "expr = x0 + (x11 + x12 * gE1 + x13 * gI1) * (x21 + x22 * gE2 + x23 * gI2)\n",
    "Y, _ = collect_product_term_factors(\n",
    "    expr,\n",
    "    gE1, gE2, gI1, gI2)"
   ]
  },
  {
   "cell_type": "code",
   "execution_count": 33,
   "id": "95bb1102-c427-41a0-a2e1-f3fcd3f89c2f",
   "metadata": {},
   "outputs": [
    {
     "data": {
      "text/plain": [
       "[{x_{11}: 0,\n",
       "  x_{12}: 0,\n",
       "  x_{13}: 0,\n",
       "  x_0: c_{12}*c_{23} + c_{12}*g_\\mathrm{L} + 2*c_{23}*g_\\mathrm{L} + g_\\mathrm{L}**2},\n",
       " {x_{22}: 0,\n",
       "  x_{23}: 0,\n",
       "  x_{21}: 0,\n",
       "  x_0: c_{12}*c_{23} + c_{12}*g_\\mathrm{L} + 2*c_{23}*g_\\mathrm{L} + g_\\mathrm{L}**2},\n",
       " {x_{11}: 0,\n",
       "  x_{12}: 0,\n",
       "  x_{21}: 0,\n",
       "  x_{13}: 0,\n",
       "  x_0: c_{12}*c_{23} + c_{12}*g_\\mathrm{L} + 2*c_{23}*g_\\mathrm{L} + g_\\mathrm{L}**2},\n",
       " {x_{11}: 0,\n",
       "  x_{21}: 0,\n",
       "  x_{12}: 0,\n",
       "  x_{13}: 0,\n",
       "  x_0: c_{12}*c_{23} + c_{12}*g_\\mathrm{L} + 2*c_{23}*g_\\mathrm{L} + g_\\mathrm{L}**2},\n",
       " {x_{22}: 0,\n",
       "  x_{11}: 0,\n",
       "  x_{12}: 0,\n",
       "  x_{13}: 0,\n",
       "  x_0: c_{12}*c_{23} + c_{12}*g_\\mathrm{L} + 2*c_{23}*g_\\mathrm{L} + g_\\mathrm{L}**2},\n",
       " {x_{11}: 0,\n",
       "  x_{21}: 0,\n",
       "  x_{22}: 0,\n",
       "  x_{23}: 0,\n",
       "  x_0: c_{12}*c_{23} + c_{12}*g_\\mathrm{L} + 2*c_{23}*g_\\mathrm{L} + g_\\mathrm{L}**2},\n",
       " {x_{22}: 0,\n",
       "  x_{11}: 0,\n",
       "  x_{21}: 0,\n",
       "  x_{23}: 0,\n",
       "  x_0: c_{12}*c_{23} + c_{12}*g_\\mathrm{L} + 2*c_{23}*g_\\mathrm{L} + g_\\mathrm{L}**2},\n",
       " {x_{22}: 0,\n",
       "  x_{23}: 0,\n",
       "  x_{12}: 0,\n",
       "  x_{21}: 0,\n",
       "  x_0: c_{12}*c_{23} + c_{12}*g_\\mathrm{L} + 2*c_{23}*g_\\mathrm{L} + g_\\mathrm{L}**2},\n",
       " {x_{22}: 0,\n",
       "  x_{23}: 0,\n",
       "  x_{12}: 0,\n",
       "  x_{13}: 0,\n",
       "  x_0: c_{12}*c_{23} + c_{12}*g_\\mathrm{L} + 2*c_{23}*g_\\mathrm{L} + g_\\mathrm{L}**2 - x_{11}*x_{21}},\n",
       " {x_{11}: 0,\n",
       "  x_{12}: 0,\n",
       "  x_{21}: 0,\n",
       "  x_{22}: 0,\n",
       "  x_{13}: 0,\n",
       "  x_0: c_{12}*c_{23} + c_{12}*g_\\mathrm{L} + 2*c_{23}*g_\\mathrm{L} + g_\\mathrm{L}**2},\n",
       " {x_{11}: 0,\n",
       "  x_{21}: 0,\n",
       "  x_{12}: 0,\n",
       "  x_{22}: 0,\n",
       "  x_{13}: 0,\n",
       "  x_0: c_{12}*c_{23} + c_{12}*g_\\mathrm{L} + 2*c_{23}*g_\\mathrm{L} + g_\\mathrm{L}**2},\n",
       " {x_{11}: 0,\n",
       "  x_{21}: 0,\n",
       "  x_{22}: 0,\n",
       "  x_{12}: 0,\n",
       "  x_{13}: 0,\n",
       "  x_0: c_{12}*c_{23} + c_{12}*g_\\mathrm{L} + 2*c_{23}*g_\\mathrm{L} + g_\\mathrm{L}**2},\n",
       " {x_{22}: 0,\n",
       "  x_{11}: 0,\n",
       "  x_{12}: 0,\n",
       "  x_{21}: 0,\n",
       "  x_{13}: 0,\n",
       "  x_0: c_{12}*c_{23} + c_{12}*g_\\mathrm{L} + 2*c_{23}*g_\\mathrm{L} + g_\\mathrm{L}**2},\n",
       " {x_{22}: 0,\n",
       "  x_{11}: 0,\n",
       "  x_{21}: 0,\n",
       "  x_{12}: 0,\n",
       "  x_{13}: 0,\n",
       "  x_0: c_{12}*c_{23} + c_{12}*g_\\mathrm{L} + 2*c_{23}*g_\\mathrm{L} + g_\\mathrm{L}**2},\n",
       " {x_{11}: 0,\n",
       "  x_{12}: 0,\n",
       "  x_{21}: 0,\n",
       "  x_{22}: 0,\n",
       "  x_{23}: 0,\n",
       "  x_0: c_{12}*c_{23} + c_{12}*g_\\mathrm{L} + 2*c_{23}*g_\\mathrm{L} + g_\\mathrm{L}**2},\n",
       " {x_{11}: 0,\n",
       "  x_{21}: 0,\n",
       "  x_{12}: 0,\n",
       "  x_{22}: 0,\n",
       "  x_{23}: 0,\n",
       "  x_0: c_{12}*c_{23} + c_{12}*g_\\mathrm{L} + 2*c_{23}*g_\\mathrm{L} + g_\\mathrm{L}**2},\n",
       " {x_{11}: 0,\n",
       "  x_{21}: 0,\n",
       "  x_{22}: 0,\n",
       "  x_{12}: 0,\n",
       "  x_{23}: 0,\n",
       "  x_0: c_{12}*c_{23} + c_{12}*g_\\mathrm{L} + 2*c_{23}*g_\\mathrm{L} + g_\\mathrm{L}**2},\n",
       " {x_{22}: 0,\n",
       "  x_{11}: 0,\n",
       "  x_{12}: 0,\n",
       "  x_{21}: 0,\n",
       "  x_{23}: 0,\n",
       "  x_0: c_{12}*c_{23} + c_{12}*g_\\mathrm{L} + 2*c_{23}*g_\\mathrm{L} + g_\\mathrm{L}**2},\n",
       " {x_{22}: 0,\n",
       "  x_{11}: 0,\n",
       "  x_{21}: 0,\n",
       "  x_{12}: 0,\n",
       "  x_{23}: 0,\n",
       "  x_0: c_{12}*c_{23} + c_{12}*g_\\mathrm{L} + 2*c_{23}*g_\\mathrm{L} + g_\\mathrm{L}**2}]"
      ]
     },
     "execution_count": 33,
     "metadata": {},
     "output_type": "execute_result"
    }
   ],
   "source": [
    "sp.solve([x - y for x, y in zip(X, Y)], {x11, x12, x13, x21, x22, x23, x0})"
   ]
  },
  {
   "cell_type": "code",
   "execution_count": 34,
   "id": "14f8461f-fb1a-430b-9856-ccf9e154dbc6",
   "metadata": {},
   "outputs": [
    {
     "data": {
      "text/plain": [
       "[E_\\mathrm{L}*c_{12}**2*g_\\mathrm{L} + 2*E_\\mathrm{L}*c_{12}*c_{23}*g_\\mathrm{L} + E_\\mathrm{L}*c_{12}*g_\\mathrm{L}**2 + 2*E_\\mathrm{L}*c_{23}*g_\\mathrm{L} + E_\\mathrm{L}*g_\\mathrm{L}**2 + c_{12}**2*c_{23}*{\\bar{v}}_\\mathrm{som} + c_{12}*c_{23}*{\\bar{v}}_\\mathrm{som} + c_{12}*g_\\mathrm{L}*{\\bar{v}}_\\mathrm{som} - c_{12}*{\\bar{v}}_\\mathrm{som} - {\\bar{v}}_\\mathrm{som},\n",
       " c_{12}**2 + c_{12}*c_{23} + c_{12}*g_\\mathrm{L} + c_{23},\n",
       " c_{12}*c_{23} + c_{23} + g_\\mathrm{L},\n",
       " 0,\n",
       " -c_{12}**2 - c_{12}*c_{23} - c_{12}*g_\\mathrm{L} - c_{23},\n",
       " 0,\n",
       " 0,\n",
       " 0,\n",
       " -c_{12}*c_{23} - c_{23} - g_\\mathrm{L},\n",
       " 0,\n",
       " 0,\n",
       " 0,\n",
       " 0,\n",
       " 0,\n",
       " 0,\n",
       " 0]"
      ]
     },
     "execution_count": 34,
     "metadata": {},
     "output_type": "execute_result"
    }
   ],
   "source": [
    "X, _ = collect_product_term_factors(H, gE1, gE2, gI1, gI2)\n",
    "X"
   ]
  },
  {
   "cell_type": "code",
   "execution_count": 35,
   "id": "e69e8077-e6c2-4709-963f-6c8200f23e91",
   "metadata": {},
   "outputs": [
    {
     "data": {
      "text/plain": [
       "[]"
      ]
     },
     "execution_count": 35,
     "metadata": {},
     "output_type": "execute_result"
    }
   ],
   "source": [
    "sp.solve([x - y for x, y in zip(X, Y)], {x11, x12, x13, x21, x22, x23, x0})"
   ]
  },
  {
   "cell_type": "code",
   "execution_count": 36,
   "id": "e6a17782-030b-4658-a3c9-f25ebea2ea80",
   "metadata": {},
   "outputs": [
    {
     "data": {
      "text/plain": [
       "[x_0 + x_{11}*x_{21},\n",
       " x_{12}*x_{21},\n",
       " x_{11}*x_{22},\n",
       " x_{12}*x_{22},\n",
       " x_{13}*x_{21},\n",
       " 0,\n",
       " x_{13}*x_{22},\n",
       " 0,\n",
       " x_{11}*x_{23},\n",
       " x_{12}*x_{23},\n",
       " 0,\n",
       " 0,\n",
       " x_{13}*x_{23},\n",
       " 0,\n",
       " 0,\n",
       " 0]"
      ]
     },
     "execution_count": 36,
     "metadata": {},
     "output_type": "execute_result"
    }
   ],
   "source": [
    "Y"
   ]
  },
  {
   "cell_type": "code",
   "execution_count": null,
   "id": "94576199-5cf9-48d9-909e-2454408d726b",
   "metadata": {},
   "outputs": [],
   "source": []
  }
 ],
 "metadata": {
  "kernelspec": {
   "display_name": "Python 3",
   "language": "python",
   "name": "python3"
  },
  "language_info": {
   "codemirror_mode": {
    "name": "ipython",
    "version": 3
   },
   "file_extension": ".py",
   "mimetype": "text/x-python",
   "name": "python",
   "nbconvert_exporter": "python",
   "pygments_lexer": "ipython3",
   "version": "3.9.5"
  }
 },
 "nbformat": 4,
 "nbformat_minor": 5
}
