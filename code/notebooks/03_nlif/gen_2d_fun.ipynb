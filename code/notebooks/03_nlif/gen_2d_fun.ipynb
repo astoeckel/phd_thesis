{
 "cells": [
  {
   "cell_type": "code",
   "execution_count": 1,
   "id": "0803ce32-28de-46f7-a71f-0fbb5338be79",
   "metadata": {},
   "outputs": [],
   "source": [
    "import sys\n",
    "sys.path.append(\"../../lib\")"
   ]
  },
  {
   "cell_type": "code",
   "execution_count": 16,
   "id": "fa527836-2bee-4473-ad19-2d5ad482c933",
   "metadata": {},
   "outputs": [],
   "source": [
    "import gen_2d_fun\n",
    "import matplotlib.pyplot as plt\n",
    "import numpy as np"
   ]
  },
  {
   "cell_type": "code",
   "execution_count": 155,
   "id": "75cb8c4e-475e-4be5-b8be-1dfaaea453d9",
   "metadata": {},
   "outputs": [
    {
     "name": "stdout",
     "output_type": "stream",
     "text": [
      "1.2927823915015644e-15 1.0000000000000002\n"
     ]
    },
    {
     "data": {
      "text/plain": [
       "<matplotlib.image.AxesImage at 0x7fa43bfe7fa0>"
      ]
     },
     "execution_count": 155,
     "metadata": {},
     "output_type": "execute_result"
    },
    {
     "data": {
      "image/png": "[encoded data removed]",
      "text/plain": [
       "<Figure size 432x288 with 1 Axes>"
      ]
     },
     "metadata": {
      "needs_background": "light"
     },
     "output_type": "display_data"
    }
   ],
   "source": [
    "fig, ax = plt.subplots()\n",
    "flt = gen_2d_fun.mk_2d_flt(1.0 / 0.4, 101)\n",
    "fn = gen_2d_fun.gen_2d_fun(flt, 101)\n",
    "print(np.mean(fn), np.mean(np.square(fn)))\n",
    "fn[fn < 0.0] = np.nan\n",
    "ax.imshow(fn, vmin=-2, vmax=2)"
   ]
  },
  {
   "cell_type": "code",
   "execution_count": 156,
   "id": "e474060d-ec5d-483d-953b-7be68196a647",
   "metadata": {},
   "outputs": [],
   "source": [
    "import lif_utils"
   ]
  },
  {
   "cell_type": "code",
   "execution_count": 182,
   "id": "29d32935-b6d5-4e37-a649-2cf328edcd43",
   "metadata": {},
   "outputs": [
    {
     "data": {
      "text/plain": [
       "24.439000912668234"
      ]
     },
     "execution_count": 182,
     "metadata": {},
     "output_type": "execute_result"
    }
   ],
   "source": [
    "lif_utils.lif_detailed_rate(1e-9, v_th=-0.05)"
   ]
  },
  {
   "cell_type": "code",
   "execution_count": 180,
   "id": "ebbd0c1c-c8b8-4989-a566-22a1798474f0",
   "metadata": {},
   "outputs": [
    {
     "data": {
      "text/plain": [
       "\u001b[0;31mSignature:\u001b[0m\n",
       "\u001b[0mlif_utils\u001b[0m\u001b[0;34m.\u001b[0m\u001b[0mlif_detailed_rate_inv\u001b[0m\u001b[0;34m(\u001b[0m\u001b[0;34m\u001b[0m\n",
       "\u001b[0;34m\u001b[0m    \u001b[0mr\u001b[0m\u001b[0;34m,\u001b[0m\u001b[0;34m\u001b[0m\n",
       "\u001b[0;34m\u001b[0m    \u001b[0mv_th\u001b[0m\u001b[0;34m=\u001b[0m\u001b[0;34m-\u001b[0m\u001b[0;36m0.035\u001b[0m\u001b[0;34m,\u001b[0m\u001b[0;34m\u001b[0m\n",
       "\u001b[0;34m\u001b[0m    \u001b[0mv_reset\u001b[0m\u001b[0;34m=\u001b[0m\u001b[0;34m-\u001b[0m\u001b[0;36m0.08\u001b[0m\u001b[0;34m,\u001b[0m\u001b[0;34m\u001b[0m\n",
       "\u001b[0;34m\u001b[0m    \u001b[0mgL\u001b[0m\u001b[0;34m=\u001b[0m\u001b[0;36m5e-08\u001b[0m\u001b[0;34m,\u001b[0m\u001b[0;34m\u001b[0m\n",
       "\u001b[0;34m\u001b[0m    \u001b[0mCm\u001b[0m\u001b[0;34m=\u001b[0m\u001b[0;36m1e-09\u001b[0m\u001b[0;34m,\u001b[0m\u001b[0;34m\u001b[0m\n",
       "\u001b[0;34m\u001b[0m    \u001b[0mEL\u001b[0m\u001b[0;34m=\u001b[0m\u001b[0;34m-\u001b[0m\u001b[0;36m0.065\u001b[0m\u001b[0;34m,\u001b[0m\u001b[0;34m\u001b[0m\n",
       "\u001b[0;34m\u001b[0m    \u001b[0mtau_ref\u001b[0m\u001b[0;34m=\u001b[0m\u001b[0;36m0.002\u001b[0m\u001b[0;34m,\u001b[0m\u001b[0;34m\u001b[0m\n",
       "\u001b[0;34m\u001b[0m\u001b[0;34m)\u001b[0m\u001b[0;34m\u001b[0m\u001b[0;34m\u001b[0m\u001b[0m\n",
       "\u001b[0;31mDocstring:\u001b[0m Calculates \n",
       "\u001b[0;31mFile:\u001b[0m      ~/Uni/PhD/thesis/code/lib/lif_utils.py\n",
       "\u001b[0;31mType:\u001b[0m      function\n"
      ]
     },
     "metadata": {},
     "output_type": "display_data"
    }
   ],
   "source": [
    "?lif_utils.lif_detailed_rate_inv"
   ]
  },
  {
   "cell_type": "code",
   "execution_count": null,
   "id": "3882fc45-e7be-4dc2-9e85-e021b25c6138",
   "metadata": {},
   "outputs": [],
   "source": []
  }
 ],
 "metadata": {
  "kernelspec": {
   "display_name": "Python 3",
   "language": "python",
   "name": "python3"
  },
  "language_info": {
   "codemirror_mode": {
    "name": "ipython",
    "version": 3
   },
   "file_extension": ".py",
   "mimetype": "text/x-python",
   "name": "python",
   "nbconvert_exporter": "python",
   "pygments_lexer": "ipython3",
   "version": "3.9.6"
  }
 },
 "nbformat": 4,
 "nbformat_minor": 5
}
