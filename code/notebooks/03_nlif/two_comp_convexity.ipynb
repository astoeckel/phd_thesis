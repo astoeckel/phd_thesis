{
 "cells": [
  {
   "cell_type": "code",
   "execution_count": 43,
   "id": "adfacb33-628e-4c9c-8152-77c7f3843744",
   "metadata": {},
   "outputs": [],
   "source": [
    "import numpy as np\n",
    "import sympy as sp\n",
    "import matplotlib.pyplot as plt"
   ]
  },
  {
   "cell_type": "code",
   "execution_count": 67,
   "id": "b90e725a-4bec-48be-960c-b7f2773fada2",
   "metadata": {},
   "outputs": [
    {
     "data": {
      "text/plain": [
       "<matplotlib.contour.QuadContourSet at 0x7f36ec9ab640>"
      ]
     },
     "execution_count": 67,
     "metadata": {},
     "output_type": "execute_result"
    },
    {
     "data": {
      "image/png": "[encoded data removed]",
      "text/plain": [
       "<Figure size 432x288 with 1 Axes>"
      ]
     },
     "metadata": {
      "needs_background": "light"
     },
     "output_type": "display_data"
    }
   ],
   "source": [
    "xs = np.linspace(-2, 2, 100)\n",
    "ys = np.linspace(0.01, 2, 100)\n",
    "xss, yss = np.meshgrid(xs, ys)\n",
    "zss = np.square(1.0 - ((1.0 + xss) / (1.0 + yss))) + \\\n",
    "      np.square(2.0 - ((0.5 + xss) / (0.5 + yss))) + \\\n",
    "      np.square(1.5 - ((0.5 + xss) / (1.0 + yss))) + \\\n",
    "      0.0 #1 * (np.square(xss) + np.square(yss))\n",
    "\n",
    "zss = zss * np.square((1.0 + yss) * (0.5 + yss) * (1.0 + yss))\n",
    "\n",
    "fig, ax = plt.subplots()\n",
    "ax.contourf(xs, ys, zss, levels=np.linspace(0, 1, 10), vmin=0.0, vmax=1.0)"
   ]
  },
  {
   "cell_type": "code",
   "execution_count": 55,
   "id": "967b23a2-d3c5-4113-858b-e7f6f58fefd0",
   "metadata": {},
   "outputs": [],
   "source": [
    "J, x, y, a1, b1, c1, d1, a2, b2, c2, d2 = \\\n",
    "    sp.symbols('J x y a_1 b_1 c_1 d_1 a_2 b_2 c_2 d_2')\n",
    "eq = (J - (a1 + b1 * x) / (c1 + d1 * y) )**2 + (J - (a2 + b2 * x) / (c2 + d2* y) )**2"
   ]
  },
  {
   "cell_type": "code",
   "execution_count": 65,
   "id": "3abf22c2-4b2c-45ae-9bef-8f0c972c1658",
   "metadata": {},
   "outputs": [
    {
     "data": {
      "text/latex": [
       "$\\displaystyle \\left(c_{1} + d_{1} y\\right)^{2} \\left(J \\left(c_{2} + d_{2} y\\right) - a_{2} - b_{2} x\\right)^{2} + \\left(c_{2} + d_{2} y\\right)^{2} \\left(J \\left(c_{1} + d_{1} y\\right) - a_{1} - b_{1} x\\right)^{2}$"
      ],
      "text/plain": [
       "(c_1 + d_1*y)**2*(J*(c_2 + d_2*y) - a_2 - b_2*x)**2 + (c_2 + d_2*y)**2*(J*(c_1 + d_1*y) - a_1 - b_1*x)**2"
      ]
     },
     "execution_count": 65,
     "metadata": {},
     "output_type": "execute_result"
    }
   ],
   "source": [
    "sp.simplify((eq * ((c1 + d1 * y) * (c2 + d2* y))**2))"
   ]
  },
  {
   "cell_type": "code",
   "execution_count": null,
   "id": "42d7fc6f-3982-449a-a5ab-df6be2c33775",
   "metadata": {},
   "outputs": [],
   "source": []
  }
 ],
 "metadata": {
  "kernelspec": {
   "display_name": "Python 3",
   "language": "python",
   "name": "python3"
  },
  "language_info": {
   "codemirror_mode": {
    "name": "ipython",
    "version": 3
   },
   "file_extension": ".py",
   "mimetype": "text/x-python",
   "name": "python",
   "nbconvert_exporter": "python",
   "pygments_lexer": "ipython3",
   "version": "3.9.5"
  }
 },
 "nbformat": 4,
 "nbformat_minor": 5
}
