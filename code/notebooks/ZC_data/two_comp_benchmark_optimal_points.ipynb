{
 "cells": [
  {
   "cell_type": "code",
   "execution_count": 7,
   "id": "1da42fc3-da4c-4979-83cd-a08060fdd495",
   "metadata": {},
   "outputs": [],
   "source": [
    "import json\n",
    "import os"
   ]
  },
  {
   "cell_type": "code",
   "execution_count": 8,
   "id": "64fd2443-877b-4bff-9dec-3e1efaf01de4",
   "metadata": {},
   "outputs": [],
   "source": [
    "data = json.load(open(os.path.join('..', '..', '..', 'data', 'manual', 'chapters', 'ZC_data', 'two_comp_benchmark_optimal_points.json')))"
   ]
  },
  {
   "cell_type": "code",
   "execution_count": 9,
   "id": "620767bf-1bcf-4fc5-af7b-b7b465d0bf7a",
   "metadata": {},
   "outputs": [],
   "source": [
    "keys = [\n",
    "    (\"linear\", \"nosubth\"),\n",
    "    (\"linear\", \"subth\"),\n",
    "    (\"linear_2d\", \"nosubth\"),\n",
    "    (\"linear_2d\", \"subth\"),\n",
    "    (\"gc50_no_noise\", \"nosubth\"),\n",
    "    (\"gc50_no_noise\", \"subth\"),\n",
    "    (\"gc50_noisy\", \"nosubth\"),\n",
    "    (\"gc50_noisy\", \"subth\"),\n",
    "    (\"gc100_no_noise\", \"nosubth\"),\n",
    "    (\"gc100_no_noise\", \"subth\"),\n",
    "    (\"gc100_noisy\", \"nosubth\"),\n",
    "    (\"gc100_noisy\", \"subth\"),\n",
    "    (\"gc200_no_noise\", \"nosubth\"),\n",
    "    (\"gc200_no_noise\", \"subth\"),\n",
    "    (\"gc200_noisy\", \"nosubth\"),\n",
    "    (\"gc200_noisy\", \"subth\"),\n",
    "]"
   ]
  },
  {
   "cell_type": "code",
   "execution_count": 25,
   "id": "cbcbe5d6-a632-4b1b-90f0-bc315875591e",
   "metadata": {},
   "outputs": [],
   "source": [
    "def format_latex_exponential(e, ndecimal=1):\n",
    "    s = f\"{{:.0{ndecimal}e}}\".format(e)\n",
    "    p1, p2 = s.split(\"e\")\n",
    "    return f\"{p1} \\\\times 10^{{{int(p2):d}}}\"\n",
    "\n",
    "def format_percentage(e, ndecimal=1):\n",
    "    return f\"{{:.0{ndecimal}f}}\".format(e * 100)\n",
    "\n",
    "def format_milliseconds(e, ndecmial=1):\n",
    "    return f\"{{:.0{ndecmial}f}}\".format(e * 1000)"
   ]
  },
  {
   "cell_type": "code",
   "execution_count": 44,
   "id": "6c4dd09c-f341-4832-b343-bcc0c06d515d",
   "metadata": {},
   "outputs": [
    {
     "name": "stdout",
     "output_type": "stream",
     "text": [
      "\t\t\\multirow{4}{2.7cm}[-0.5em]{\\raggedleft LIF}\n",
      "\t\t\t& standard\n",
      "\t\t\t& $9.4 \\times 10^{1}$ & $25.5\\%$\n",
      "\t\t\t& $3.8 \\times 10^{1}$ & $\\SI{36.5}{\\milli\\second}$ & $25.0\\%$ \\\\\n",
      "\t\t\t& standard\\textsuperscript{\\dag}\n",
      "\t\t\t& $6.8 \\times 10^{1}$ & $15.4\\%$\n",
      "\t\t\t& $3.8 \\times 10^{1}$ & $\\SI{20.6}{\\milli\\second}$ & $14.7\\%$ \\\\\n",
      "\t\t\\cmidrule{2-7}\n",
      "\t\t\t& two layers\n",
      "\t\t\t& $1.6 \\times 10^{1}$ & $9.2\\%$\n",
      "\t\t\t& $8.8 \\times 10^{0}$ & $\\SI{11.6}{\\milli\\second}$ & $8.4\\%$ \\\\\n",
      "\t\t\t& two layers\\textsuperscript{\\dag}\n",
      "\t\t\t& $1.2 \\times 10^{1}$ & $9.1\\%$\n",
      "\t\t\t& $8.5 \\times 10^{0}$ & $\\SI{11.6}{\\milli\\second}$ & $8.4\\%$ \\\\\n",
      "\t\t\\midrule\n",
      "\t\t\\multirow{4}{2.7cm}[-0.5em]{\\raggedleft Two comp. LIF $c_{12} = \\SI{50}{\\nano\\siemens}$}\n",
      "\t\t\t& standard\n",
      "\t\t\t& $1.2 \\times 10^{-2}$ & $6.2\\%$\n",
      "\t\t\t& $1.0 \\times 10^{-3}$ & $\\SI{13.5}{\\milli\\second}$ & $4.9\\%$ \\\\\n",
      "\t\t\t& standard\\textsuperscript{\\dag}\n",
      "\t\t\t& $1.1 \\times 10^{-1}$ & $4.3\\%$\n",
      "\t\t\t& $1.5 \\times 10^{-3}$ & $\\SI{11.6}{\\milli\\second}$ & $3.5\\%$ \\\\\n",
      "\t\t\\cmidrule{2-7}\n",
      "\t\t\t& noise model\n",
      "\t\t\t& $1.2 \\times 10^{-3}$ & $5.4\\%$\n",
      "\t\t\t& $1.2 \\times 10^{-3}$ & $\\SI{1.0}{\\milli\\second}$ & $5.4\\%$ \\\\\n",
      "\t\t\t& noise model\\textsuperscript{\\dag}\n",
      "\t\t\t& $1.0 \\times 10^{-3}$ & $4.7\\%$\n",
      "\t\t\t& $1.0 \\times 10^{-3}$ & $\\SI{1.0}{\\milli\\second}$ & $4.7\\%$ \\\\\n",
      "\t\t\\midrule\n",
      "\t\t\\multirow{4}{2.7cm}[-0.5em]{\\raggedleft Two comp. LIF $c_{12} = \\SI{100}{\\nano\\siemens}$}\n",
      "\t\t\t& standard\n",
      "\t\t\t& $5.5 \\times 10^{-2}$ & $7.0\\%$\n",
      "\t\t\t& $1.0 \\times 10^{-3}$ & $\\SI{15.3}{\\milli\\second}$ & $4.8\\%$ \\\\\n",
      "\t\t\t& standard\\textsuperscript{\\dag}\n",
      "\t\t\t& $1.7 \\times 10^{-1}$ & $5.2\\%$\n",
      "\t\t\t& $4.8 \\times 10^{-3}$ & $\\SI{13.3}{\\milli\\second}$ & $4.0\\%$ \\\\\n",
      "\t\t\\cmidrule{2-7}\n",
      "\t\t\t& noise model\n",
      "\t\t\t& $1.0 \\times 10^{-3}$ & $8.0\\%$\n",
      "\t\t\t& $1.0 \\times 10^{-3}$ & $\\SI{1.0}{\\milli\\second}$ & $8.0\\%$ \\\\\n",
      "\t\t\t& noise model\\textsuperscript{\\dag}\n",
      "\t\t\t& $8.5 \\times 10^{0}$ & $6.8\\%$\n",
      "\t\t\t& $8.5 \\times 10^{0}$ & $\\SI{1.8}{\\milli\\second}$ & $6.8\\%$ \\\\\n",
      "\t\t\\midrule\n",
      "\t\t\\multirow{4}{2.7cm}[-0.5em]{\\raggedleft Two comp. LIF $c_{12} = \\SI{200}{\\nano\\siemens}$}\n",
      "\t\t\t& standard\n",
      "\t\t\t& $3.6 \\times 10^{-2}$ & $8.9\\%$\n",
      "\t\t\t& $1.0 \\times 10^{-3}$ & $\\SI{23.7}{\\milli\\second}$ & $7.0\\%$ \\\\\n",
      "\t\t\t& standard\\textsuperscript{\\dag}\n",
      "\t\t\t& $4.4 \\times 10^{-2}$ & $7.0\\%$\n",
      "\t\t\t& $3.2 \\times 10^{-1}$ & $\\SI{17.9}{\\milli\\second}$ & $5.7\\%$ \\\\\n",
      "\t\t\\cmidrule{2-7}\n",
      "\t\t\t& noise model\n",
      "\t\t\t& $2.0 \\times 10^{0}$ & $14.3\\%$\n",
      "\t\t\t& $2.0 \\times 10^{0}$ & $\\SI{1.0}{\\milli\\second}$ & $14.3\\%$ \\\\\n",
      "\t\t\t& noise model\\textsuperscript{\\dag}\n",
      "\t\t\t& $8.5 \\times 10^{0}$ & $9.1\\%$\n",
      "\t\t\t& $8.8 \\times 10^{0}$ & $\\SI{17.6}{\\milli\\second}$ & $9.0\\%$ \\\\\n",
      "\t\t\\midrule\n"
     ]
    }
   ],
   "source": [
    "col1 = [\n",
    "    r\"\\multirow{4}{2.7cm}[-0.5em]{\\raggedleft LIF}\",\n",
    "    \"\",\n",
    "    \"\",\n",
    "    \"\",\n",
    "    r\"\\multirow{4}{2.7cm}[-0.5em]{\\raggedleft Two comp. LIF $c_{12} = \\SI{50}{\\nano\\siemens}$}\",\n",
    "    \"\",\n",
    "    \"\",\n",
    "    \"\",\n",
    "    r\"\\multirow{4}{2.7cm}[-0.5em]{\\raggedleft Two comp. LIF $c_{12} = \\SI{100}{\\nano\\siemens}$}\",\n",
    "    \"\",\n",
    "    \"\",\n",
    "    \"\",\n",
    "    r\"\\multirow{4}{2.7cm}[-0.5em]{\\raggedleft Two comp. LIF $c_{12} = \\SI{200}{\\nano\\siemens}$}\",\n",
    "    \"\",\n",
    "    \"\",\n",
    "    \"\",\n",
    "]\n",
    "col2 = [\n",
    "    \"standard\",\n",
    "    \"two layers\",\n",
    "    \"standard\",\n",
    "    \"noise model\",\n",
    "    \"standard\",\n",
    "    \"noise model\",\n",
    "    \"standard\",\n",
    "    \"noise model\",\n",
    "]\n",
    "\n",
    "for i, (key, subth) in enumerate(keys):\n",
    "    entry = data[subth][key]\n",
    "    if col1[i]:\n",
    "        print(\"\\t\\t{}\".format(col1[i]))\n",
    "    print(\"\\t\\t\\t& {}{}\".format(col2[i // 2], r\"\\textsuperscript{\\dag}\" if i % 2 == 1 else \"\"))\n",
    "    print(\"\\t\\t\\t& ${}$ & ${}\\\\%$\\n\\t\\t\\t& ${}$ & $\\\\SI{{{}}}{{\\\\milli\\\\second}}$ & ${}\\\\%$ \\\\\\\\\".format(\n",
    "        format_latex_exponential(entry[\"without_pre_filter\"][\"lambda\"]),\n",
    "        format_percentage(entry[\"without_pre_filter\"][\"err\"]),\n",
    "        format_latex_exponential(entry[\"with_pre_filter\"][\"lambda\"]),\n",
    "        format_milliseconds(entry[\"with_pre_filter\"][\"tau\"]),\n",
    "        format_percentage(entry[\"with_pre_filter\"][\"err\"]),\n",
    "    ))\n",
    "    if ((i + 1) % 4 == 2):\n",
    "        print(r\"\t\t\\cmidrule{2-7}\")\n",
    "    elif ((i + 1) % 4 == 0):\n",
    "        print(r\"\t\t\\midrule\")        "
   ]
  },
  {
   "cell_type": "code",
   "execution_count": 54,
   "id": "1dc1edda-ee33-47bc-84bd-9447f814f623",
   "metadata": {},
   "outputs": [
    {
     "name": "stdout",
     "output_type": "stream",
     "text": [
      "{   ('linear', False): 93.71019332979176,\n",
      "    ('linear', True): 68.21121719582916,\n",
      "    ('linear_2d', False): 15.644344352347058,\n",
      "    ('linear_2d', True): 11.721022975334806,\n",
      "    ('gc50_no_noise', False): 0.011553030629911948,\n",
      "    ('gc50_no_noise', True): 0.10748502514263064,\n",
      "    ('gc50_noisy', False): 0.001241777787729667,\n",
      "    ('gc50_noisy', True): 0.001,\n",
      "    ('gc100_no_noise', False): 0.05493029257717619,\n",
      "    ('gc100_no_noise', True): 0.16937141873226041,\n",
      "    ('gc100_noisy', False): 0.001,\n",
      "    ('gc100_noisy', True): 8.531678524172806,\n",
      "    ('gc200_no_noise', False): 0.035622478902624426,\n",
      "    ('gc200_no_noise', True): 0.04423520304514771,\n",
      "    ('gc200_noisy', False): 1.9567531884454445,\n",
      "    ('gc200_noisy', True): 8.531678524172806}\n"
     ]
    }
   ],
   "source": [
    "NETWORK_REG_MAP = {}\n",
    "\n",
    "for i, (key, subth) in enumerate(keys):\n",
    "    NETWORK_REG_MAP[key, subth == \"subth\"] = data[subth][key][\"without_pre_filter\"][\"lambda\"]\n",
    "\n",
    "import pprint\n",
    "pprint.PrettyPrinter(indent=4, sort_dicts=False).pprint(NETWORK_REG_MAP)"
   ]
  },
  {
   "cell_type": "code",
   "execution_count": 55,
   "id": "612929d9-435a-432b-901a-3773c60a2fe1",
   "metadata": {},
   "outputs": [
    {
     "name": "stdout",
     "output_type": "stream",
     "text": [
      "{   ('linear', False): 38.28883040491414,\n",
      "    ('linear', True): 38.28883040491414,\n",
      "    ('linear_2d', False): 8.78160033390695,\n",
      "    ('linear_2d', True): 8.531678524172806,\n",
      "    ('gc50_no_noise', False): 0.001,\n",
      "    ('gc50_no_noise', True): 0.0015420120740987876,\n",
      "    ('gc50_noisy', False): 0.001241777787729667,\n",
      "    ('gc50_noisy', True): 0.001,\n",
      "    ('gc100_no_noise', False): 0.001,\n",
      "    ('gc100_no_noise', True): 0.004754621911497074,\n",
      "    ('gc100_noisy', False): 0.001,\n",
      "    ('gc100_noisy', True): 8.531678524172806,\n",
      "    ('gc200_no_noise', False): 0.001,\n",
      "    ('gc200_no_noise', True): 0.32431854788917563,\n",
      "    ('gc200_noisy', False): 1.9567531884454445,\n",
      "    ('gc200_noisy', True): 8.78160033390695}\n"
     ]
    }
   ],
   "source": [
    "NETWORK_FILTER_REG_MAP = {}\n",
    "\n",
    "for i, (key, subth) in enumerate(keys):\n",
    "    NETWORK_FILTER_REG_MAP[key, subth == \"subth\"] = data[subth][key][\"with_pre_filter\"][\"lambda\"]\n",
    "\n",
    "import pprint\n",
    "pprint.PrettyPrinter(indent=4, sort_dicts=False).pprint(NETWORK_FILTER_REG_MAP)"
   ]
  },
  {
   "cell_type": "code",
   "execution_count": 56,
   "id": "3170ce6b-1b0e-437a-91ae-b48e6d22883b",
   "metadata": {},
   "outputs": [
    {
     "name": "stdout",
     "output_type": "stream",
     "text": [
      "{   ('linear', False): 0.03650144272877066,\n",
      "    ('linear', True): 0.02056221561374837,\n",
      "    ('linear_2d', False): 0.011583232862547104,\n",
      "    ('linear_2d', True): 0.011583232862547104,\n",
      "    ('gc50_no_noise', False): 0.013511360701886646,\n",
      "    ('gc50_no_noise', True): 0.011583232862547104,\n",
      "    ('gc50_noisy', False): 0.001,\n",
      "    ('gc50_noisy', True): 0.001,\n",
      "    ('gc100_no_noise', False): 0.015325347622834329,\n",
      "    ('gc100_no_noise', True): 0.013323553212817248,\n",
      "    ('gc100_noisy', False): 0.001,\n",
      "    ('gc100_noisy', True): 0.0017751707021477282,\n",
      "    ('gc200_no_noise', False): 0.023651581311899404,\n",
      "    ('gc200_no_noise', True): 0.017876382359836518,\n",
      "    ('gc200_noisy', False): 0.001,\n",
      "    ('gc200_noisy', True): 0.017627901206922238}\n"
     ]
    }
   ],
   "source": [
    "NETWORK_FILTER_TAU_MAP = {}\n",
    "\n",
    "for i, (key, subth) in enumerate(keys):\n",
    "    NETWORK_FILTER_TAU_MAP[key, subth == \"subth\"] = data[subth][key][\"with_pre_filter\"][\"tau\"]\n",
    "\n",
    "import pprint\n",
    "pprint.PrettyPrinter(indent=4, sort_dicts=False).pprint(NETWORK_FILTER_TAU_MAP)"
   ]
  },
  {
   "cell_type": "code",
   "execution_count": null,
   "id": "79c1df1d-1fcf-4117-83d5-d043dae8020a",
   "metadata": {},
   "outputs": [],
   "source": []
  }
 ],
 "metadata": {
  "kernelspec": {
   "display_name": "Python 3",
   "language": "python",
   "name": "python3"
  },
  "language_info": {
   "codemirror_mode": {
    "name": "ipython",
    "version": 3
   },
   "file_extension": ".py",
   "mimetype": "text/x-python",
   "name": "python",
   "nbconvert_exporter": "python",
   "pygments_lexer": "ipython3",
   "version": "3.9.6"
  }
 },
 "nbformat": 4,
 "nbformat_minor": 5
}
