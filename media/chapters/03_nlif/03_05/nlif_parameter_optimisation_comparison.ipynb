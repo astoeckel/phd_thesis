{
 "cells": [
  {
   "cell_type": "code",
   "execution_count": 147,
   "id": "05b01e62-8ac0-4a3c-ae57-8484d665c97f",
   "metadata": {},
   "outputs": [],
   "source": [
    "import h5py\n",
    "import numpy as np\n",
    "import matplotlib.pyplot as plt\n",
    "\n",
    "plt.rcParams[\"figure.dpi\"] = 200"
   ]
  },
  {
   "cell_type": "code",
   "execution_count": 156,
   "id": "93a88488-f359-4016-bf05-811890e492d9",
   "metadata": {},
   "outputs": [],
   "source": [
    "with h5py.File('../../../../data/nlif_parameter_optimisation_comparison.h5', 'r') as f:\n",
    "    params = f['params'][()]\n",
    "    errs = f['errs'][()]\n",
    "    smpls = f['smpls'][()]"
   ]
  },
  {
   "cell_type": "code",
   "execution_count": null,
   "id": "aa63957c-ada8-4aa0-aa51-7858669ca291",
   "metadata": {},
   "outputs": [],
   "source": [
    "fig, axs = plt.subplots(2, 3, figsize=(7.5, 4.0))\n",
    "epochs = np.arange(errs.shape[-1])\n",
    "for j in range(2):\n",
    "    for i in range(3):\n",
    "        axs[j, i].semilogy(epochs, np.nanmedian(errs[i, 0, 0, :, 1], axis=0), color='tab:blue')\n",
    "        axs[j, i].fill_between(epochs, np.percentile(errs[i, 0, 0, :, 1], 25, axis=0), np.percentile(errs[i, 0, 0, :, 1], 75, axis=0), color='tab:blue', linewidth=0, alpha=0.5)\n",
    "\n",
    "        axs[j, i].semilogy(epochs, np.nanmedian(errs[i, 1, 0, :, 1], axis=0), color='tab:orange')\n",
    "        axs[j, i].fill_between(epochs, np.percentile(errs[i, 1, 0, :, 1], 25, axis=0), np.percentile(errs[i, 1, 0, :, 1], 75, axis=0), color='tab:orange', linewidth=0, alpha=0.5)\n",
    "\n",
    "        axs[j, i].semilogy(epochs, np.nanmedian(errs[i, 0, 0, :, 0], axis=0), '--', color='tab:blue')\n",
    "        axs[j, i].semilogy(epochs, np.nanmedian(errs[i, 1, 0, :, 0], axis=0), '--', color='tab:orange')\n",
    "\n",
    "        axs[j, i].set_ylim(3e-3, 1e-1)\n",
    "        if j == 1:\n",
    "            axs[j, i].set_xlim(0, 50)\n",
    "        else:\n",
    "            axs[j, i].set_xlim(0, epochs[-1])"
   ]
  },
  {
   "cell_type": "code",
   "execution_count": 121,
   "id": "6a137782-69e9-491c-bb67-d483a0f113c2",
   "metadata": {},
   "outputs": [
    {
     "data": {
      "text/plain": [
       "array([[1.e-05],\n",
       "       [5.e-02]])"
      ]
     },
     "execution_count": 121,
     "metadata": {},
     "output_type": "execute_result"
    }
   ],
   "source": [
    "params"
   ]
  },
  {
   "cell_type": "code",
   "execution_count": null,
   "id": "6ee03811-85ee-4d89-8d96-c7b8cc6b022e",
   "metadata": {},
   "outputs": [],
   "source": []
  }
 ],
 "metadata": {
  "kernelspec": {
   "display_name": "Python 3",
   "language": "python",
   "name": "python3"
  },
  "language_info": {
   "codemirror_mode": {
    "name": "ipython",
    "version": 3
   },
   "file_extension": ".py",
   "mimetype": "text/x-python",
   "name": "python",
   "nbconvert_exporter": "python",
   "pygments_lexer": "ipython3",
   "version": "3.9.6"
  }
 },
 "nbformat": 4,
 "nbformat_minor": 5
}
