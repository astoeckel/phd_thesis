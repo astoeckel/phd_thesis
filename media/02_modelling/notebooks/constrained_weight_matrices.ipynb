{
 "cells": [
  {
   "cell_type": "code",
   "execution_count": 1,
   "id": "dafdfeaf-65ea-4400-b0c4-2e726457576a",
   "metadata": {},
   "outputs": [],
   "source": [
    "import matplotlib as mpl\n",
    "import matplotlib.pyplot as plt\n",
    "\n",
    "import sys\n",
    "sys.path.append('../../code/lib')\n",
    "\n",
    "import lif_utils\n",
    "import numpy as np\n",
    "import scipy.optimize"
   ]
  },
  {
   "cell_type": "code",
   "execution_count": 60,
   "id": "cdc6f29c-62a0-4716-b85e-bd33c4ea4d33",
   "metadata": {},
   "outputs": [],
   "source": [
    "np.random.seed(48988)\n",
    "\n",
    "# Generate some random post-population encoders\n",
    "N_post = 31\n",
    "N_pre = 32\n",
    "d_pre = 3\n",
    "d_post = 3\n",
    "E_post= np.random.normal(0, 1, (N_post, d_post))\n",
    "E_post /= np.linalg.norm(E_post, axis=1)[:, None]\n",
    "E_pre= np.random.normal(0, 1, (N_pre, d_pre))\n",
    "E_pre /= np.linalg.norm(E_pre, axis=1)[:, None]"
   ]
  },
  {
   "cell_type": "code",
   "execution_count": 61,
   "id": "c6259a4f-4dec-401f-bf51-65485dbb4f97",
   "metadata": {},
   "outputs": [],
   "source": [
    "# Generate some pre-population tuning curves\n",
    "max_rates = np.random.uniform(50, 100, N_pre)\n",
    "x_intercepts = np.random.uniform(-0.95, 0.95, N_pre)\n",
    "\n",
    "J1 = lif_utils.lif_rate_inv(max_rates)\n",
    "J0 = lif_utils.lif_rate_inv(1e-3)\n",
    "\n",
    "gains = (J1 - J0) / (1 - x_intercepts)\n",
    "biases =  (J0 - x_intercepts * J1) / (1 - x_intercepts)"
   ]
  },
  {
   "cell_type": "code",
   "execution_count": 62,
   "id": "59566577-1fd0-4561-939d-ae4465040180",
   "metadata": {},
   "outputs": [],
   "source": [
    "# Generate some samples\n",
    "N_smpls = 1000\n",
    "xs = np.random.normal(0, 1, (N_smpls, d_pre))\n",
    "xs /= np.linalg.norm(xs, axis=1)[:, None]\n",
    "xs *= np.power(np.random.uniform(0, 1, N_smpls)[:, None], 1 / d_pre)\n",
    "Js = gains[None, :] * (xs @ E_pre.T) + biases[None, :]\n",
    "As = lif_utils.lif_rate(Js)"
   ]
  },
  {
   "cell_type": "code",
   "execution_count": 63,
   "id": "46f628ba-5b94-432d-8eaf-4de1473cd426",
   "metadata": {},
   "outputs": [],
   "source": [
    "T = np.eye(d_post)"
   ]
  },
  {
   "cell_type": "code",
   "execution_count": 64,
   "id": "219f6783-e598-4bbb-a385-79cd46dd7814",
   "metadata": {},
   "outputs": [],
   "source": [
    "# Compute the decoders for some random transformation\n",
    "ys = xs @ T.T\n",
    "\n",
    "def loss_l1(D, σ=1):\n",
    "    D = D.reshape(d_post, N_pre)\n",
    "    return np.sum(np.square(ys - As @ D.T)) + np.square(σ) * N_smpls * np.sum(np.abs(D))\n",
    "\n",
    "def loss_l2(D, σ=1):\n",
    "    D = D.reshape(d_post, N_pre)\n",
    "    return np.sum(np.square(ys - As @ D.T)) + np.square(σ) * N_smpls * np.sum(np.square(D))\n",
    "\n",
    "D0 = np.random.randn(d_post, N_pre)\n",
    "D_L1 = scipy.optimize.minimize(loss_l1, x0=D0.flatten()).x.reshape(d_post, N_pre)\n",
    "D_L2 = scipy.optimize.minimize(loss_l2, x0=D0.flatten()).x.reshape(d_post, N_pre)"
   ]
  },
  {
   "cell_type": "code",
   "execution_count": 65,
   "id": "ce8041f1-fe5e-464f-845e-ac1685c3f39c",
   "metadata": {},
   "outputs": [],
   "source": [
    "# Solve for non-negative weights, assuming that approx. the last ten pre-neurons are inhibitory\n",
    "N_inh = int(0.3 * N_pre)\n",
    "N0, N1, N2 = 0, N_pre - N_inh, N_pre\n",
    "W_dale = np.zeros((N_post, N_pre))\n",
    "J_tar = ys @ E_post.T\n",
    "As_signed = np.concatenate((As[:, N0:N1], -As[:, N1:N2]), axis=1)\n",
    "σ = 0.1\n",
    "for i in range(N_post):\n",
    "    W_dale[i] = scipy.optimize.nnls(\n",
    "        As_signed.T @ As_signed + N_smpls * np.square(σ) * np.eye(N_pre),\n",
    "        As_signed.T @ J_tar[:, i]\n",
    "    )[0]\n",
    "W_dale[:, N1:N2] *= -1"
   ]
  },
  {
   "cell_type": "code",
   "execution_count": 66,
   "id": "73919d4c-cb02-4f6e-b6f2-4b4b0da013e6",
   "metadata": {},
   "outputs": [
    {
     "data": {
      "text/plain": [
       "(0.07603926310715028, 0.037696008748609566, 0.0817087334840376)"
      ]
     },
     "execution_count": 66,
     "metadata": {},
     "output_type": "execute_result"
    }
   ],
   "source": [
    "np.sqrt(np.mean(np.square(ys - As @ D_L1.T))),\\\n",
    "np.sqrt(np.mean(np.square(ys - As @ D_L2.T))),\\\n",
    "np.sqrt(np.mean(np.square(J_tar - As @ W_dale.T))),"
   ]
  },
  {
   "cell_type": "code",
   "execution_count": 67,
   "id": "aeb165ae-4cd8-4702-a06d-86ce449c2948",
   "metadata": {},
   "outputs": [],
   "source": [
    "def plot_weight_matrix(E, D):\n",
    "    fig, axs = plt.subplots(2, 2, figsize=(5, 5), gridspec_kw={\n",
    "        \"width_ratios\": [1, 12],\n",
    "        \"height_ratios\": [1, 12],\n",
    "        \"hspace\": 0.1,\n",
    "        \"wspace\": 0.1,\n",
    "    })\n",
    "\n",
    "    for spine in [\"left\", \"right\", \"top\", \"bottom\"]:\n",
    "        axs[0, 0].spines[spine].set_visible(False)\n",
    "    axs[0, 0].set_xticks([])\n",
    "    axs[0, 0].set_yticks([])\n",
    "\n",
    "    axs[1, 0].imshow(E / np.percentile(np.abs(E), 95), cmap='RdBu', vmin=-1, vmax=1)\n",
    "    axs[1, 0].set_aspect('auto')\n",
    "    axs[1, 0].set_yticklabels([])\n",
    "    axs[1, 0].set_xticks([])\n",
    "    axs[1, 0].yaxis.tick_right()\n",
    "    axs[1, 0].set_ylabel(\"Encoder $\\\\mathbf{E}$\")\n",
    "\n",
    "    axs[0, 1].imshow(D / np.percentile(np.abs(D), 95), cmap='RdBu', vmin=-1, vmax=1)\n",
    "    axs[0, 1].set_aspect('auto')\n",
    "    axs[0, 1].set_xticklabels([])\n",
    "    axs[0, 1].set_yticks([])\n",
    "    axs[0, 1].set_title(\"Decoder $\\\\mathbf{D}$\")\n",
    "\n",
    "    W = E @ D\n",
    "    axs[1, 1].imshow(W / np.percentile(np.abs(W), 95), cmap='RdBu', vmin=-1, vmax=1)\n",
    "    axs[1, 1].set_aspect('auto')\n",
    "    axs[1, 1].set_xlabel(\"Pre-neuron index $j$\")\n",
    "    axs[1, 1].yaxis.tick_right()\n",
    "    axs[1, 1].yaxis.set_label_position(\"right\")\n",
    "    axs[1, 1].set_ylabel(\"Post-neuron index $i$\")"
   ]
  },
  {
   "cell_type": "code",
   "execution_count": 68,
   "id": "a78d92b1-7f6b-45b8-9354-e0ef8593f6c0",
   "metadata": {},
   "outputs": [
    {
     "data": {
      "image/png": "[encoded data removed]",
      "text/plain": [
       "<Figure size 360x360 with 4 Axes>"
      ]
     },
     "metadata": {
      "needs_background": "light"
     },
     "output_type": "display_data"
    }
   ],
   "source": [
    "plot_weight_matrix(E_post, D_L2)"
   ]
  },
  {
   "cell_type": "code",
   "execution_count": 69,
   "id": "573fa43a-c196-4ef0-b106-917ac4c1020e",
   "metadata": {},
   "outputs": [
    {
     "data": {
      "image/png": "[encoded data removed]",
      "text/plain": [
       "<Figure size 360x360 with 4 Axes>"
      ]
     },
     "metadata": {
      "needs_background": "light"
     },
     "output_type": "display_data"
    }
   ],
   "source": [
    "plot_weight_matrix(E_post, D_L1)"
   ]
  },
  {
   "cell_type": "code",
   "execution_count": 70,
   "id": "f00a355c-c56d-4d84-86ce-dfbdc59772b2",
   "metadata": {},
   "outputs": [
    {
     "data": {
      "text/plain": [
       "<matplotlib.image.AxesImage at 0x7f708b65dca0>"
      ]
     },
     "execution_count": 70,
     "metadata": {},
     "output_type": "execute_result"
    },
    {
     "data": {
      "image/png": "[encoded data removed]",
      "text/plain": [
       "<Figure size 432x288 with 1 Axes>"
      ]
     },
     "metadata": {
      "needs_background": "light"
     },
     "output_type": "display_data"
    }
   ],
   "source": [
    "fig, ax = plt.subplots()\n",
    "ax.imshow(W_dale / np.percentile(np.abs(W_dale), 95), cmap='RdBu', vmin=-1, vmax=1)"
   ]
  }
 ],
 "metadata": {
  "kernelspec": {
   "display_name": "Python 3",
   "language": "python",
   "name": "python3"
  },
  "language_info": {
   "codemirror_mode": {
    "name": "ipython",
    "version": 3
   },
   "file_extension": ".py",
   "mimetype": "text/x-python",
   "name": "python",
   "nbconvert_exporter": "python",
   "pygments_lexer": "ipython3",
   "version": "3.9.5"
  }
 },
 "nbformat": 4,
 "nbformat_minor": 5
}
